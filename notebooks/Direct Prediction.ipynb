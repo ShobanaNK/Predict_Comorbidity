{
 "cells": [
  {
   "cell_type": "code",
   "execution_count": 1,
   "id": "fd1af8f4",
   "metadata": {},
   "outputs": [
    {
     "data": {
      "text/html": [
       "\n",
       "            <div>\n",
       "                <p><b>SparkSession - in-memory</b></p>\n",
       "                \n",
       "        <div>\n",
       "            <p><b>SparkContext</b></p>\n",
       "\n",
       "            <p><a href=\"http://DESKTOP-0OH3S55:4043\">Spark UI</a></p>\n",
       "\n",
       "            <dl>\n",
       "              <dt>Version</dt>\n",
       "                <dd><code>v3.3.2</code></dd>\n",
       "              <dt>Master</dt>\n",
       "                <dd><code>local[*]</code></dd>\n",
       "              <dt>AppName</dt>\n",
       "                <dd><code>data_model</code></dd>\n",
       "            </dl>\n",
       "        </div>\n",
       "        \n",
       "            </div>\n",
       "        "
      ],
      "text/plain": [
       "<pyspark.sql.session.SparkSession at 0x24b44e839a0>"
      ]
     },
     "execution_count": 1,
     "metadata": {},
     "output_type": "execute_result"
    }
   ],
   "source": [
    "import os\n",
    "import sys\n",
    "\n",
    "os.environ[\"PYSPARK_PYTHON\"]=\"C:\\Spark\\spark-3.3.2-bin-hadoop2\\python\"\n",
    "os.environ[\"JAVA_HOME\"] = \"C:\\Program Files\\Java\\jdk-18.0.2.1\"\n",
    "os.environ[\"SPARK_HOME\"] = \"C:\\Spark\\spark-3.3.2-bin-hadoop2\"\n",
    "os.environ[\"PYLIB\"] = os.environ[\"SPARK_HOME\"] + \"/python/lib\"\n",
    "sys.path.insert(0, os.environ[\"PYLIB\"] + \"/py4j-0.10.9.5-src.zip\")\n",
    "sys.path.insert(0, os.environ[\"PYLIB\"] + \"/pyspark.zip\")\n",
    "\n",
    "MAX_MEMORY = \"14G\"\n",
    "from pyspark.sql import SparkSession\n",
    "spark = SparkSession \\\n",
    "    .builder \\\n",
    "    .appName(\"direct_predict\") \\\n",
    "    .config(\"spark.driver.memory\", MAX_MEMORY) \\\n",
    "    .getOrCreate()    \n",
    "spark"
   ]
  },
  {
   "cell_type": "code",
   "execution_count": 2,
   "id": "1d3a3379",
   "metadata": {},
   "outputs": [],
   "source": [
    "import pandas as pd\n",
    "\n",
    "pd.set_option('display.max_columns', None)"
   ]
  },
  {
   "cell_type": "code",
   "execution_count": 4,
   "id": "062d1c32",
   "metadata": {
    "scrolled": true
   },
   "outputs": [
    {
     "name": "stdout",
     "output_type": "stream",
     "text": [
      "root\n",
      " |-- age_imputed: double (nullable = true)\n",
      " |-- bg2_lactate_imputed: double (nullable = true)\n",
      " |-- basophils_imputed: double (nullable = true)\n",
      " |-- eosinophils_imputed: double (nullable = true)\n",
      " |-- lymphocytes_imputed: double (nullable = true)\n",
      " |-- monocytes_imputed: double (nullable = true)\n",
      " |-- neutrophils_imputed: double (nullable = true)\n",
      " |-- albumin_imputed: double (nullable = true)\n",
      " |-- aniongap_imputed: double (nullable = true)\n",
      " |-- bicarbonate_imputed: double (nullable = true)\n",
      " |-- bun_imputed: double (nullable = true)\n",
      " |-- calcium_imputed: double (nullable = true)\n",
      " |-- chloride_imputed: double (nullable = true)\n",
      " |-- creatinine_imputed: double (nullable = true)\n",
      " |-- glucose_imputed: double (nullable = true)\n",
      " |-- sodium_imputed: double (nullable = true)\n",
      " |-- potassium_imputed: double (nullable = true)\n",
      " |-- inr_imputed: double (nullable = true)\n",
      " |-- pt_imputed: double (nullable = true)\n",
      " |-- ptt_imputed: double (nullable = true)\n",
      " |-- hematocrit_imputed: double (nullable = true)\n",
      " |-- hemoglobin_imputed: double (nullable = true)\n",
      " |-- mch_imputed: double (nullable = true)\n",
      " |-- mchc_imputed: double (nullable = true)\n",
      " |-- mcv_imputed: double (nullable = true)\n",
      " |-- platelet_imputed: double (nullable = true)\n",
      " |-- rbc_imputed: double (nullable = true)\n",
      " |-- rdw_imputed: double (nullable = true)\n",
      " |-- wbc_imputed: double (nullable = true)\n",
      " |-- scr_min_imputed: double (nullable = true)\n",
      " |-- ckd_imputed: double (nullable = true)\n",
      " |-- mdrd_est_imputed: double (nullable = true)\n",
      " |-- scr_baseline_imputed: double (nullable = true)\n",
      " |-- alt_imputed: double (nullable = true)\n",
      " |-- alp_imputed: double (nullable = true)\n",
      " |-- ast_imputed: double (nullable = true)\n",
      " |-- bilirubin_total_imputed: double (nullable = true)\n",
      " |-- charlson_comorbidity_index_imputed: double (nullable = true)\n",
      " |-- gender: string (nullable = true)\n",
      "\n"
     ]
    },
    {
     "data": {
      "text/plain": [
       "63887"
      ]
     },
     "execution_count": 4,
     "metadata": {},
     "output_type": "execute_result"
    }
   ],
   "source": [
    "model_data = spark.read.option(\"header\",\"true\").option(\"inferSchema\",\"true\").csv(\"../data/EDA/final_data_for_modelling.csv\")\n",
    "model_data = model_data.drop(\"_c0\")\n",
    "model_data.printSchema()\n",
    "model_data.count()"
   ]
  },
  {
   "cell_type": "code",
   "execution_count": null,
   "id": "61ed86d7",
   "metadata": {},
   "outputs": [],
   "source": []
  },
  {
   "cell_type": "code",
   "execution_count": 5,
   "id": "549e9fcb",
   "metadata": {},
   "outputs": [
    {
     "name": "stdout",
     "output_type": "stream",
     "text": [
      "Size of training data 44472\n",
      "Size of test data 19415\n"
     ]
    }
   ],
   "source": [
    "# Splitting the data into train and test (Remember you are expected to compare the model later)\n",
    "train, test = model_data.randomSplit([0.7,0.3])\n",
    "print(\"Size of training data {0}\".format(train.count()))\n",
    "print(\"Size of test data {0}\".format(test.count()))"
   ]
  },
  {
   "cell_type": "code",
   "execution_count": 9,
   "id": "74d69a5b",
   "metadata": {},
   "outputs": [
    {
     "name": "stdout",
     "output_type": "stream",
     "text": [
      "['age_imputed', 'bg2_lactate_imputed', 'basophils_imputed', 'eosinophils_imputed', 'lymphocytes_imputed', 'monocytes_imputed', 'neutrophils_imputed', 'albumin_imputed', 'aniongap_imputed', 'bicarbonate_imputed', 'bun_imputed', 'calcium_imputed', 'chloride_imputed', 'creatinine_imputed', 'glucose_imputed', 'sodium_imputed', 'potassium_imputed', 'inr_imputed', 'pt_imputed', 'ptt_imputed', 'hematocrit_imputed', 'hemoglobin_imputed', 'mch_imputed', 'mchc_imputed', 'mcv_imputed', 'platelet_imputed', 'rbc_imputed', 'rdw_imputed', 'wbc_imputed', 'scr_min_imputed', 'ckd_imputed', 'mdrd_est_imputed', 'scr_baseline_imputed', 'alt_imputed', 'alp_imputed', 'ast_imputed', 'bilirubin_total_imputed', 'gender_imputed']\n",
      "['gender']\n"
     ]
    }
   ],
   "source": [
    "# data transfo\n",
    "feature_cols =  model_data.columns\n",
    "feature_cols.remove(\"charlson_comorbidity_index_imputed\")\n",
    "feature_cols.remove(\"gender\")\n",
    "feature_cols.append(\"gender_imputed\")\n",
    "print(feature_cols)\n",
    "\n",
    "categorical_cols = [\"gender\"]\n",
    "print(categorical_cols)\n"
   ]
  },
  {
   "cell_type": "code",
   "execution_count": 12,
   "id": "a70265e5",
   "metadata": {},
   "outputs": [],
   "source": [
    "# model train\n",
    "from pyspark.ml.regression import LinearRegression\n",
    "from pyspark.ml import Pipeline\n",
    "from pyspark.ml.feature import StringIndexer, OneHotEncoder, VectorAssembler, StandardScaler\n",
    "\n",
    "si = StringIndexer(inputCols=categorical_cols, outputCols=[c+'_idx' for c in categorical_cols], handleInvalid=\"keep\")\n",
    "ohe = OneHotEncoder(inputCols=[c+'_idx' for c in categorical_cols], outputCols=[c+'_imputed' for c in categorical_cols], handleInvalid=\"keep\")\n",
    "assembler = VectorAssembler( inputCols = feature_cols, outputCol = 'features')\n",
    "scaler = StandardScaler( inputCol = 'features', outputCol = 'standardized')\n",
    "lr = LinearRegression( featuresCol=\"standardized\", labelCol=\"charlson_comorbidity_index_imputed\")\n",
    "\n",
    "\n",
    "pipeline =  Pipeline(stages = [si, ohe, assembler, scaler, lr])\n",
    "model = pipeline.fit(train)\n",
    "\n",
    "# save model\n",
    "model.write().overwrite().save(\"../model/direct_predict_model.pkl\")"
   ]
  },
  {
   "cell_type": "code",
   "execution_count": 21,
   "id": "ffc407fc",
   "metadata": {
    "scrolled": true
   },
   "outputs": [
    {
     "name": "stdout",
     "output_type": "stream",
     "text": [
      "Mean absolute error = 1.13\n",
      "Mean squared error = 2.6\n",
      "Median absolute error = 0.85\n",
      "Explain variance score = 0.59\n",
      "R2 score = 0.59\n"
     ]
    }
   ],
   "source": [
    "## training data\n",
    "predictionoutput = model.transform(train)\n",
    "y_test = predictionoutput.select(\"charlson_comorbidity_index_imputed\").toPandas()\n",
    "y_test_pred = predictionoutput.select(\"prediction\").toPandas()\n",
    "\n",
    "\n",
    "import sklearn.metrics as sm\n",
    "print(\"Mean absolute error =\", round(sm.mean_absolute_error(y_test, y_test_pred), 2)) \n",
    "print(\"Mean squared error =\", round(sm.mean_squared_error(y_test, y_test_pred), 2)) \n",
    "print(\"Median absolute error =\", round(sm.median_absolute_error(y_test, y_test_pred), 2)) \n",
    "print(\"Explain variance score =\", round(sm.explained_variance_score(y_test, y_test_pred), 2)) \n",
    "print(\"R2 score =\", round(sm.r2_score(y_test, y_test_pred), 2))"
   ]
  },
  {
   "cell_type": "code",
   "execution_count": 22,
   "id": "fc87b782",
   "metadata": {},
   "outputs": [
    {
     "name": "stdout",
     "output_type": "stream",
     "text": [
      "Mean absolute error = 1.14\n",
      "Mean squared error = 2.65\n",
      "Median absolute error = 0.86\n",
      "Explain variance score = 0.59\n",
      "R2 score = 0.59\n"
     ]
    }
   ],
   "source": [
    "## test data\n",
    "predictionoutput = model.transform(test)\n",
    "y_test = predictionoutput.select(\"charlson_comorbidity_index_imputed\").toPandas()\n",
    "y_test_pred = predictionoutput.select(\"prediction\").toPandas()\n",
    "\n",
    "\n",
    "import sklearn.metrics as sm\n",
    "print(\"Mean absolute error =\", round(sm.mean_absolute_error(y_test, y_test_pred), 2)) \n",
    "print(\"Mean squared error =\", round(sm.mean_squared_error(y_test, y_test_pred), 2)) \n",
    "print(\"Median absolute error =\", round(sm.median_absolute_error(y_test, y_test_pred), 2)) \n",
    "print(\"Explain variance score =\", round(sm.explained_variance_score(y_test, y_test_pred), 2)) \n",
    "print(\"R2 score =\", round(sm.r2_score(y_test, y_test_pred), 2))"
   ]
  },
  {
   "cell_type": "markdown",
   "id": "526354f9",
   "metadata": {},
   "source": [
    "The closer the r-squared value is to 1, the better the fit. "
   ]
  },
  {
   "cell_type": "code",
   "execution_count": 29,
   "id": "f029b64d",
   "metadata": {},
   "outputs": [
    {
     "data": {
      "image/png": "[encoded data removed]",
      "text/plain": [
       "<Figure size 432x288 with 1 Axes>"
      ]
     },
     "metadata": {
      "needs_background": "light"
     },
     "output_type": "display_data"
    }
   ],
   "source": [
    "import matplotlib.pyplot as plt\n",
    "%matplotlib inline \n",
    "import seaborn as sns\n",
    "\n",
    "fig, ax = plt.subplots()\n",
    "ax.scatter(y_test, y_test_pred)\n",
    "ax.plot([y_test.min(), y_test.max()], [y_test.min(), y_test.max()], 'k--', lw=4)\n",
    "ax.set_xlabel('Actual')\n",
    "ax.set_ylabel('Predicted')\n",
    "\n",
    "#y_test.reshape\n",
    "y_test_1, y_test_pred_1 = y_test.values.reshape(-1,1), y_test_pred.values.reshape(-1,1)\n",
    "ax.plot(y_test_1, y_test_pred_1)\n",
    "\n",
    "ax.set_title('R2: ' + str(round(sm.r2_score(y_test, y_test_pred), 2)))\n",
    "plt.show()"
   ]
  },
  {
   "cell_type": "code",
   "execution_count": null,
   "id": "eee2b7c1",
   "metadata": {},
   "outputs": [],
   "source": []
  }
 ],
 "metadata": {
  "kernelspec": {
   "display_name": "Python 3 (ipykernel)",
   "language": "python",
   "name": "python3"
  },
  "language_info": {
   "codemirror_mode": {
    "name": "ipython",
    "version": 3
   },
   "file_extension": ".py",
   "mimetype": "text/x-python",
   "name": "python",
   "nbconvert_exporter": "python",
   "pygments_lexer": "ipython3",
   "version": "3.9.12"
  }
 },
 "nbformat": 4,
 "nbformat_minor": 5
}
