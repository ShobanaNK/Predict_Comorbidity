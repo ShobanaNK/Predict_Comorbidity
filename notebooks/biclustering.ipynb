{
 "cells": [
  {
   "cell_type": "code",
   "execution_count": 1,
   "id": "ce2949be",
   "metadata": {},
   "outputs": [
    {
     "data": {
      "text/html": [
       "\n",
       "            <div>\n",
       "                <p><b>SparkSession - in-memory</b></p>\n",
       "                \n",
       "        <div>\n",
       "            <p><b>SparkContext</b></p>\n",
       "\n",
       "            <p><a href=\"http://DESKTOP-0OH3S55:4040\">Spark UI</a></p>\n",
       "\n",
       "            <dl>\n",
       "              <dt>Version</dt>\n",
       "                <dd><code>v3.3.2</code></dd>\n",
       "              <dt>Master</dt>\n",
       "                <dd><code>local[*]</code></dd>\n",
       "              <dt>AppName</dt>\n",
       "                <dd><code>r_model</code></dd>\n",
       "            </dl>\n",
       "        </div>\n",
       "        \n",
       "            </div>\n",
       "        "
      ],
      "text/plain": [
       "<pyspark.sql.session.SparkSession at 0x227a2cb1fd0>"
      ]
     },
     "execution_count": 1,
     "metadata": {},
     "output_type": "execute_result"
    }
   ],
   "source": [
    "import os\n",
    "import sys\n",
    "\n",
    "os.environ[\"PYSPARK_PYTHON\"]=\"C:\\Spark\\spark-3.3.2-bin-hadoop2\\python\"\n",
    "os.environ[\"JAVA_HOME\"] = \"C:\\Program Files\\Java\\jdk-18.0.2.1\"\n",
    "os.environ[\"SPARK_HOME\"] = \"C:\\Spark\\spark-3.3.2-bin-hadoop2\"\n",
    "os.environ[\"PYLIB\"] = os.environ[\"SPARK_HOME\"] + \"/python/lib\"\n",
    "sys.path.insert(0, os.environ[\"PYLIB\"] + \"/py4j-0.10.9.5-src.zip\")\n",
    "sys.path.insert(0, os.environ[\"PYLIB\"] + \"/pyspark.zip\")\n",
    "\n",
    "from pyspark.sql import SparkSession\n",
    "spark = SparkSession.builder.appName(\"r_model\").getOrCreate()\n",
    "spark"
   ]
  },
  {
   "cell_type": "code",
   "execution_count": 2,
   "id": "c7d843e9",
   "metadata": {
    "scrolled": true
   },
   "outputs": [
    {
     "name": "stdout",
     "output_type": "stream",
     "text": [
      "root\n",
      " |-- subject_id: string (nullable = true)\n",
      " |-- hadm_id: string (nullable = true)\n",
      " |-- age: string (nullable = true)\n",
      " |-- db_wbc: string (nullable = true)\n",
      " |-- basophils_abs: string (nullable = true)\n",
      " |-- eosinophils_abs: string (nullable = true)\n",
      " |-- lymphocytes_abs: string (nullable = true)\n",
      " |-- monocytes_abs: string (nullable = true)\n",
      " |-- neutrophils_abs: string (nullable = true)\n",
      " |-- basophils: string (nullable = true)\n",
      " |-- eosinophils: string (nullable = true)\n",
      " |-- lymphocytes: string (nullable = true)\n",
      " |-- monocytes: string (nullable = true)\n",
      " |-- neutrophils: string (nullable = true)\n",
      " |-- aniongap: string (nullable = true)\n",
      " |-- bicarbonate: string (nullable = true)\n",
      " |-- bun: string (nullable = true)\n",
      " |-- calcium: string (nullable = true)\n",
      " |-- chloride: string (nullable = true)\n",
      " |-- creatinine: string (nullable = true)\n",
      " |-- glucose: string (nullable = true)\n",
      " |-- sodium: string (nullable = true)\n",
      " |-- potassium: string (nullable = true)\n",
      " |-- inr: string (nullable = true)\n",
      " |-- pt: string (nullable = true)\n",
      " |-- ptt: string (nullable = true)\n",
      " |-- hematocrit: string (nullable = true)\n",
      " |-- hemoglobin: string (nullable = true)\n",
      " |-- mch: string (nullable = true)\n",
      " |-- mchc: string (nullable = true)\n",
      " |-- mcv: string (nullable = true)\n",
      " |-- platelet: string (nullable = true)\n",
      " |-- rbc: string (nullable = true)\n",
      " |-- rdw: string (nullable = true)\n",
      " |-- wbc: string (nullable = true)\n",
      " |-- scr_min: string (nullable = true)\n",
      " |-- ckd: string (nullable = true)\n",
      " |-- mdrd_est: string (nullable = true)\n",
      " |-- scr_baseline: string (nullable = true)\n",
      " |-- alt: string (nullable = true)\n",
      " |-- alp: string (nullable = true)\n",
      " |-- ast: string (nullable = true)\n",
      " |-- bilirubin_total: string (nullable = true)\n",
      " |-- gender: string (nullable = true)\n",
      "\n",
      "100\n"
     ]
    }
   ],
   "source": [
    "cluster_data = spark.read.option(\"header\",\"true\").csv(\"../data/EDA/clustering_data.csv\")\n",
    "cluster_data = cluster_data.drop(\"_c0\")\n",
    "cluster_data.printSchema()\n",
    "\n",
    "cluster_data = cluster_data.drop(\"subject_id\",\"hadm_id\")\n",
    "print(cluster_data.count())\n",
    "\n"
   ]
  },
  {
   "cell_type": "code",
   "execution_count": 5,
   "id": "ece15c63",
   "metadata": {
    "scrolled": true
   },
   "outputs": [
    {
     "name": "stdout",
     "output_type": "stream",
     "text": [
      "root\n",
      " |-- age: string (nullable = true)\n",
      " |-- db_wbc: string (nullable = true)\n",
      " |-- basophils_abs: string (nullable = true)\n",
      " |-- eosinophils_abs: string (nullable = true)\n",
      " |-- lymphocytes_abs: string (nullable = true)\n",
      " |-- monocytes_abs: string (nullable = true)\n",
      " |-- neutrophils_abs: string (nullable = true)\n",
      " |-- basophils: string (nullable = true)\n",
      " |-- eosinophils: string (nullable = true)\n",
      " |-- lymphocytes: string (nullable = true)\n",
      " |-- monocytes: string (nullable = true)\n",
      " |-- neutrophils: string (nullable = true)\n",
      " |-- aniongap: string (nullable = true)\n",
      " |-- bicarbonate: string (nullable = true)\n",
      " |-- bun: string (nullable = true)\n",
      " |-- calcium: string (nullable = true)\n",
      " |-- chloride: string (nullable = true)\n",
      " |-- creatinine: string (nullable = true)\n",
      " |-- glucose: string (nullable = true)\n",
      " |-- sodium: string (nullable = true)\n",
      " |-- potassium: string (nullable = true)\n",
      " |-- inr: string (nullable = true)\n",
      " |-- pt: string (nullable = true)\n",
      " |-- ptt: string (nullable = true)\n",
      " |-- hematocrit: string (nullable = true)\n",
      " |-- hemoglobin: string (nullable = true)\n",
      " |-- mch: string (nullable = true)\n",
      " |-- mchc: string (nullable = true)\n",
      " |-- mcv: string (nullable = true)\n",
      " |-- platelet: string (nullable = true)\n",
      " |-- rbc: string (nullable = true)\n",
      " |-- rdw: string (nullable = true)\n",
      " |-- wbc: string (nullable = true)\n",
      " |-- scr_min: string (nullable = true)\n",
      " |-- ckd: string (nullable = true)\n",
      " |-- mdrd_est: string (nullable = true)\n",
      " |-- scr_baseline: string (nullable = true)\n",
      " |-- alt: string (nullable = true)\n",
      " |-- alp: string (nullable = true)\n",
      " |-- ast: string (nullable = true)\n",
      " |-- bilirubin_total: string (nullable = true)\n",
      " |-- gender: string (nullable = true)\n",
      "\n",
      "None\n",
      "root\n",
      " |-- age: double (nullable = true)\n",
      " |-- db_wbc: double (nullable = true)\n",
      " |-- basophils_abs: double (nullable = true)\n",
      " |-- eosinophils_abs: double (nullable = true)\n",
      " |-- lymphocytes_abs: double (nullable = true)\n",
      " |-- monocytes_abs: double (nullable = true)\n",
      " |-- neutrophils_abs: double (nullable = true)\n",
      " |-- basophils: double (nullable = true)\n",
      " |-- eosinophils: double (nullable = true)\n",
      " |-- lymphocytes: double (nullable = true)\n",
      " |-- monocytes: double (nullable = true)\n",
      " |-- neutrophils: double (nullable = true)\n",
      " |-- aniongap: double (nullable = true)\n",
      " |-- bicarbonate: double (nullable = true)\n",
      " |-- bun: double (nullable = true)\n",
      " |-- calcium: double (nullable = true)\n",
      " |-- chloride: double (nullable = true)\n",
      " |-- creatinine: double (nullable = true)\n",
      " |-- glucose: double (nullable = true)\n",
      " |-- sodium: double (nullable = true)\n",
      " |-- potassium: double (nullable = true)\n",
      " |-- inr: double (nullable = true)\n",
      " |-- pt: double (nullable = true)\n",
      " |-- ptt: double (nullable = true)\n",
      " |-- hematocrit: double (nullable = true)\n",
      " |-- hemoglobin: double (nullable = true)\n",
      " |-- mch: double (nullable = true)\n",
      " |-- mchc: double (nullable = true)\n",
      " |-- mcv: double (nullable = true)\n",
      " |-- platelet: double (nullable = true)\n",
      " |-- rbc: double (nullable = true)\n",
      " |-- rdw: double (nullable = true)\n",
      " |-- wbc: double (nullable = true)\n",
      " |-- scr_min: double (nullable = true)\n",
      " |-- ckd: double (nullable = true)\n",
      " |-- mdrd_est: double (nullable = true)\n",
      " |-- scr_baseline: double (nullable = true)\n",
      " |-- alt: double (nullable = true)\n",
      " |-- alp: double (nullable = true)\n",
      " |-- ast: double (nullable = true)\n",
      " |-- bilirubin_total: double (nullable = true)\n",
      " |-- gender: string (nullable = true)\n",
      "\n",
      "None\n"
     ]
    }
   ],
   "source": [
    "import pyspark.sql.functions as F\n",
    "print(cluster_data.printSchema())\n",
    "numeric_cols = cluster_data.columns\n",
    "numeric_cols.remove(\"gender\")\n",
    "cluster_data = cluster_data.select(*(F.round(F.col(c).cast(\"double\"), 2).alias(c) for c in numeric_cols), \"gender\")\n",
    "print(cluster_data.printSchema())"
   ]
  },
  {
   "cell_type": "code",
   "execution_count": 6,
   "id": "9dd7aa15",
   "metadata": {},
   "outputs": [
    {
     "data": {
      "text/html": [
       "<div>\n",
       "<style scoped>\n",
       "    .dataframe tbody tr th:only-of-type {\n",
       "        vertical-align: middle;\n",
       "    }\n",
       "\n",
       "    .dataframe tbody tr th {\n",
       "        vertical-align: top;\n",
       "    }\n",
       "\n",
       "    .dataframe thead th {\n",
       "        text-align: right;\n",
       "    }\n",
       "</style>\n",
       "<table border=\"1\" class=\"dataframe\">\n",
       "  <thead>\n",
       "    <tr style=\"text-align: right;\">\n",
       "      <th></th>\n",
       "      <th>gender_imputed</th>\n",
       "      <th>count</th>\n",
       "    </tr>\n",
       "  </thead>\n",
       "  <tbody>\n",
       "    <tr>\n",
       "      <th>0</th>\n",
       "      <td>1</td>\n",
       "      <td>57</td>\n",
       "    </tr>\n",
       "    <tr>\n",
       "      <th>1</th>\n",
       "      <td>2</td>\n",
       "      <td>43</td>\n",
       "    </tr>\n",
       "  </tbody>\n",
       "</table>\n",
       "</div>"
      ],
      "text/plain": [
       "   gender_imputed  count\n",
       "0               1     57\n",
       "1               2     43"
      ]
     },
     "execution_count": 6,
     "metadata": {},
     "output_type": "execute_result"
    }
   ],
   "source": [
    "# replace gender M, F to 1, 2, anyother values to 0\n",
    "cluster_data = cluster_data.withColumn(\"gender_imputed\", F.when(F.col(\"gender\") == 'M', 1) \\\n",
    "                           .when(F.col(\"gender\") == 'F', 2) \\\n",
    "                           .otherwise(0))\n",
    "cluster_data.groupby(\"gender_imputed\").count().toPandas()"
   ]
  },
  {
   "cell_type": "code",
   "execution_count": 9,
   "id": "b6fdb921",
   "metadata": {
    "scrolled": false
   },
   "outputs": [
    {
     "name": "stdout",
     "output_type": "stream",
     "text": [
      "root\n",
      " |-- age: double (nullable = true)\n",
      " |-- db_wbc: double (nullable = true)\n",
      " |-- basophils_abs: double (nullable = true)\n",
      " |-- eosinophils_abs: double (nullable = true)\n",
      " |-- lymphocytes_abs: double (nullable = true)\n",
      " |-- monocytes_abs: double (nullable = true)\n",
      " |-- neutrophils_abs: double (nullable = true)\n",
      " |-- basophils: double (nullable = true)\n",
      " |-- eosinophils: double (nullable = true)\n",
      " |-- lymphocytes: double (nullable = true)\n",
      " |-- monocytes: double (nullable = true)\n",
      " |-- neutrophils: double (nullable = true)\n",
      " |-- aniongap: double (nullable = true)\n",
      " |-- bicarbonate: double (nullable = true)\n",
      " |-- bun: double (nullable = true)\n",
      " |-- calcium: double (nullable = true)\n",
      " |-- chloride: double (nullable = true)\n",
      " |-- creatinine: double (nullable = true)\n",
      " |-- glucose: double (nullable = true)\n",
      " |-- sodium: double (nullable = true)\n",
      " |-- potassium: double (nullable = true)\n",
      " |-- inr: double (nullable = true)\n",
      " |-- pt: double (nullable = true)\n",
      " |-- ptt: double (nullable = true)\n",
      " |-- hematocrit: double (nullable = true)\n",
      " |-- hemoglobin: double (nullable = true)\n",
      " |-- mch: double (nullable = true)\n",
      " |-- mchc: double (nullable = true)\n",
      " |-- mcv: double (nullable = true)\n",
      " |-- platelet: double (nullable = true)\n",
      " |-- rbc: double (nullable = true)\n",
      " |-- rdw: double (nullable = true)\n",
      " |-- wbc: double (nullable = true)\n",
      " |-- scr_min: double (nullable = true)\n",
      " |-- ckd: double (nullable = true)\n",
      " |-- mdrd_est: double (nullable = true)\n",
      " |-- scr_baseline: double (nullable = true)\n",
      " |-- alt: double (nullable = true)\n",
      " |-- alp: double (nullable = true)\n",
      " |-- ast: double (nullable = true)\n",
      " |-- bilirubin_total: double (nullable = true)\n",
      " |-- gender_imputed: integer (nullable = false)\n",
      "\n"
     ]
    }
   ],
   "source": [
    "cluster_data = cluster_data.drop(\"gender\")\n",
    "cluster_data.printSchema()"
   ]
  },
  {
   "cell_type": "code",
   "execution_count": null,
   "id": "17dc15ab",
   "metadata": {},
   "outputs": [],
   "source": []
  },
  {
   "cell_type": "code",
   "execution_count": 11,
   "id": "79a9d263",
   "metadata": {},
   "outputs": [
    {
     "name": "stdout",
     "output_type": "stream",
     "text": [
      "  summary                 age             db_wbc        basophils_abs  \\\n",
      "0   count                 100                100                   63   \n",
      "1    mean  62.360399999999984              14.49  0.06063492063492061   \n",
      "2  stddev  16.093590537976304  8.628745709849868  0.06229153662476343   \n",
      "3     min               21.16                2.4                  0.0   \n",
      "4     max               91.77               62.4                 0.26   \n",
      "\n",
      "       eosinophils_abs    lymphocytes_abs       monocytes_abs  \\\n",
      "0                   63                 63                  63   \n",
      "1  0.23873015873015868  3.034444444444444  0.9249206349206349   \n",
      "2  0.31759932184605055  7.104795013677731  0.6162919108718221   \n",
      "3                  0.0               0.25                0.26   \n",
      "4                  1.9              57.41                3.84   \n",
      "\n",
      "      neutrophils_abs           basophils         eosinophils  ...  \\\n",
      "0                  63                  63                  63  ...   \n",
      "1   12.62555555555556   0.465079365079365   1.992063492063492  ...   \n",
      "2  7.8910330444727315  0.5806444501332619  2.7609781802891473  ...   \n",
      "3                2.73                 0.0                 0.0  ...   \n",
      "4                40.8                 4.0                18.0  ...   \n",
      "\n",
      "                 wbc             scr_min                  ckd  \\\n",
      "0                100                 100                  100   \n",
      "1              14.49  0.9280000000000005                 0.17   \n",
      "2  8.628745709849868   0.877102668396973  0.37752516806863695   \n",
      "3                2.4                 0.1                  0.0   \n",
      "4               62.4                 6.0                  1.0   \n",
      "\n",
      "              mdrd_est        scr_baseline                alt  \\\n",
      "0                  100                 100                 68   \n",
      "1   0.9653000000000003  0.9094000000000004             233.25   \n",
      "2  0.12674204296343597  0.8670614718459101  991.1271041431388   \n",
      "3                 0.77                 0.1                7.0   \n",
      "4                 1.22                 6.0             8010.0   \n",
      "\n",
      "                  alp                 ast     bilirubin_total  \\\n",
      "0                  67                  69                  68   \n",
      "1  121.23880597014926  428.07246376811594  2.0500000000000007   \n",
      "2   76.99804986752052  1737.8582095316315   5.262554285890104   \n",
      "3                32.0                 5.0                 0.2   \n",
      "4               414.0             13060.0                35.9   \n",
      "\n",
      "      gender_imputed  \n",
      "0                100  \n",
      "1               1.43  \n",
      "2  0.497569851956243  \n",
      "3                  1  \n",
      "4                  2  \n",
      "\n",
      "[5 rows x 43 columns]\n"
     ]
    }
   ],
   "source": [
    "# fill the missing values with the median value\n",
    "from pyspark.ml.feature import Imputer\n",
    "\n",
    "\n",
    "print (cluster_data.describe().toPandas())\n",
    "imputer = Imputer(\n",
    "    inputCols = numeric_cols, \n",
    "    outputCols = [\"{}_imputed\".format(c) for c in numeric_cols]\n",
    "    ).setStrategy(\"median\")\n",
    "\n",
    "# Add imputation cols to df\n",
    "cluster_data = imputer.fit(cluster_data).transform(cluster_data)"
   ]
  },
  {
   "cell_type": "code",
   "execution_count": 12,
   "id": "083c53c0",
   "metadata": {
    "scrolled": false
   },
   "outputs": [
    {
     "name": "stdout",
     "output_type": "stream",
     "text": [
      "root\n",
      " |-- age: double (nullable = true)\n",
      " |-- db_wbc: double (nullable = true)\n",
      " |-- basophils_abs: double (nullable = true)\n",
      " |-- eosinophils_abs: double (nullable = true)\n",
      " |-- lymphocytes_abs: double (nullable = true)\n",
      " |-- monocytes_abs: double (nullable = true)\n",
      " |-- neutrophils_abs: double (nullable = true)\n",
      " |-- basophils: double (nullable = true)\n",
      " |-- eosinophils: double (nullable = true)\n",
      " |-- lymphocytes: double (nullable = true)\n",
      " |-- monocytes: double (nullable = true)\n",
      " |-- neutrophils: double (nullable = true)\n",
      " |-- aniongap: double (nullable = true)\n",
      " |-- bicarbonate: double (nullable = true)\n",
      " |-- bun: double (nullable = true)\n",
      " |-- calcium: double (nullable = true)\n",
      " |-- chloride: double (nullable = true)\n",
      " |-- creatinine: double (nullable = true)\n",
      " |-- glucose: double (nullable = true)\n",
      " |-- sodium: double (nullable = true)\n",
      " |-- potassium: double (nullable = true)\n",
      " |-- inr: double (nullable = true)\n",
      " |-- pt: double (nullable = true)\n",
      " |-- ptt: double (nullable = true)\n",
      " |-- hematocrit: double (nullable = true)\n",
      " |-- hemoglobin: double (nullable = true)\n",
      " |-- mch: double (nullable = true)\n",
      " |-- mchc: double (nullable = true)\n",
      " |-- mcv: double (nullable = true)\n",
      " |-- platelet: double (nullable = true)\n",
      " |-- rbc: double (nullable = true)\n",
      " |-- rdw: double (nullable = true)\n",
      " |-- wbc: double (nullable = true)\n",
      " |-- scr_min: double (nullable = true)\n",
      " |-- ckd: double (nullable = true)\n",
      " |-- mdrd_est: double (nullable = true)\n",
      " |-- scr_baseline: double (nullable = true)\n",
      " |-- alt: double (nullable = true)\n",
      " |-- alp: double (nullable = true)\n",
      " |-- ast: double (nullable = true)\n",
      " |-- bilirubin_total: double (nullable = true)\n",
      " |-- gender_imputed: integer (nullable = false)\n",
      " |-- age_imputed: double (nullable = true)\n",
      " |-- db_wbc_imputed: double (nullable = true)\n",
      " |-- basophils_abs_imputed: double (nullable = true)\n",
      " |-- eosinophils_abs_imputed: double (nullable = true)\n",
      " |-- lymphocytes_abs_imputed: double (nullable = true)\n",
      " |-- monocytes_abs_imputed: double (nullable = true)\n",
      " |-- neutrophils_abs_imputed: double (nullable = true)\n",
      " |-- basophils_imputed: double (nullable = true)\n",
      " |-- eosinophils_imputed: double (nullable = true)\n",
      " |-- lymphocytes_imputed: double (nullable = true)\n",
      " |-- monocytes_imputed: double (nullable = true)\n",
      " |-- neutrophils_imputed: double (nullable = true)\n",
      " |-- aniongap_imputed: double (nullable = true)\n",
      " |-- bicarbonate_imputed: double (nullable = true)\n",
      " |-- bun_imputed: double (nullable = true)\n",
      " |-- calcium_imputed: double (nullable = true)\n",
      " |-- chloride_imputed: double (nullable = true)\n",
      " |-- creatinine_imputed: double (nullable = true)\n",
      " |-- glucose_imputed: double (nullable = true)\n",
      " |-- sodium_imputed: double (nullable = true)\n",
      " |-- potassium_imputed: double (nullable = true)\n",
      " |-- inr_imputed: double (nullable = true)\n",
      " |-- pt_imputed: double (nullable = true)\n",
      " |-- ptt_imputed: double (nullable = true)\n",
      " |-- hematocrit_imputed: double (nullable = true)\n",
      " |-- hemoglobin_imputed: double (nullable = true)\n",
      " |-- mch_imputed: double (nullable = true)\n",
      " |-- mchc_imputed: double (nullable = true)\n",
      " |-- mcv_imputed: double (nullable = true)\n",
      " |-- platelet_imputed: double (nullable = true)\n",
      " |-- rbc_imputed: double (nullable = true)\n",
      " |-- rdw_imputed: double (nullable = true)\n",
      " |-- wbc_imputed: double (nullable = true)\n",
      " |-- scr_min_imputed: double (nullable = true)\n",
      " |-- ckd_imputed: double (nullable = true)\n",
      " |-- mdrd_est_imputed: double (nullable = true)\n",
      " |-- scr_baseline_imputed: double (nullable = true)\n",
      " |-- alt_imputed: double (nullable = true)\n",
      " |-- alp_imputed: double (nullable = true)\n",
      " |-- ast_imputed: double (nullable = true)\n",
      " |-- bilirubin_total_imputed: double (nullable = true)\n",
      "\n"
     ]
    }
   ],
   "source": [
    "cluster_data.printSchema()"
   ]
  },
  {
   "cell_type": "code",
   "execution_count": 14,
   "id": "0973a022",
   "metadata": {},
   "outputs": [
    {
     "data": {
      "text/plain": [
       "['age',\n",
       " 'db_wbc',\n",
       " 'basophils_abs',\n",
       " 'eosinophils_abs',\n",
       " 'lymphocytes_abs',\n",
       " 'monocytes_abs',\n",
       " 'neutrophils_abs',\n",
       " 'basophils',\n",
       " 'eosinophils',\n",
       " 'lymphocytes',\n",
       " 'monocytes',\n",
       " 'neutrophils',\n",
       " 'aniongap',\n",
       " 'bicarbonate',\n",
       " 'bun',\n",
       " 'calcium',\n",
       " 'chloride',\n",
       " 'creatinine',\n",
       " 'glucose',\n",
       " 'sodium',\n",
       " 'potassium',\n",
       " 'inr',\n",
       " 'pt',\n",
       " 'ptt',\n",
       " 'hematocrit',\n",
       " 'hemoglobin',\n",
       " 'mch',\n",
       " 'mchc',\n",
       " 'mcv',\n",
       " 'platelet',\n",
       " 'rbc',\n",
       " 'rdw',\n",
       " 'wbc',\n",
       " 'scr_min',\n",
       " 'ckd',\n",
       " 'mdrd_est',\n",
       " 'scr_baseline',\n",
       " 'alt',\n",
       " 'alp',\n",
       " 'ast',\n",
       " 'bilirubin_total',\n",
       " 'gender_imputed',\n",
       " 'age_imputed',\n",
       " 'db_wbc_imputed',\n",
       " 'basophils_abs_imputed',\n",
       " 'eosinophils_abs_imputed',\n",
       " 'lymphocytes_abs_imputed',\n",
       " 'monocytes_abs_imputed',\n",
       " 'neutrophils_abs_imputed',\n",
       " 'basophils_imputed',\n",
       " 'eosinophils_imputed',\n",
       " 'lymphocytes_imputed',\n",
       " 'monocytes_imputed',\n",
       " 'neutrophils_imputed',\n",
       " 'aniongap_imputed',\n",
       " 'bicarbonate_imputed',\n",
       " 'bun_imputed',\n",
       " 'calcium_imputed',\n",
       " 'chloride_imputed',\n",
       " 'creatinine_imputed',\n",
       " 'glucose_imputed',\n",
       " 'sodium_imputed',\n",
       " 'potassium_imputed',\n",
       " 'inr_imputed',\n",
       " 'pt_imputed',\n",
       " 'ptt_imputed',\n",
       " 'hematocrit_imputed',\n",
       " 'hemoglobin_imputed',\n",
       " 'mch_imputed',\n",
       " 'mchc_imputed',\n",
       " 'mcv_imputed',\n",
       " 'platelet_imputed',\n",
       " 'rbc_imputed',\n",
       " 'rdw_imputed',\n",
       " 'wbc_imputed',\n",
       " 'scr_min_imputed',\n",
       " 'ckd_imputed',\n",
       " 'mdrd_est_imputed',\n",
       " 'scr_baseline_imputed',\n",
       " 'alt_imputed',\n",
       " 'alp_imputed',\n",
       " 'ast_imputed',\n",
       " 'bilirubin_total_imputed']"
      ]
     },
     "execution_count": 14,
     "metadata": {},
     "output_type": "execute_result"
    }
   ],
   "source": [
    "cluster_data.columns"
   ]
  },
  {
   "cell_type": "code",
   "execution_count": 15,
   "id": "57de1dce",
   "metadata": {},
   "outputs": [],
   "source": [
    "cluster_data2 = cluster_data.select([c for c in cluster_data.columns if \"_imputed\" in c])"
   ]
  },
  {
   "cell_type": "code",
   "execution_count": 16,
   "id": "d3f92e10",
   "metadata": {},
   "outputs": [
    {
     "name": "stdout",
     "output_type": "stream",
     "text": [
      "root\n",
      " |-- gender_imputed: integer (nullable = false)\n",
      " |-- age_imputed: double (nullable = true)\n",
      " |-- db_wbc_imputed: double (nullable = true)\n",
      " |-- basophils_abs_imputed: double (nullable = true)\n",
      " |-- eosinophils_abs_imputed: double (nullable = true)\n",
      " |-- lymphocytes_abs_imputed: double (nullable = true)\n",
      " |-- monocytes_abs_imputed: double (nullable = true)\n",
      " |-- neutrophils_abs_imputed: double (nullable = true)\n",
      " |-- basophils_imputed: double (nullable = true)\n",
      " |-- eosinophils_imputed: double (nullable = true)\n",
      " |-- lymphocytes_imputed: double (nullable = true)\n",
      " |-- monocytes_imputed: double (nullable = true)\n",
      " |-- neutrophils_imputed: double (nullable = true)\n",
      " |-- aniongap_imputed: double (nullable = true)\n",
      " |-- bicarbonate_imputed: double (nullable = true)\n",
      " |-- bun_imputed: double (nullable = true)\n",
      " |-- calcium_imputed: double (nullable = true)\n",
      " |-- chloride_imputed: double (nullable = true)\n",
      " |-- creatinine_imputed: double (nullable = true)\n",
      " |-- glucose_imputed: double (nullable = true)\n",
      " |-- sodium_imputed: double (nullable = true)\n",
      " |-- potassium_imputed: double (nullable = true)\n",
      " |-- inr_imputed: double (nullable = true)\n",
      " |-- pt_imputed: double (nullable = true)\n",
      " |-- ptt_imputed: double (nullable = true)\n",
      " |-- hematocrit_imputed: double (nullable = true)\n",
      " |-- hemoglobin_imputed: double (nullable = true)\n",
      " |-- mch_imputed: double (nullable = true)\n",
      " |-- mchc_imputed: double (nullable = true)\n",
      " |-- mcv_imputed: double (nullable = true)\n",
      " |-- platelet_imputed: double (nullable = true)\n",
      " |-- rbc_imputed: double (nullable = true)\n",
      " |-- rdw_imputed: double (nullable = true)\n",
      " |-- wbc_imputed: double (nullable = true)\n",
      " |-- scr_min_imputed: double (nullable = true)\n",
      " |-- ckd_imputed: double (nullable = true)\n",
      " |-- mdrd_est_imputed: double (nullable = true)\n",
      " |-- scr_baseline_imputed: double (nullable = true)\n",
      " |-- alt_imputed: double (nullable = true)\n",
      " |-- alp_imputed: double (nullable = true)\n",
      " |-- ast_imputed: double (nullable = true)\n",
      " |-- bilirubin_total_imputed: double (nullable = true)\n",
      "\n"
     ]
    }
   ],
   "source": [
    "cluster_data2.printSchema()"
   ]
  },
  {
   "cell_type": "code",
   "execution_count": 3,
   "id": "10e39470",
   "metadata": {},
   "outputs": [],
   "source": [
    "import numpy as np\n",
    "from matplotlib import pyplot as plt\n",
    "\n",
    "from sklearn.datasets import make_checkerboard\n",
    "from sklearn.cluster import SpectralBiclustering\n",
    "from sklearn.metrics import consensus_score"
   ]
  },
  {
   "cell_type": "code",
   "execution_count": 49,
   "id": "45be6119",
   "metadata": {},
   "outputs": [
    {
     "data": {
      "text/plain": [
       "SpectralBiclustering(n_clusters=(4, 3), random_state=0)"
      ]
     },
     "execution_count": 49,
     "metadata": {},
     "output_type": "execute_result"
    }
   ],
   "source": [
    "data = cluster_data2.toPandas()\n",
    "n_clusters = (4, 3)\n",
    "model_bi = SpectralBiclustering(n_clusters=n_clusters, method=\"bistochastic\", random_state=0)\n",
    "model_bi.fit(data)"
   ]
  },
  {
   "cell_type": "code",
   "execution_count": 23,
   "id": "02ae519e",
   "metadata": {},
   "outputs": [
    {
     "data": {
      "text/plain": [
       "array([ 0, 70, 69, 68, 67, 66, 65, 64, 62, 61, 71, 60, 58, 57, 56, 55, 54,\n",
       "       53, 52, 51, 50, 59, 72, 73, 74, 96, 95, 94, 93, 92, 91, 90, 89, 88,\n",
       "       87, 86, 85, 84, 83, 82, 80, 79, 78, 77, 76, 75, 98, 48, 49, 46, 47,\n",
       "       20, 19, 18, 16, 15, 14, 13, 12, 23, 11,  9,  8,  7,  6,  5,  4,  3,\n",
       "        2,  1, 10, 24, 22, 26, 45, 44, 43, 42, 41, 40, 39, 38, 37, 36, 25,\n",
       "       35, 33, 32, 31, 30, 29, 28, 27, 34, 99, 81, 17, 63, 21, 97],\n",
       "      dtype=int64)"
      ]
     },
     "execution_count": 23,
     "metadata": {},
     "output_type": "execute_result"
    }
   ],
   "source": [
    "np.argsort(model_bi.row_labels_)"
   ]
  },
  {
   "cell_type": "code",
   "execution_count": 24,
   "id": "5f5ce658",
   "metadata": {
    "scrolled": true
   },
   "outputs": [
    {
     "data": {
      "text/plain": [
       "array([ 0, 23, 24, 25, 26, 27, 28, 29, 22, 30, 32, 33, 34, 35, 36, 37, 39,\n",
       "       31, 21, 20,  9,  1,  2,  3,  4,  5,  6,  7,  8, 19, 41, 11, 12, 13,\n",
       "       14, 15, 16, 17, 18, 10, 40, 38], dtype=int64)"
      ]
     },
     "execution_count": 24,
     "metadata": {},
     "output_type": "execute_result"
    }
   ],
   "source": [
    "np.argsort(model_bi.column_labels_)"
   ]
  },
  {
   "cell_type": "code",
   "execution_count": 50,
   "id": "273aae61",
   "metadata": {},
   "outputs": [],
   "source": [
    "fit_data = data.iloc[np.argsort(model_bi.row_labels_)]\n",
    "fit_data = fit_data.iloc[:, np.argsort(model_bi.column_labels_)]"
   ]
  },
  {
   "cell_type": "code",
   "execution_count": 51,
   "id": "3e7c550a",
   "metadata": {
    "scrolled": true
   },
   "outputs": [
    {
     "data": {
      "text/plain": [
       "<matplotlib.image.AxesImage at 0x227b27a0820>"
      ]
     },
     "execution_count": 51,
     "metadata": {},
     "output_type": "execute_result"
    },
    {
     "data": {
      "image/png": "[encoded data removed]",
      "text/plain": [
       "<Figure size 288x685.714 with 1 Axes>"
      ]
     },
     "metadata": {
      "needs_background": "light"
     },
     "output_type": "display_data"
    }
   ],
   "source": [
    "plt.matshow(fit_data, cmap=plt.cm.Reds)\n"
   ]
  },
  {
   "cell_type": "code",
   "execution_count": 54,
   "id": "d9ba9ba4",
   "metadata": {},
   "outputs": [
    {
     "data": {
      "text/plain": [
       "Text(0.5, 1.0, 'structure of rearranged data')"
      ]
     },
     "execution_count": 54,
     "metadata": {},
     "output_type": "execute_result"
    },
    {
     "data": {
      "image/png": "[encoded data removed]",
      "text/plain": [
       "<Figure size 288x685.714 with 1 Axes>"
      ]
     },
     "metadata": {
      "needs_background": "light"
     },
     "output_type": "display_data"
    }
   ],
   "source": [
    "plt.matshow(\n",
    "    np.outer(np.sort(model_bi.row_labels_) + 1, np.sort(model_bi.column_labels_) + 1),\n",
    "    cmap=plt.cm.Reds,\n",
    ")\n",
    "plt.title(\"structure of rearranged data\")"
   ]
  },
  {
   "cell_type": "code",
   "execution_count": null,
   "id": "e7d80a2a",
   "metadata": {},
   "outputs": [],
   "source": []
  }
 ],
 "metadata": {
  "kernelspec": {
   "display_name": "Python 3 (ipykernel)",
   "language": "python",
   "name": "python3"
  },
  "language_info": {
   "codemirror_mode": {
    "name": "ipython",
    "version": 3
   },
   "file_extension": ".py",
   "mimetype": "text/x-python",
   "name": "python",
   "nbconvert_exporter": "python",
   "pygments_lexer": "ipython3",
   "version": "3.9.12"
  }
 },
 "nbformat": 4,
 "nbformat_minor": 5
}
