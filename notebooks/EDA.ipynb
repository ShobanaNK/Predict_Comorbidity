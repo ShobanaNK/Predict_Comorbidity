{
 "cells": [
  {
   "cell_type": "code",
   "execution_count": 1,
   "id": "99438f7d",
   "metadata": {},
   "outputs": [],
   "source": [
    "import os\n",
    "import sys"
   ]
  },
  {
   "cell_type": "code",
   "execution_count": 2,
   "id": "8b60cee8",
   "metadata": {},
   "outputs": [],
   "source": [
    "os.environ[\"PYSPARK_PYTHON\"]=\"C:\\Spark\\spark-3.3.2-bin-hadoop2\\python\"\n",
    "os.environ[\"JAVA_HOME\"] = \"C:\\Program Files\\Java\\jdk-18.0.2.1\"\n",
    "os.environ[\"SPARK_HOME\"] = \"C:\\Spark\\spark-3.3.2-bin-hadoop2\"\n",
    "os.environ[\"PYLIB\"] = os.environ[\"SPARK_HOME\"] + \"/python/lib\"\n",
    "sys.path.insert(0, os.environ[\"PYLIB\"] + \"/py4j-0.10.9.5-src.zip\")\n",
    "sys.path.insert(0, os.environ[\"PYLIB\"] + \"/pyspark.zip\") "
   ]
  },
  {
   "cell_type": "code",
   "execution_count": 3,
   "id": "b3d5ae74",
   "metadata": {},
   "outputs": [
    {
     "data": {
      "text/html": [
       "\n",
       "            <div>\n",
       "                <p><b>SparkSession - in-memory</b></p>\n",
       "                \n",
       "        <div>\n",
       "            <p><b>SparkContext</b></p>\n",
       "\n",
       "            <p><a href=\"http://DESKTOP-0OH3S55:4040\">Spark UI</a></p>\n",
       "\n",
       "            <dl>\n",
       "              <dt>Version</dt>\n",
       "                <dd><code>v3.3.2</code></dd>\n",
       "              <dt>Master</dt>\n",
       "                <dd><code>local[*]</code></dd>\n",
       "              <dt>AppName</dt>\n",
       "                <dd><code>r_eda</code></dd>\n",
       "            </dl>\n",
       "        </div>\n",
       "        \n",
       "            </div>\n",
       "        "
      ],
      "text/plain": [
       "<pyspark.sql.session.SparkSession at 0x1d0f37cd850>"
      ]
     },
     "execution_count": 3,
     "metadata": {},
     "output_type": "execute_result"
    }
   ],
   "source": [
    "from pyspark.sql import SparkSession\n",
    "spark = SparkSession.builder.appName(\"r_eda\").getOrCreate()\n",
    "spark"
   ]
  },
  {
   "cell_type": "code",
   "execution_count": 4,
   "id": "8ca69b87",
   "metadata": {},
   "outputs": [
    {
     "name": "stdout",
     "output_type": "stream",
     "text": [
      "root\n",
      " |-- subject_id: string (nullable = true)\n",
      " |-- gender: string (nullable = true)\n",
      " |-- dod: string (nullable = true)\n",
      " |-- hadm_id: string (nullable = true)\n",
      " |-- age: string (nullable = true)\n",
      " |-- so2: string (nullable = true)\n",
      " |-- po2: string (nullable = true)\n",
      " |-- pco2: string (nullable = true)\n",
      " |-- fio2: string (nullable = true)\n",
      " |-- aado2: string (nullable = true)\n",
      " |-- ph: string (nullable = true)\n",
      " |-- baseexcess: string (nullable = true)\n",
      " |-- bg2_bicarbonate: string (nullable = true)\n",
      " |-- totalco2: string (nullable = true)\n",
      " |-- bg2_hematocrit: string (nullable = true)\n",
      " |-- bg2_haemoglobin: string (nullable = true)\n",
      " |-- carboxyhemoglobin: string (nullable = true)\n",
      " |-- methemoglobin: string (nullable = true)\n",
      " |-- bg2_chloride: string (nullable = true)\n",
      " |-- bg2_calcium: string (nullable = true)\n",
      " |-- temperature: string (nullable = true)\n",
      " |-- bg2_potassium: string (nullable = true)\n",
      " |-- bg2_sodium: string (nullable = true)\n",
      " |-- bg2_lactate: string (nullable = true)\n",
      " |-- bg2_glucose: string (nullable = true)\n",
      " |-- db_wbc: string (nullable = true)\n",
      " |-- basophils_abs: string (nullable = true)\n",
      " |-- eosinophils_abs: string (nullable = true)\n",
      " |-- lymphocytes_abs: string (nullable = true)\n",
      " |-- monocytes_abs: string (nullable = true)\n",
      " |-- neutrophils_abs: string (nullable = true)\n",
      " |-- basophils: string (nullable = true)\n",
      " |-- eosinophils: string (nullable = true)\n",
      " |-- lymphocytes: string (nullable = true)\n",
      " |-- monocytes: string (nullable = true)\n",
      " |-- neutrophils: string (nullable = true)\n",
      " |-- atypical_lymphocytes: string (nullable = true)\n",
      " |-- bands: string (nullable = true)\n",
      " |-- immature_granulocytes: string (nullable = true)\n",
      " |-- metamyelocytes: string (nullable = true)\n",
      " |-- nrbc: string (nullable = true)\n",
      " |-- troponin_t: string (nullable = true)\n",
      " |-- cm_ck_mb: string (nullable = true)\n",
      " |-- ntprobnp: string (nullable = true)\n",
      " |-- albumin: string (nullable = true)\n",
      " |-- globulin: string (nullable = true)\n",
      " |-- total_protein: string (nullable = true)\n",
      " |-- aniongap: string (nullable = true)\n",
      " |-- bicarbonate: string (nullable = true)\n",
      " |-- bun: string (nullable = true)\n",
      " |-- calcium: string (nullable = true)\n",
      " |-- chloride: string (nullable = true)\n",
      " |-- creatinine: string (nullable = true)\n",
      " |-- glucose: string (nullable = true)\n",
      " |-- sodium: string (nullable = true)\n",
      " |-- potassium: string (nullable = true)\n",
      " |-- d_dimer: string (nullable = true)\n",
      " |-- fibrinogen: string (nullable = true)\n",
      " |-- thrombin: string (nullable = true)\n",
      " |-- inr: string (nullable = true)\n",
      " |-- pt: string (nullable = true)\n",
      " |-- ptt: string (nullable = true)\n",
      " |-- hematocrit: string (nullable = true)\n",
      " |-- hemoglobin: string (nullable = true)\n",
      " |-- mch: string (nullable = true)\n",
      " |-- mchc: string (nullable = true)\n",
      " |-- mcv: string (nullable = true)\n",
      " |-- platelet: string (nullable = true)\n",
      " |-- rbc: string (nullable = true)\n",
      " |-- rdw: string (nullable = true)\n",
      " |-- rdwsd: string (nullable = true)\n",
      " |-- wbc: string (nullable = true)\n",
      " |-- scr_min: string (nullable = true)\n",
      " |-- ckd: string (nullable = true)\n",
      " |-- mdrd_est: string (nullable = true)\n",
      " |-- scr_baseline: string (nullable = true)\n",
      " |-- alt: string (nullable = true)\n",
      " |-- alp: string (nullable = true)\n",
      " |-- ast: string (nullable = true)\n",
      " |-- amylase: string (nullable = true)\n",
      " |-- bilirubin_total: string (nullable = true)\n",
      " |-- bilirubin_direct: string (nullable = true)\n",
      " |-- bilirubin_indirect: string (nullable = true)\n",
      " |-- ck_cpk: string (nullable = true)\n",
      " |-- ck_mb: string (nullable = true)\n",
      " |-- ggt: string (nullable = true)\n",
      " |-- ld_ldh: string (nullable = true)\n",
      " |-- crp: string (nullable = true)\n",
      " |-- charlson_comorbidity_index: string (nullable = true)\n",
      "\n"
     ]
    }
   ],
   "source": [
    "data = spark.read.option(\"header\",\"true\").csv(\"../data/r_hosp_dataset.csv\")\n",
    "data.printSchema()"
   ]
  },
  {
   "cell_type": "code",
   "execution_count": 5,
   "id": "428a3bbf",
   "metadata": {},
   "outputs": [
    {
     "data": {
      "text/plain": [
       "431231"
      ]
     },
     "execution_count": 5,
     "metadata": {},
     "output_type": "execute_result"
    }
   ],
   "source": [
    "data.count()"
   ]
  },
  {
   "cell_type": "code",
   "execution_count": 6,
   "id": "5d195811",
   "metadata": {
    "scrolled": false
   },
   "outputs": [
    {
     "data": {
      "text/html": [
       "<div>\n",
       "<style scoped>\n",
       "    .dataframe tbody tr th:only-of-type {\n",
       "        vertical-align: middle;\n",
       "    }\n",
       "\n",
       "    .dataframe tbody tr th {\n",
       "        vertical-align: top;\n",
       "    }\n",
       "\n",
       "    .dataframe thead th {\n",
       "        text-align: right;\n",
       "    }\n",
       "</style>\n",
       "<table border=\"1\" class=\"dataframe\">\n",
       "  <thead>\n",
       "    <tr style=\"text-align: right;\">\n",
       "      <th></th>\n",
       "      <th>summary</th>\n",
       "      <th>subject_id</th>\n",
       "      <th>gender</th>\n",
       "      <th>dod</th>\n",
       "      <th>hadm_id</th>\n",
       "      <th>age</th>\n",
       "      <th>so2</th>\n",
       "      <th>po2</th>\n",
       "      <th>pco2</th>\n",
       "      <th>fio2</th>\n",
       "      <th>...</th>\n",
       "      <th>amylase</th>\n",
       "      <th>bilirubin_total</th>\n",
       "      <th>bilirubin_direct</th>\n",
       "      <th>bilirubin_indirect</th>\n",
       "      <th>ck_cpk</th>\n",
       "      <th>ck_mb</th>\n",
       "      <th>ggt</th>\n",
       "      <th>ld_ldh</th>\n",
       "      <th>crp</th>\n",
       "      <th>charlson_comorbidity_index</th>\n",
       "    </tr>\n",
       "  </thead>\n",
       "  <tbody>\n",
       "    <tr>\n",
       "      <th>0</th>\n",
       "      <td>count</td>\n",
       "      <td>431231</td>\n",
       "      <td>431231</td>\n",
       "      <td>106218</td>\n",
       "      <td>431231</td>\n",
       "      <td>431231</td>\n",
       "      <td>27945</td>\n",
       "      <td>62060</td>\n",
       "      <td>62050</td>\n",
       "      <td>16541</td>\n",
       "      <td>...</td>\n",
       "      <td>21768</td>\n",
       "      <td>148620</td>\n",
       "      <td>13409</td>\n",
       "      <td>13897</td>\n",
       "      <td>74281</td>\n",
       "      <td>65427</td>\n",
       "      <td>3717</td>\n",
       "      <td>92776</td>\n",
       "      <td>20994</td>\n",
       "      <td>431231</td>\n",
       "    </tr>\n",
       "    <tr>\n",
       "      <th>1</th>\n",
       "      <td>mean</td>\n",
       "      <td>1.5007664969607936E7</td>\n",
       "      <td>None</td>\n",
       "      <td>None</td>\n",
       "      <td>2.5003138264725868E7</td>\n",
       "      <td>59.26944843426296</td>\n",
       "      <td>92.06972982644479</td>\n",
       "      <td>197.93195294875926</td>\n",
       "      <td>48.15066881547139</td>\n",
       "      <td>64.99111299195937</td>\n",
       "      <td>...</td>\n",
       "      <td>109.67851892686512</td>\n",
       "      <td>1.4621228636791646</td>\n",
       "      <td>3.0113729584607327</td>\n",
       "      <td>1.7329351658631367</td>\n",
       "      <td>727.7982525814139</td>\n",
       "      <td>11.967495070842311</td>\n",
       "      <td>250.6031746031746</td>\n",
       "      <td>389.837005259981</td>\n",
       "      <td>66.98933552443553</td>\n",
       "      <td>3.5870218050186558</td>\n",
       "    </tr>\n",
       "    <tr>\n",
       "      <th>2</th>\n",
       "      <td>stddev</td>\n",
       "      <td>2877497.8062713076</td>\n",
       "      <td>None</td>\n",
       "      <td>None</td>\n",
       "      <td>2888180.402945388</td>\n",
       "      <td>19.207987665245223</td>\n",
       "      <td>12.191322751514052</td>\n",
       "      <td>136.2990225302963</td>\n",
       "      <td>14.732684122524283</td>\n",
       "      <td>24.739972885601127</td>\n",
       "      <td>...</td>\n",
       "      <td>216.2017369997382</td>\n",
       "      <td>3.557465027266691</td>\n",
       "      <td>5.138052210796493</td>\n",
       "      <td>2.325996291676031</td>\n",
       "      <td>6729.51889196154</td>\n",
       "      <td>38.24575537849562</td>\n",
       "      <td>386.639868567945</td>\n",
       "      <td>1562.3742701386582</td>\n",
       "      <td>74.66665896488824</td>\n",
       "      <td>3.031824233136227</td>\n",
       "    </tr>\n",
       "    <tr>\n",
       "      <th>3</th>\n",
       "      <td>min</td>\n",
       "      <td>10000032</td>\n",
       "      <td>F</td>\n",
       "      <td>2110-01-25</td>\n",
       "      <td>20000019</td>\n",
       "      <td>100.0098843901973060</td>\n",
       "      <td>100</td>\n",
       "      <td>0</td>\n",
       "      <td>10</td>\n",
       "      <td>100</td>\n",
       "      <td>...</td>\n",
       "      <td>10</td>\n",
       "      <td>0.1</td>\n",
       "      <td>0.1</td>\n",
       "      <td>0.1</td>\n",
       "      <td>10</td>\n",
       "      <td>1</td>\n",
       "      <td>10</td>\n",
       "      <td>100</td>\n",
       "      <td>0.1</td>\n",
       "      <td>0</td>\n",
       "    </tr>\n",
       "    <tr>\n",
       "      <th>4</th>\n",
       "      <td>max</td>\n",
       "      <td>19999987</td>\n",
       "      <td>M</td>\n",
       "      <td>2212-01-22</td>\n",
       "      <td>29999928</td>\n",
       "      <td>99.9662204176348223</td>\n",
       "      <td>99.9</td>\n",
       "      <td>99</td>\n",
       "      <td>99</td>\n",
       "      <td>99</td>\n",
       "      <td>...</td>\n",
       "      <td>996</td>\n",
       "      <td>9.9</td>\n",
       "      <td>9.9</td>\n",
       "      <td>9.9</td>\n",
       "      <td>999</td>\n",
       "      <td>99</td>\n",
       "      <td>999</td>\n",
       "      <td>9990</td>\n",
       "      <td>99.9</td>\n",
       "      <td>9</td>\n",
       "    </tr>\n",
       "  </tbody>\n",
       "</table>\n",
       "<p>5 rows × 90 columns</p>\n",
       "</div>"
      ],
      "text/plain": [
       "  summary            subject_id  gender         dod               hadm_id  \\\n",
       "0   count                431231  431231      106218                431231   \n",
       "1    mean  1.5007664969607936E7    None        None  2.5003138264725868E7   \n",
       "2  stddev    2877497.8062713076    None        None     2888180.402945388   \n",
       "3     min              10000032       F  2110-01-25              20000019   \n",
       "4     max              19999987       M  2212-01-22              29999928   \n",
       "\n",
       "                    age                 so2                 po2  \\\n",
       "0                431231               27945               62060   \n",
       "1     59.26944843426296   92.06972982644479  197.93195294875926   \n",
       "2    19.207987665245223  12.191322751514052   136.2990225302963   \n",
       "3  100.0098843901973060                 100                   0   \n",
       "4   99.9662204176348223                99.9                  99   \n",
       "\n",
       "                 pco2                fio2  ...             amylase  \\\n",
       "0               62050               16541  ...               21768   \n",
       "1   48.15066881547139   64.99111299195937  ...  109.67851892686512   \n",
       "2  14.732684122524283  24.739972885601127  ...   216.2017369997382   \n",
       "3                  10                 100  ...                  10   \n",
       "4                  99                  99  ...                 996   \n",
       "\n",
       "      bilirubin_total    bilirubin_direct  bilirubin_indirect  \\\n",
       "0              148620               13409               13897   \n",
       "1  1.4621228636791646  3.0113729584607327  1.7329351658631367   \n",
       "2   3.557465027266691   5.138052210796493   2.325996291676031   \n",
       "3                 0.1                 0.1                 0.1   \n",
       "4                 9.9                 9.9                 9.9   \n",
       "\n",
       "              ck_cpk               ck_mb                ggt  \\\n",
       "0              74281               65427               3717   \n",
       "1  727.7982525814139  11.967495070842311  250.6031746031746   \n",
       "2   6729.51889196154   38.24575537849562   386.639868567945   \n",
       "3                 10                   1                 10   \n",
       "4                999                  99                999   \n",
       "\n",
       "               ld_ldh                crp charlson_comorbidity_index  \n",
       "0               92776              20994                     431231  \n",
       "1    389.837005259981  66.98933552443553         3.5870218050186558  \n",
       "2  1562.3742701386582  74.66665896488824          3.031824233136227  \n",
       "3                 100                0.1                          0  \n",
       "4                9990               99.9                          9  \n",
       "\n",
       "[5 rows x 90 columns]"
      ]
     },
     "execution_count": 6,
     "metadata": {},
     "output_type": "execute_result"
    }
   ],
   "source": [
    "data.describe().toPandas()"
   ]
  },
  {
   "cell_type": "markdown",
   "id": "e2b66f6d",
   "metadata": {},
   "source": [
    "- All the rows has subject, gender, age, admission id (hadm_id) and charlson_comorbidity_index.\n",
    "\n",
    "\n",
    "To Do\n",
    "- Check for valid gender values and remove invalid genders (those other than 'M' and 'F').\n",
    "- Check for valid age values.\n",
    "- impute missing values by calculating the average of the value between the last & next reading for the same subject.\n",
    "- Remove columns with more than 50% missing values after imputation.\n",
    "- remove rows which has data in less than 25% of the columns."
   ]
  },
  {
   "cell_type": "markdown",
   "id": "1ee43a3d",
   "metadata": {},
   "source": [
    "#### Check for valid gender values and remove invalid genders (those other than 'M' and 'F')."
   ]
  },
  {
   "cell_type": "code",
   "execution_count": 7,
   "id": "e2334dd6",
   "metadata": {
    "scrolled": true
   },
   "outputs": [
    {
     "name": "stdout",
     "output_type": "stream",
     "text": [
      "+------+------+\n",
      "|gender| count|\n",
      "+------+------+\n",
      "|     F|224990|\n",
      "|     M|206241|\n",
      "+------+------+\n",
      "\n"
     ]
    }
   ],
   "source": [
    "#checking for gender values\n",
    "data.groupby(\"gender\").count().show()"
   ]
  },
  {
   "cell_type": "markdown",
   "id": "16786795",
   "metadata": {},
   "source": [
    "Gender column values looks good."
   ]
  },
  {
   "cell_type": "markdown",
   "id": "07959860",
   "metadata": {},
   "source": [
    "#### type conversion for the columns data"
   ]
  },
  {
   "cell_type": "markdown",
   "id": "01ea1908",
   "metadata": {},
   "source": [
    "Except for Gender, all other columns contain decimal values. Hence converting every column type to decimal with 2 decimal values."
   ]
  },
  {
   "cell_type": "code",
   "execution_count": 8,
   "id": "f64b9977",
   "metadata": {
    "scrolled": false
   },
   "outputs": [
    {
     "name": "stdout",
     "output_type": "stream",
     "text": [
      "['subject_id', 'dod', 'hadm_id', 'age', 'so2', 'po2', 'pco2', 'fio2', 'aado2', 'ph', 'baseexcess', 'bg2_bicarbonate', 'totalco2', 'bg2_hematocrit', 'bg2_haemoglobin', 'carboxyhemoglobin', 'methemoglobin', 'bg2_chloride', 'bg2_calcium', 'temperature', 'bg2_potassium', 'bg2_sodium', 'bg2_lactate', 'bg2_glucose', 'db_wbc', 'basophils_abs', 'eosinophils_abs', 'lymphocytes_abs', 'monocytes_abs', 'neutrophils_abs', 'basophils', 'eosinophils', 'lymphocytes', 'monocytes', 'neutrophils', 'atypical_lymphocytes', 'bands', 'immature_granulocytes', 'metamyelocytes', 'nrbc', 'troponin_t', 'cm_ck_mb', 'ntprobnp', 'albumin', 'globulin', 'total_protein', 'aniongap', 'bicarbonate', 'bun', 'calcium', 'chloride', 'creatinine', 'glucose', 'sodium', 'potassium', 'd_dimer', 'fibrinogen', 'thrombin', 'inr', 'pt', 'ptt', 'hematocrit', 'hemoglobin', 'mch', 'mchc', 'mcv', 'platelet', 'rbc', 'rdw', 'rdwsd', 'wbc', 'scr_min', 'ckd', 'mdrd_est', 'scr_baseline', 'alt', 'alp', 'ast', 'amylase', 'bilirubin_total', 'bilirubin_direct', 'bilirubin_indirect', 'ck_cpk', 'ck_mb', 'ggt', 'ld_ldh', 'crp', 'charlson_comorbidity_index', 'gender']\n",
      "root\n",
      " |-- subject_id: double (nullable = true)\n",
      " |-- dod: double (nullable = true)\n",
      " |-- hadm_id: double (nullable = true)\n",
      " |-- age: double (nullable = true)\n",
      " |-- so2: double (nullable = true)\n",
      " |-- po2: double (nullable = true)\n",
      " |-- pco2: double (nullable = true)\n",
      " |-- fio2: double (nullable = true)\n",
      " |-- aado2: double (nullable = true)\n",
      " |-- ph: double (nullable = true)\n",
      " |-- baseexcess: double (nullable = true)\n",
      " |-- bg2_bicarbonate: double (nullable = true)\n",
      " |-- totalco2: double (nullable = true)\n",
      " |-- bg2_hematocrit: double (nullable = true)\n",
      " |-- bg2_haemoglobin: double (nullable = true)\n",
      " |-- carboxyhemoglobin: double (nullable = true)\n",
      " |-- methemoglobin: double (nullable = true)\n",
      " |-- bg2_chloride: double (nullable = true)\n",
      " |-- bg2_calcium: double (nullable = true)\n",
      " |-- temperature: double (nullable = true)\n",
      " |-- bg2_potassium: double (nullable = true)\n",
      " |-- bg2_sodium: double (nullable = true)\n",
      " |-- bg2_lactate: double (nullable = true)\n",
      " |-- bg2_glucose: double (nullable = true)\n",
      " |-- db_wbc: double (nullable = true)\n",
      " |-- basophils_abs: double (nullable = true)\n",
      " |-- eosinophils_abs: double (nullable = true)\n",
      " |-- lymphocytes_abs: double (nullable = true)\n",
      " |-- monocytes_abs: double (nullable = true)\n",
      " |-- neutrophils_abs: double (nullable = true)\n",
      " |-- basophils: double (nullable = true)\n",
      " |-- eosinophils: double (nullable = true)\n",
      " |-- lymphocytes: double (nullable = true)\n",
      " |-- monocytes: double (nullable = true)\n",
      " |-- neutrophils: double (nullable = true)\n",
      " |-- atypical_lymphocytes: double (nullable = true)\n",
      " |-- bands: double (nullable = true)\n",
      " |-- immature_granulocytes: double (nullable = true)\n",
      " |-- metamyelocytes: double (nullable = true)\n",
      " |-- nrbc: double (nullable = true)\n",
      " |-- troponin_t: double (nullable = true)\n",
      " |-- cm_ck_mb: double (nullable = true)\n",
      " |-- ntprobnp: double (nullable = true)\n",
      " |-- albumin: double (nullable = true)\n",
      " |-- globulin: double (nullable = true)\n",
      " |-- total_protein: double (nullable = true)\n",
      " |-- aniongap: double (nullable = true)\n",
      " |-- bicarbonate: double (nullable = true)\n",
      " |-- bun: double (nullable = true)\n",
      " |-- calcium: double (nullable = true)\n",
      " |-- chloride: double (nullable = true)\n",
      " |-- creatinine: double (nullable = true)\n",
      " |-- glucose: double (nullable = true)\n",
      " |-- sodium: double (nullable = true)\n",
      " |-- potassium: double (nullable = true)\n",
      " |-- d_dimer: double (nullable = true)\n",
      " |-- fibrinogen: double (nullable = true)\n",
      " |-- thrombin: double (nullable = true)\n",
      " |-- inr: double (nullable = true)\n",
      " |-- pt: double (nullable = true)\n",
      " |-- ptt: double (nullable = true)\n",
      " |-- hematocrit: double (nullable = true)\n",
      " |-- hemoglobin: double (nullable = true)\n",
      " |-- mch: double (nullable = true)\n",
      " |-- mchc: double (nullable = true)\n",
      " |-- mcv: double (nullable = true)\n",
      " |-- platelet: double (nullable = true)\n",
      " |-- rbc: double (nullable = true)\n",
      " |-- rdw: double (nullable = true)\n",
      " |-- rdwsd: double (nullable = true)\n",
      " |-- wbc: double (nullable = true)\n",
      " |-- scr_min: double (nullable = true)\n",
      " |-- ckd: double (nullable = true)\n",
      " |-- mdrd_est: double (nullable = true)\n",
      " |-- scr_baseline: double (nullable = true)\n",
      " |-- alt: double (nullable = true)\n",
      " |-- alp: double (nullable = true)\n",
      " |-- ast: double (nullable = true)\n",
      " |-- amylase: double (nullable = true)\n",
      " |-- bilirubin_total: double (nullable = true)\n",
      " |-- bilirubin_direct: double (nullable = true)\n",
      " |-- bilirubin_indirect: double (nullable = true)\n",
      " |-- ck_cpk: double (nullable = true)\n",
      " |-- ck_mb: double (nullable = true)\n",
      " |-- ggt: double (nullable = true)\n",
      " |-- ld_ldh: double (nullable = true)\n",
      " |-- crp: double (nullable = true)\n",
      " |-- charlson_comorbidity_index: double (nullable = true)\n",
      " |-- gender: string (nullable = true)\n",
      "\n",
      "None\n"
     ]
    },
    {
     "data": {
      "text/html": [
       "<div>\n",
       "<style scoped>\n",
       "    .dataframe tbody tr th:only-of-type {\n",
       "        vertical-align: middle;\n",
       "    }\n",
       "\n",
       "    .dataframe tbody tr th {\n",
       "        vertical-align: top;\n",
       "    }\n",
       "\n",
       "    .dataframe thead th {\n",
       "        text-align: right;\n",
       "    }\n",
       "</style>\n",
       "<table border=\"1\" class=\"dataframe\">\n",
       "  <thead>\n",
       "    <tr style=\"text-align: right;\">\n",
       "      <th></th>\n",
       "      <th>summary</th>\n",
       "      <th>subject_id</th>\n",
       "      <th>dod</th>\n",
       "      <th>hadm_id</th>\n",
       "      <th>age</th>\n",
       "      <th>so2</th>\n",
       "      <th>po2</th>\n",
       "      <th>pco2</th>\n",
       "      <th>fio2</th>\n",
       "      <th>aado2</th>\n",
       "      <th>...</th>\n",
       "      <th>bilirubin_total</th>\n",
       "      <th>bilirubin_direct</th>\n",
       "      <th>bilirubin_indirect</th>\n",
       "      <th>ck_cpk</th>\n",
       "      <th>ck_mb</th>\n",
       "      <th>ggt</th>\n",
       "      <th>ld_ldh</th>\n",
       "      <th>crp</th>\n",
       "      <th>charlson_comorbidity_index</th>\n",
       "      <th>gender</th>\n",
       "    </tr>\n",
       "  </thead>\n",
       "  <tbody>\n",
       "    <tr>\n",
       "      <th>0</th>\n",
       "      <td>count</td>\n",
       "      <td>431231</td>\n",
       "      <td>0</td>\n",
       "      <td>431231</td>\n",
       "      <td>431231</td>\n",
       "      <td>27945</td>\n",
       "      <td>62060</td>\n",
       "      <td>62050</td>\n",
       "      <td>16541</td>\n",
       "      <td>5437</td>\n",
       "      <td>...</td>\n",
       "      <td>148620</td>\n",
       "      <td>13409</td>\n",
       "      <td>13897</td>\n",
       "      <td>74281</td>\n",
       "      <td>65427</td>\n",
       "      <td>3717</td>\n",
       "      <td>92776</td>\n",
       "      <td>20994</td>\n",
       "      <td>431231</td>\n",
       "      <td>431231</td>\n",
       "    </tr>\n",
       "    <tr>\n",
       "      <th>1</th>\n",
       "      <td>mean</td>\n",
       "      <td>1.5007664969607936E7</td>\n",
       "      <td>None</td>\n",
       "      <td>2.5003138264725868E7</td>\n",
       "      <td>59.2694490655819</td>\n",
       "      <td>92.06972982644479</td>\n",
       "      <td>197.93195294875926</td>\n",
       "      <td>48.15066881547139</td>\n",
       "      <td>64.99111299195937</td>\n",
       "      <td>492.72652565753174</td>\n",
       "      <td>...</td>\n",
       "      <td>1.4621228636791646</td>\n",
       "      <td>3.0113729584607327</td>\n",
       "      <td>1.7329351658631367</td>\n",
       "      <td>727.7982525814139</td>\n",
       "      <td>11.967495070842311</td>\n",
       "      <td>250.6031746031746</td>\n",
       "      <td>389.837005259981</td>\n",
       "      <td>66.98933552443553</td>\n",
       "      <td>3.5870218050186558</td>\n",
       "      <td>None</td>\n",
       "    </tr>\n",
       "    <tr>\n",
       "      <th>2</th>\n",
       "      <td>stddev</td>\n",
       "      <td>2877497.8062713076</td>\n",
       "      <td>None</td>\n",
       "      <td>2888180.402945388</td>\n",
       "      <td>19.20798714444107</td>\n",
       "      <td>12.191322751514052</td>\n",
       "      <td>136.2990225302963</td>\n",
       "      <td>14.732684122524283</td>\n",
       "      <td>24.739972885601127</td>\n",
       "      <td>122.97508532137482</td>\n",
       "      <td>...</td>\n",
       "      <td>3.557465027266691</td>\n",
       "      <td>5.138052210796493</td>\n",
       "      <td>2.325996291676031</td>\n",
       "      <td>6729.51889196154</td>\n",
       "      <td>38.24575537849562</td>\n",
       "      <td>386.639868567945</td>\n",
       "      <td>1562.3742701386582</td>\n",
       "      <td>74.66665896488824</td>\n",
       "      <td>3.031824233136227</td>\n",
       "      <td>None</td>\n",
       "    </tr>\n",
       "    <tr>\n",
       "      <th>3</th>\n",
       "      <td>min</td>\n",
       "      <td>1.0000032E7</td>\n",
       "      <td>None</td>\n",
       "      <td>2.0000019E7</td>\n",
       "      <td>18.0</td>\n",
       "      <td>7.0</td>\n",
       "      <td>0.0</td>\n",
       "      <td>10.0</td>\n",
       "      <td>21.0</td>\n",
       "      <td>0.12</td>\n",
       "      <td>...</td>\n",
       "      <td>0.1</td>\n",
       "      <td>0.1</td>\n",
       "      <td>0.1</td>\n",
       "      <td>4.0</td>\n",
       "      <td>1.0</td>\n",
       "      <td>3.0</td>\n",
       "      <td>31.0</td>\n",
       "      <td>0.1</td>\n",
       "      <td>0.0</td>\n",
       "      <td>F</td>\n",
       "    </tr>\n",
       "    <tr>\n",
       "      <th>4</th>\n",
       "      <td>max</td>\n",
       "      <td>1.9999987E7</td>\n",
       "      <td>None</td>\n",
       "      <td>2.9999928E7</td>\n",
       "      <td>103.17</td>\n",
       "      <td>100.0</td>\n",
       "      <td>4242.0</td>\n",
       "      <td>246.0</td>\n",
       "      <td>100.0</td>\n",
       "      <td>743.0</td>\n",
       "      <td>...</td>\n",
       "      <td>87.2</td>\n",
       "      <td>68.0</td>\n",
       "      <td>29.6</td>\n",
       "      <td>591950.0</td>\n",
       "      <td>673.0</td>\n",
       "      <td>7380.0</td>\n",
       "      <td>377000.0</td>\n",
       "      <td>608.1</td>\n",
       "      <td>20.0</td>\n",
       "      <td>M</td>\n",
       "    </tr>\n",
       "  </tbody>\n",
       "</table>\n",
       "<p>5 rows × 90 columns</p>\n",
       "</div>"
      ],
      "text/plain": [
       "  summary            subject_id   dod               hadm_id  \\\n",
       "0   count                431231     0                431231   \n",
       "1    mean  1.5007664969607936E7  None  2.5003138264725868E7   \n",
       "2  stddev    2877497.8062713076  None     2888180.402945388   \n",
       "3     min           1.0000032E7  None           2.0000019E7   \n",
       "4     max           1.9999987E7  None           2.9999928E7   \n",
       "\n",
       "                 age                 so2                 po2  \\\n",
       "0             431231               27945               62060   \n",
       "1   59.2694490655819   92.06972982644479  197.93195294875926   \n",
       "2  19.20798714444107  12.191322751514052   136.2990225302963   \n",
       "3               18.0                 7.0                 0.0   \n",
       "4             103.17               100.0              4242.0   \n",
       "\n",
       "                 pco2                fio2               aado2  ...  \\\n",
       "0               62050               16541                5437  ...   \n",
       "1   48.15066881547139   64.99111299195937  492.72652565753174  ...   \n",
       "2  14.732684122524283  24.739972885601127  122.97508532137482  ...   \n",
       "3                10.0                21.0                0.12  ...   \n",
       "4               246.0               100.0               743.0  ...   \n",
       "\n",
       "      bilirubin_total    bilirubin_direct  bilirubin_indirect  \\\n",
       "0              148620               13409               13897   \n",
       "1  1.4621228636791646  3.0113729584607327  1.7329351658631367   \n",
       "2   3.557465027266691   5.138052210796493   2.325996291676031   \n",
       "3                 0.1                 0.1                 0.1   \n",
       "4                87.2                68.0                29.6   \n",
       "\n",
       "              ck_cpk               ck_mb                ggt  \\\n",
       "0              74281               65427               3717   \n",
       "1  727.7982525814139  11.967495070842311  250.6031746031746   \n",
       "2   6729.51889196154   38.24575537849562   386.639868567945   \n",
       "3                4.0                 1.0                3.0   \n",
       "4           591950.0               673.0             7380.0   \n",
       "\n",
       "               ld_ldh                crp charlson_comorbidity_index  gender  \n",
       "0               92776              20994                     431231  431231  \n",
       "1    389.837005259981  66.98933552443553         3.5870218050186558    None  \n",
       "2  1562.3742701386582  74.66665896488824          3.031824233136227    None  \n",
       "3                31.0                0.1                        0.0       F  \n",
       "4            377000.0              608.1                       20.0       M  \n",
       "\n",
       "[5 rows x 90 columns]"
      ]
     },
     "execution_count": 8,
     "metadata": {},
     "output_type": "execute_result"
    }
   ],
   "source": [
    "# converting all number columns to double of precision 2 except for gender\n",
    "import pyspark.sql.functions as F\n",
    "\n",
    "cols = data.columns\n",
    "cols.remove(\"gender\")\n",
    "data = data.select(*(F.round(F.col(c).cast(\"double\"), 2).alias(c) for c in cols), \"gender\")\n",
    "print(data.columns)\n",
    "print(data.printSchema())\n",
    "data.describe().toPandas()"
   ]
  },
  {
   "cell_type": "markdown",
   "id": "0e87c12e",
   "metadata": {},
   "source": [
    "- The min and max age values looks good."
   ]
  },
  {
   "cell_type": "markdown",
   "id": "a1bfc9c1",
   "metadata": {},
   "source": [
    "#### Impute missing values - Calculating the average of the values between the prev & next admission reading for the same subject."
   ]
  },
  {
   "cell_type": "code",
   "execution_count": 9,
   "id": "46cb840d",
   "metadata": {},
   "outputs": [
    {
     "name": "stdout",
     "output_type": "stream",
     "text": [
      "+-----------+-----+-------------+------+--------+----+\n",
      "| subject_id|  age|basophils_abs|db_wbc|platelet| ast|\n",
      "+-----------+-----+-------------+------+--------+----+\n",
      "|1.0040025E7|64.21|         null|  null|   202.0|null|\n",
      "|1.0040025E7|66.51|         null|  null|    null|null|\n",
      "|1.0040025E7|66.56|         null|   8.9|   275.0|null|\n",
      "|1.0040025E7| 66.8|         null|   6.2|   258.0|null|\n",
      "|1.0040025E7|68.46|         null|  12.6|   281.0|null|\n",
      "|1.0040025E7|68.59|         0.01|  11.3|   307.0|null|\n",
      "|1.0040025E7|68.86|         null|   9.8|   275.0|null|\n",
      "|1.0040025E7|68.93|         null|   8.6|   323.0|null|\n",
      "|1.0040025E7|68.99|         null|  12.6|   366.0|null|\n",
      "|1.0040025E7|69.06|         0.11|  16.7|   349.0|16.0|\n",
      "+-----------+-----+-------------+------+--------+----+\n",
      "\n"
     ]
    }
   ],
   "source": [
    "# sample for verification\n",
    "data.filter((data.subject_id == 10040025)).select(\"subject_id\",\"age\",\"basophils_abs\", \"db_wbc\", \"platelet\", \"ast\").orderBy(\"age\").show()"
   ]
  },
  {
   "cell_type": "code",
   "execution_count": 10,
   "id": "0cceb446",
   "metadata": {},
   "outputs": [],
   "source": [
    "# Before impute\n",
    "data.toPandas().to_csv(\"../data/EDA/before_imputation_all.csv\")"
   ]
  },
  {
   "cell_type": "code",
   "execution_count": 11,
   "id": "e3c87ad6",
   "metadata": {},
   "outputs": [],
   "source": [
    "# Use window function to impute missing values.\n",
    "# https://sqlrelease.com/get-the-first-non-null-value-per-group-spark-dataframe\n",
    "from pyspark.sql.window import Window\n",
    "subject_win_prev = Window.partitionBy(\"subject_id\").orderBy(F.desc(\"age\")).rowsBetween(Window.currentRow+1,Window.unboundedFollowing)\n",
    "subject_win_next = Window.partitionBy(\"subject_id\").orderBy(\"age\").rowsBetween(Window.currentRow+1,Window.unboundedFollowing)\n",
    "#wi_next = Window.partitionBy(\"subject_id\").orderBy(F.desc(\"age\"))\n",
    "for c in data.columns:\n",
    "    if (c not in (\"subject_id\", \"age\", \"gender\", \"hadm_id\", \"charlson_comorbidity_index\")):\n",
    "            data = data.withColumn('temp_' + c + 'prev', F.first(c, ignorenulls = True).over(subject_win_prev)) \\\n",
    "            .withColumn('temp_' + c + 'next', F.first(c, ignorenulls = True).over(subject_win_next)) \\\n",
    "            .withColumn(c , F.when(F.col(c).isNotNull() ,F.col(c)) \\\n",
    "                        .when(F.col(c).isNull() & F.col('temp_' + c + 'prev').isNull(), F.col('temp_' + c + 'next')) \\\n",
    "                        .when(F.col(c).isNull() & F.col('temp_' + c + 'next').isNull(), F.col('temp_' + c + 'prev')) \\\n",
    "                        .otherwise(((F.col('temp_' + c + 'prev') + F.col('temp_' + c + 'next'))/2))) \\\n",
    "            .drop('temp_' + c + 'prev', 'temp_' + c + 'next')"
   ]
  },
  {
   "cell_type": "code",
   "execution_count": 13,
   "id": "f260c17c",
   "metadata": {},
   "outputs": [
    {
     "name": "stdout",
     "output_type": "stream",
     "text": [
      "+-----------+-----+-------------+------+--------+----+\n",
      "| subject_id|  age|basophils_abs|db_wbc|platelet| ast|\n",
      "+-----------+-----+-------------+------+--------+----+\n",
      "|1.0040025E7|64.21|         0.01|   8.9|   202.0|16.0|\n",
      "|1.0040025E7|66.51|         0.01|   8.9|   238.5|16.0|\n",
      "|1.0040025E7|66.56|         0.01|   8.9|   275.0|16.0|\n",
      "|1.0040025E7| 66.8|         0.01|   6.2|   258.0|16.0|\n",
      "|1.0040025E7|68.46|         0.01|  12.6|   281.0|16.0|\n",
      "|1.0040025E7|68.59|         0.01|  11.3|   307.0|16.0|\n",
      "|1.0040025E7|68.86|         0.06|   9.8|   275.0|16.0|\n",
      "|1.0040025E7|68.93|         0.06|   8.6|   323.0|16.0|\n",
      "|1.0040025E7|68.99|         0.06|  12.6|   366.0|16.0|\n",
      "|1.0040025E7|69.06|         0.11|  16.7|   349.0|16.0|\n",
      "+-----------+-----+-------------+------+--------+----+\n",
      "\n"
     ]
    }
   ],
   "source": [
    "# same sample for verification\n",
    "data.filter((data.subject_id == 10040025)).select(\"subject_id\",\"age\",\"basophils_abs\", \"db_wbc\", \"platelet\", \"ast\").orderBy(\"age\").show()"
   ]
  },
  {
   "cell_type": "code",
   "execution_count": 13,
   "id": "93844302",
   "metadata": {},
   "outputs": [
    {
     "ename": "Py4JJavaError",
     "evalue": "An error occurred while calling o3388.collectToPython.\n: org.apache.spark.SparkException: Job 12 cancelled because SparkContext was shut down\r\n\tat org.apache.spark.scheduler.DAGScheduler.$anonfun$cleanUpAfterSchedulerStop$1(DAGScheduler.scala:1188)\r\n\tat org.apache.spark.scheduler.DAGScheduler.$anonfun$cleanUpAfterSchedulerStop$1$adapted(DAGScheduler.scala:1186)\r\n\tat scala.collection.mutable.HashSet.foreach(HashSet.scala:79)\r\n\tat org.apache.spark.scheduler.DAGScheduler.cleanUpAfterSchedulerStop(DAGScheduler.scala:1186)\r\n\tat org.apache.spark.scheduler.DAGSchedulerEventProcessLoop.onStop(DAGScheduler.scala:2887)\r\n\tat org.apache.spark.util.EventLoop.stop(EventLoop.scala:84)\r\n\tat org.apache.spark.scheduler.DAGScheduler.stop(DAGScheduler.scala:2784)\r\n\tat org.apache.spark.SparkContext.$anonfun$stop$11(SparkContext.scala:2105)\r\n\tat org.apache.spark.util.Utils$.tryLogNonFatalError(Utils.scala:1484)\r\n\tat org.apache.spark.SparkContext.stop(SparkContext.scala:2105)\r\n\tat org.apache.spark.SparkContext.$anonfun$new$35(SparkContext.scala:670)\r\n\tat org.apache.spark.util.SparkShutdownHook.run(ShutdownHookManager.scala:214)\r\n\tat org.apache.spark.util.SparkShutdownHookManager.$anonfun$runAll$2(ShutdownHookManager.scala:188)\r\n\tat scala.runtime.java8.JFunction0$mcV$sp.apply(JFunction0$mcV$sp.java:23)\r\n\tat org.apache.spark.util.Utils$.logUncaughtExceptions(Utils.scala:2066)\r\n\tat org.apache.spark.util.SparkShutdownHookManager.$anonfun$runAll$1(ShutdownHookManager.scala:188)\r\n\tat scala.runtime.java8.JFunction0$mcV$sp.apply(JFunction0$mcV$sp.java:23)\r\n\tat scala.util.Try$.apply(Try.scala:213)\r\n\tat org.apache.spark.util.SparkShutdownHookManager.runAll(ShutdownHookManager.scala:188)\r\n\tat org.apache.spark.util.SparkShutdownHookManager$$anon$2.run(ShutdownHookManager.scala:178)\r\n\tat org.apache.hadoop.util.ShutdownHookManager$1.run(ShutdownHookManager.java:54)\r\n\tat org.apache.spark.scheduler.DAGScheduler.runJob(DAGScheduler.scala:952)\r\n\tat org.apache.spark.SparkContext.runJob(SparkContext.scala:2238)\r\n\tat org.apache.spark.SparkContext.runJob(SparkContext.scala:2259)\r\n\tat org.apache.spark.SparkContext.runJob(SparkContext.scala:2278)\r\n\tat org.apache.spark.SparkContext.runJob(SparkContext.scala:2303)\r\n\tat org.apache.spark.rdd.RDD.$anonfun$collect$1(RDD.scala:1021)\r\n\tat org.apache.spark.rdd.RDDOperationScope$.withScope(RDDOperationScope.scala:151)\r\n\tat org.apache.spark.rdd.RDDOperationScope$.withScope(RDDOperationScope.scala:112)\r\n\tat org.apache.spark.rdd.RDD.withScope(RDD.scala:406)\r\n\tat org.apache.spark.rdd.RDD.collect(RDD.scala:1020)\r\n\tat org.apache.spark.sql.execution.SparkPlan.executeCollect(SparkPlan.scala:424)\r\n\tat org.apache.spark.sql.execution.adaptive.AdaptiveSparkPlanExec.$anonfun$executeCollect$1(AdaptiveSparkPlanExec.scala:348)\r\n\tat org.apache.spark.sql.execution.adaptive.AdaptiveSparkPlanExec.withFinalPlanUpdate(AdaptiveSparkPlanExec.scala:376)\r\n\tat org.apache.spark.sql.execution.adaptive.AdaptiveSparkPlanExec.executeCollect(AdaptiveSparkPlanExec.scala:348)\r\n\tat org.apache.spark.sql.Dataset.$anonfun$collectToPython$1(Dataset.scala:3688)\r\n\tat org.apache.spark.sql.Dataset.$anonfun$withAction$2(Dataset.scala:3858)\r\n\tat org.apache.spark.sql.execution.QueryExecution$.withInternalError(QueryExecution.scala:510)\r\n\tat org.apache.spark.sql.Dataset.$anonfun$withAction$1(Dataset.scala:3856)\r\n\tat org.apache.spark.sql.execution.SQLExecution$.$anonfun$withNewExecutionId$6(SQLExecution.scala:109)\r\n\tat org.apache.spark.sql.execution.SQLExecution$.withSQLConfPropagated(SQLExecution.scala:169)\r\n\tat org.apache.spark.sql.execution.SQLExecution$.$anonfun$withNewExecutionId$1(SQLExecution.scala:95)\r\n\tat org.apache.spark.sql.SparkSession.withActive(SparkSession.scala:779)\r\n\tat org.apache.spark.sql.execution.SQLExecution$.withNewExecutionId(SQLExecution.scala:64)\r\n\tat org.apache.spark.sql.Dataset.withAction(Dataset.scala:3856)\r\n\tat org.apache.spark.sql.Dataset.collectToPython(Dataset.scala:3685)\r\n\tat java.base/jdk.internal.reflect.DirectMethodHandleAccessor.invoke(DirectMethodHandleAccessor.java:104)\r\n\tat java.base/java.lang.reflect.Method.invoke(Method.java:577)\r\n\tat py4j.reflection.MethodInvoker.invoke(MethodInvoker.java:244)\r\n\tat py4j.reflection.ReflectionEngine.invoke(ReflectionEngine.java:357)\r\n\tat py4j.Gateway.invoke(Gateway.java:282)\r\n\tat py4j.commands.AbstractCommand.invokeMethod(AbstractCommand.java:132)\r\n\tat py4j.commands.CallCommand.execute(CallCommand.java:79)\r\n\tat py4j.ClientServerConnection.waitForCommands(ClientServerConnection.java:182)\r\n\tat py4j.ClientServerConnection.run(ClientServerConnection.java:106)\r\n\tat java.base/java.lang.Thread.run(Thread.java:833)\r\n",
     "output_type": "error",
     "traceback": [
      "\u001b[1;31m---------------------------------------------------------------------------\u001b[0m",
      "\u001b[1;31mPy4JJavaError\u001b[0m                             Traceback (most recent call last)",
      "Input \u001b[1;32mIn [13]\u001b[0m, in \u001b[0;36m<cell line: 1>\u001b[1;34m()\u001b[0m\n\u001b[1;32m----> 1\u001b[0m \u001b[43mdata\u001b[49m\u001b[38;5;241;43m.\u001b[39;49m\u001b[43mtoPandas\u001b[49m\u001b[43m(\u001b[49m\u001b[43m)\u001b[49m\u001b[38;5;241m.\u001b[39mto_csv(\u001b[38;5;124m\"\u001b[39m\u001b[38;5;124m../data/EDA/after_imputation_all.csv\u001b[39m\u001b[38;5;124m\"\u001b[39m)\n",
      "File \u001b[1;32mC:\\Spark\\spark-3.3.2-bin-hadoop2\\python\\lib\\pyspark.zip\\pyspark\\sql\\pandas\\conversion.py:205\u001b[0m, in \u001b[0;36mPandasConversionMixin.toPandas\u001b[1;34m(self)\u001b[0m\n\u001b[0;32m    202\u001b[0m             \u001b[38;5;28;01mraise\u001b[39;00m\n\u001b[0;32m    204\u001b[0m \u001b[38;5;66;03m# Below is toPandas without Arrow optimization.\u001b[39;00m\n\u001b[1;32m--> 205\u001b[0m pdf \u001b[38;5;241m=\u001b[39m pd\u001b[38;5;241m.\u001b[39mDataFrame\u001b[38;5;241m.\u001b[39mfrom_records(\u001b[38;5;28;43mself\u001b[39;49m\u001b[38;5;241;43m.\u001b[39;49m\u001b[43mcollect\u001b[49m\u001b[43m(\u001b[49m\u001b[43m)\u001b[49m, columns\u001b[38;5;241m=\u001b[39m\u001b[38;5;28mself\u001b[39m\u001b[38;5;241m.\u001b[39mcolumns)\n\u001b[0;32m    206\u001b[0m column_counter \u001b[38;5;241m=\u001b[39m Counter(\u001b[38;5;28mself\u001b[39m\u001b[38;5;241m.\u001b[39mcolumns)\n\u001b[0;32m    208\u001b[0m corrected_dtypes: List[Optional[Type]] \u001b[38;5;241m=\u001b[39m [\u001b[38;5;28;01mNone\u001b[39;00m] \u001b[38;5;241m*\u001b[39m \u001b[38;5;28mlen\u001b[39m(\u001b[38;5;28mself\u001b[39m\u001b[38;5;241m.\u001b[39mschema)\n",
      "File \u001b[1;32mC:\\Spark\\spark-3.3.2-bin-hadoop2\\python\\lib\\pyspark.zip\\pyspark\\sql\\dataframe.py:817\u001b[0m, in \u001b[0;36mDataFrame.collect\u001b[1;34m(self)\u001b[0m\n\u001b[0;32m    807\u001b[0m \u001b[38;5;124;03m\"\"\"Returns all the records as a list of :class:`Row`.\u001b[39;00m\n\u001b[0;32m    808\u001b[0m \n\u001b[0;32m    809\u001b[0m \u001b[38;5;124;03m.. versionadded:: 1.3.0\u001b[39;00m\n\u001b[1;32m   (...)\u001b[0m\n\u001b[0;32m    814\u001b[0m \u001b[38;5;124;03m[Row(age=2, name='Alice'), Row(age=5, name='Bob')]\u001b[39;00m\n\u001b[0;32m    815\u001b[0m \u001b[38;5;124;03m\"\"\"\u001b[39;00m\n\u001b[0;32m    816\u001b[0m \u001b[38;5;28;01mwith\u001b[39;00m SCCallSiteSync(\u001b[38;5;28mself\u001b[39m\u001b[38;5;241m.\u001b[39m_sc):\n\u001b[1;32m--> 817\u001b[0m     sock_info \u001b[38;5;241m=\u001b[39m \u001b[38;5;28;43mself\u001b[39;49m\u001b[38;5;241;43m.\u001b[39;49m\u001b[43m_jdf\u001b[49m\u001b[38;5;241;43m.\u001b[39;49m\u001b[43mcollectToPython\u001b[49m\u001b[43m(\u001b[49m\u001b[43m)\u001b[49m\n\u001b[0;32m    818\u001b[0m \u001b[38;5;28;01mreturn\u001b[39;00m \u001b[38;5;28mlist\u001b[39m(_load_from_socket(sock_info, BatchedSerializer(CPickleSerializer())))\n",
      "File \u001b[1;32mC:\\Spark\\spark-3.3.2-bin-hadoop2\\python\\lib\\py4j-0.10.9.5-src.zip\\py4j\\java_gateway.py:1321\u001b[0m, in \u001b[0;36mJavaMember.__call__\u001b[1;34m(self, *args)\u001b[0m\n\u001b[0;32m   1315\u001b[0m command \u001b[38;5;241m=\u001b[39m proto\u001b[38;5;241m.\u001b[39mCALL_COMMAND_NAME \u001b[38;5;241m+\u001b[39m\\\n\u001b[0;32m   1316\u001b[0m     \u001b[38;5;28mself\u001b[39m\u001b[38;5;241m.\u001b[39mcommand_header \u001b[38;5;241m+\u001b[39m\\\n\u001b[0;32m   1317\u001b[0m     args_command \u001b[38;5;241m+\u001b[39m\\\n\u001b[0;32m   1318\u001b[0m     proto\u001b[38;5;241m.\u001b[39mEND_COMMAND_PART\n\u001b[0;32m   1320\u001b[0m answer \u001b[38;5;241m=\u001b[39m \u001b[38;5;28mself\u001b[39m\u001b[38;5;241m.\u001b[39mgateway_client\u001b[38;5;241m.\u001b[39msend_command(command)\n\u001b[1;32m-> 1321\u001b[0m return_value \u001b[38;5;241m=\u001b[39m \u001b[43mget_return_value\u001b[49m\u001b[43m(\u001b[49m\n\u001b[0;32m   1322\u001b[0m \u001b[43m    \u001b[49m\u001b[43manswer\u001b[49m\u001b[43m,\u001b[49m\u001b[43m \u001b[49m\u001b[38;5;28;43mself\u001b[39;49m\u001b[38;5;241;43m.\u001b[39;49m\u001b[43mgateway_client\u001b[49m\u001b[43m,\u001b[49m\u001b[43m \u001b[49m\u001b[38;5;28;43mself\u001b[39;49m\u001b[38;5;241;43m.\u001b[39;49m\u001b[43mtarget_id\u001b[49m\u001b[43m,\u001b[49m\u001b[43m \u001b[49m\u001b[38;5;28;43mself\u001b[39;49m\u001b[38;5;241;43m.\u001b[39;49m\u001b[43mname\u001b[49m\u001b[43m)\u001b[49m\n\u001b[0;32m   1324\u001b[0m \u001b[38;5;28;01mfor\u001b[39;00m temp_arg \u001b[38;5;129;01min\u001b[39;00m temp_args:\n\u001b[0;32m   1325\u001b[0m     temp_arg\u001b[38;5;241m.\u001b[39m_detach()\n",
      "File \u001b[1;32mC:\\Spark\\spark-3.3.2-bin-hadoop2\\python\\lib\\pyspark.zip\\pyspark\\sql\\utils.py:190\u001b[0m, in \u001b[0;36mcapture_sql_exception.<locals>.deco\u001b[1;34m(*a, **kw)\u001b[0m\n\u001b[0;32m    188\u001b[0m \u001b[38;5;28;01mdef\u001b[39;00m \u001b[38;5;21mdeco\u001b[39m(\u001b[38;5;241m*\u001b[39ma: Any, \u001b[38;5;241m*\u001b[39m\u001b[38;5;241m*\u001b[39mkw: Any) \u001b[38;5;241m-\u001b[39m\u001b[38;5;241m>\u001b[39m Any:\n\u001b[0;32m    189\u001b[0m     \u001b[38;5;28;01mtry\u001b[39;00m:\n\u001b[1;32m--> 190\u001b[0m         \u001b[38;5;28;01mreturn\u001b[39;00m f(\u001b[38;5;241m*\u001b[39ma, \u001b[38;5;241m*\u001b[39m\u001b[38;5;241m*\u001b[39mkw)\n\u001b[0;32m    191\u001b[0m     \u001b[38;5;28;01mexcept\u001b[39;00m Py4JJavaError \u001b[38;5;28;01mas\u001b[39;00m e:\n\u001b[0;32m    192\u001b[0m         converted \u001b[38;5;241m=\u001b[39m convert_exception(e\u001b[38;5;241m.\u001b[39mjava_exception)\n",
      "File \u001b[1;32mC:\\Spark\\spark-3.3.2-bin-hadoop2\\python\\lib\\py4j-0.10.9.5-src.zip\\py4j\\protocol.py:326\u001b[0m, in \u001b[0;36mget_return_value\u001b[1;34m(answer, gateway_client, target_id, name)\u001b[0m\n\u001b[0;32m    324\u001b[0m value \u001b[38;5;241m=\u001b[39m OUTPUT_CONVERTER[\u001b[38;5;28mtype\u001b[39m](answer[\u001b[38;5;241m2\u001b[39m:], gateway_client)\n\u001b[0;32m    325\u001b[0m \u001b[38;5;28;01mif\u001b[39;00m answer[\u001b[38;5;241m1\u001b[39m] \u001b[38;5;241m==\u001b[39m REFERENCE_TYPE:\n\u001b[1;32m--> 326\u001b[0m     \u001b[38;5;28;01mraise\u001b[39;00m Py4JJavaError(\n\u001b[0;32m    327\u001b[0m         \u001b[38;5;124m\"\u001b[39m\u001b[38;5;124mAn error occurred while calling \u001b[39m\u001b[38;5;132;01m{0}\u001b[39;00m\u001b[38;5;132;01m{1}\u001b[39;00m\u001b[38;5;132;01m{2}\u001b[39;00m\u001b[38;5;124m.\u001b[39m\u001b[38;5;130;01m\\n\u001b[39;00m\u001b[38;5;124m\"\u001b[39m\u001b[38;5;241m.\u001b[39m\n\u001b[0;32m    328\u001b[0m         \u001b[38;5;28mformat\u001b[39m(target_id, \u001b[38;5;124m\"\u001b[39m\u001b[38;5;124m.\u001b[39m\u001b[38;5;124m\"\u001b[39m, name), value)\n\u001b[0;32m    329\u001b[0m \u001b[38;5;28;01melse\u001b[39;00m:\n\u001b[0;32m    330\u001b[0m     \u001b[38;5;28;01mraise\u001b[39;00m Py4JError(\n\u001b[0;32m    331\u001b[0m         \u001b[38;5;124m\"\u001b[39m\u001b[38;5;124mAn error occurred while calling \u001b[39m\u001b[38;5;132;01m{0}\u001b[39;00m\u001b[38;5;132;01m{1}\u001b[39;00m\u001b[38;5;132;01m{2}\u001b[39;00m\u001b[38;5;124m. Trace:\u001b[39m\u001b[38;5;130;01m\\n\u001b[39;00m\u001b[38;5;132;01m{3}\u001b[39;00m\u001b[38;5;130;01m\\n\u001b[39;00m\u001b[38;5;124m\"\u001b[39m\u001b[38;5;241m.\u001b[39m\n\u001b[0;32m    332\u001b[0m         \u001b[38;5;28mformat\u001b[39m(target_id, \u001b[38;5;124m\"\u001b[39m\u001b[38;5;124m.\u001b[39m\u001b[38;5;124m\"\u001b[39m, name, value))\n",
      "\u001b[1;31mPy4JJavaError\u001b[0m: An error occurred while calling o3388.collectToPython.\n: org.apache.spark.SparkException: Job 12 cancelled because SparkContext was shut down\r\n\tat org.apache.spark.scheduler.DAGScheduler.$anonfun$cleanUpAfterSchedulerStop$1(DAGScheduler.scala:1188)\r\n\tat org.apache.spark.scheduler.DAGScheduler.$anonfun$cleanUpAfterSchedulerStop$1$adapted(DAGScheduler.scala:1186)\r\n\tat scala.collection.mutable.HashSet.foreach(HashSet.scala:79)\r\n\tat org.apache.spark.scheduler.DAGScheduler.cleanUpAfterSchedulerStop(DAGScheduler.scala:1186)\r\n\tat org.apache.spark.scheduler.DAGSchedulerEventProcessLoop.onStop(DAGScheduler.scala:2887)\r\n\tat org.apache.spark.util.EventLoop.stop(EventLoop.scala:84)\r\n\tat org.apache.spark.scheduler.DAGScheduler.stop(DAGScheduler.scala:2784)\r\n\tat org.apache.spark.SparkContext.$anonfun$stop$11(SparkContext.scala:2105)\r\n\tat org.apache.spark.util.Utils$.tryLogNonFatalError(Utils.scala:1484)\r\n\tat org.apache.spark.SparkContext.stop(SparkContext.scala:2105)\r\n\tat org.apache.spark.SparkContext.$anonfun$new$35(SparkContext.scala:670)\r\n\tat org.apache.spark.util.SparkShutdownHook.run(ShutdownHookManager.scala:214)\r\n\tat org.apache.spark.util.SparkShutdownHookManager.$anonfun$runAll$2(ShutdownHookManager.scala:188)\r\n\tat scala.runtime.java8.JFunction0$mcV$sp.apply(JFunction0$mcV$sp.java:23)\r\n\tat org.apache.spark.util.Utils$.logUncaughtExceptions(Utils.scala:2066)\r\n\tat org.apache.spark.util.SparkShutdownHookManager.$anonfun$runAll$1(ShutdownHookManager.scala:188)\r\n\tat scala.runtime.java8.JFunction0$mcV$sp.apply(JFunction0$mcV$sp.java:23)\r\n\tat scala.util.Try$.apply(Try.scala:213)\r\n\tat org.apache.spark.util.SparkShutdownHookManager.runAll(ShutdownHookManager.scala:188)\r\n\tat org.apache.spark.util.SparkShutdownHookManager$$anon$2.run(ShutdownHookManager.scala:178)\r\n\tat org.apache.hadoop.util.ShutdownHookManager$1.run(ShutdownHookManager.java:54)\r\n\tat org.apache.spark.scheduler.DAGScheduler.runJob(DAGScheduler.scala:952)\r\n\tat org.apache.spark.SparkContext.runJob(SparkContext.scala:2238)\r\n\tat org.apache.spark.SparkContext.runJob(SparkContext.scala:2259)\r\n\tat org.apache.spark.SparkContext.runJob(SparkContext.scala:2278)\r\n\tat org.apache.spark.SparkContext.runJob(SparkContext.scala:2303)\r\n\tat org.apache.spark.rdd.RDD.$anonfun$collect$1(RDD.scala:1021)\r\n\tat org.apache.spark.rdd.RDDOperationScope$.withScope(RDDOperationScope.scala:151)\r\n\tat org.apache.spark.rdd.RDDOperationScope$.withScope(RDDOperationScope.scala:112)\r\n\tat org.apache.spark.rdd.RDD.withScope(RDD.scala:406)\r\n\tat org.apache.spark.rdd.RDD.collect(RDD.scala:1020)\r\n\tat org.apache.spark.sql.execution.SparkPlan.executeCollect(SparkPlan.scala:424)\r\n\tat org.apache.spark.sql.execution.adaptive.AdaptiveSparkPlanExec.$anonfun$executeCollect$1(AdaptiveSparkPlanExec.scala:348)\r\n\tat org.apache.spark.sql.execution.adaptive.AdaptiveSparkPlanExec.withFinalPlanUpdate(AdaptiveSparkPlanExec.scala:376)\r\n\tat org.apache.spark.sql.execution.adaptive.AdaptiveSparkPlanExec.executeCollect(AdaptiveSparkPlanExec.scala:348)\r\n\tat org.apache.spark.sql.Dataset.$anonfun$collectToPython$1(Dataset.scala:3688)\r\n\tat org.apache.spark.sql.Dataset.$anonfun$withAction$2(Dataset.scala:3858)\r\n\tat org.apache.spark.sql.execution.QueryExecution$.withInternalError(QueryExecution.scala:510)\r\n\tat org.apache.spark.sql.Dataset.$anonfun$withAction$1(Dataset.scala:3856)\r\n\tat org.apache.spark.sql.execution.SQLExecution$.$anonfun$withNewExecutionId$6(SQLExecution.scala:109)\r\n\tat org.apache.spark.sql.execution.SQLExecution$.withSQLConfPropagated(SQLExecution.scala:169)\r\n\tat org.apache.spark.sql.execution.SQLExecution$.$anonfun$withNewExecutionId$1(SQLExecution.scala:95)\r\n\tat org.apache.spark.sql.SparkSession.withActive(SparkSession.scala:779)\r\n\tat org.apache.spark.sql.execution.SQLExecution$.withNewExecutionId(SQLExecution.scala:64)\r\n\tat org.apache.spark.sql.Dataset.withAction(Dataset.scala:3856)\r\n\tat org.apache.spark.sql.Dataset.collectToPython(Dataset.scala:3685)\r\n\tat java.base/jdk.internal.reflect.DirectMethodHandleAccessor.invoke(DirectMethodHandleAccessor.java:104)\r\n\tat java.base/java.lang.reflect.Method.invoke(Method.java:577)\r\n\tat py4j.reflection.MethodInvoker.invoke(MethodInvoker.java:244)\r\n\tat py4j.reflection.ReflectionEngine.invoke(ReflectionEngine.java:357)\r\n\tat py4j.Gateway.invoke(Gateway.java:282)\r\n\tat py4j.commands.AbstractCommand.invokeMethod(AbstractCommand.java:132)\r\n\tat py4j.commands.CallCommand.execute(CallCommand.java:79)\r\n\tat py4j.ClientServerConnection.waitForCommands(ClientServerConnection.java:182)\r\n\tat py4j.ClientServerConnection.run(ClientServerConnection.java:106)\r\n\tat java.base/java.lang.Thread.run(Thread.java:833)\r\n"
     ]
    }
   ],
   "source": [
    "data.toPandas().to_csv(\"../data/EDA/after_imputation_all.csv\")"
   ]
  },
  {
   "cell_type": "markdown",
   "id": "846a9dc8",
   "metadata": {},
   "source": [
    "#### Remove columns with more than 50% missing values"
   ]
  },
  {
   "cell_type": "code",
   "execution_count": null,
   "id": "69fe3774",
   "metadata": {
    "scrolled": true
   },
   "outputs": [],
   "source": [
    "dt = data.describe().toPandas()\n",
    "dt"
   ]
  },
  {
   "cell_type": "code",
   "execution_count": null,
   "id": "a9ce37f7",
   "metadata": {
    "scrolled": true
   },
   "outputs": [],
   "source": [
    "# identify and get columns with < 50% missing values\n",
    "dt_t = dt.T\n",
    "dt_t.columns = dt_t.iloc[0]\n",
    "dt_t.drop(dt_t.index[0], inplace=True)\n",
    "#dt_t.drop(dt_t.index[89], inplace=True)\n",
    "dt_t[\"count\"] = dt_t['count'].astype(int)\n",
    "dt_t['missing_percentage'] = 100 - (dt_t[\"count\"] / data.count())*100\n",
    "print(dt_t)\n",
    "dt_t = dt_t[dt_t[\"missing_percentage\"] < 50]\n",
    "print(dt_t)\n",
    "print(dt_t.shape)"
   ]
  },
  {
   "cell_type": "markdown",
   "id": "d6a5debb",
   "metadata": {},
   "source": [
    "After removing all the columns with missing value % >= 50, we get remaining 45 feature fields which are as follows."
   ]
  },
  {
   "cell_type": "code",
   "execution_count": null,
   "id": "5b10f19e",
   "metadata": {
    "scrolled": true
   },
   "outputs": [],
   "source": [
    "print(dt_t.shape)\n",
    "dt_t.index"
   ]
  },
  {
   "cell_type": "code",
   "execution_count": null,
   "id": "4bd802e5",
   "metadata": {},
   "outputs": [],
   "source": [
    "# Filter out only the identified column data from the data\n",
    "data = data.select(dt_t.index.values.tolist())"
   ]
  },
  {
   "cell_type": "code",
   "execution_count": null,
   "id": "fb585123",
   "metadata": {
    "scrolled": true
   },
   "outputs": [],
   "source": [
    "# round off age by 2 decimal point\n",
    "print(data.printSchema())\n",
    "data.describe().toPandas()"
   ]
  },
  {
   "cell_type": "markdown",
   "id": "59341cea",
   "metadata": {},
   "source": [
    "No columns removed."
   ]
  },
  {
   "cell_type": "markdown",
   "id": "d42ae480",
   "metadata": {},
   "source": [
    "#### retain rows which has missing values less than 25% of the columns."
   ]
  },
  {
   "cell_type": "code",
   "execution_count": null,
   "id": "cd0e9252",
   "metadata": {
    "scrolled": true
   },
   "outputs": [],
   "source": [
    "# calculate missing percentage for every row\n",
    "from operator import add\n",
    "from functools import reduce\n",
    "for c in data2.columns:\n",
    "    if ('missing_' not in c) and (c not in (\"subject_id\", \"age\", \"gender\", \"hadm_id\", \"charlson_comorbidity_index\")):\n",
    "            data = data.withColumn('missing_' + c, F.when(F.col(c).isNull(), 1).otherwise(0))\n",
    "\n",
    "data = data.withColumn('missing_percentage', (reduce(add, [F.col(x) for x in data.columns if \"missing_\" in x])/(len(data.columns)-5))*100)\n",
    "data.toPandas()"
   ]
  },
  {
   "cell_type": "code",
   "execution_count": null,
   "id": "f16f2c56",
   "metadata": {},
   "outputs": [],
   "source": [
    "data.groupBy(\"missing_percentage\").count().toPandas()"
   ]
  },
  {
   "cell_type": "code",
   "execution_count": null,
   "id": "5a7c7675",
   "metadata": {},
   "outputs": [],
   "source": [
    "data3 = data.filter(\"missing_percentage < 25\")"
   ]
  },
  {
   "cell_type": "code",
   "execution_count": null,
   "id": "16a8543f",
   "metadata": {},
   "outputs": [],
   "source": [
    "print(data.count())\n",
    "print(data3.count())\n"
   ]
  },
  {
   "cell_type": "markdown",
   "id": "8ce779fa",
   "metadata": {},
   "source": [
    "None of the rows has missing % >= 25"
   ]
  },
  {
   "cell_type": "code",
   "execution_count": null,
   "id": "7fa21b3c",
   "metadata": {},
   "outputs": [],
   "source": [
    "print(len(data3.columns))\n",
    "condition = lambda x: (\"missing_\" in x)\n",
    "data3 = data3.drop(*filter(condition, data3.columns))\n",
    "len(data3.columns)"
   ]
  },
  {
   "cell_type": "code",
   "execution_count": null,
   "id": "fd14ab58",
   "metadata": {},
   "outputs": [],
   "source": [
    "data3.toPandas().to_csv(\"../data/EDA/after_eda_all.csv\")"
   ]
  },
  {
   "cell_type": "code",
   "execution_count": null,
   "id": "708c9223",
   "metadata": {},
   "outputs": [],
   "source": [
    "data4 = spark.read.option(\"header\",\"true\").csv(\"../data/EDA/after_eda_all.csv\")\n",
    "data4.printSchema()"
   ]
  },
  {
   "cell_type": "code",
   "execution_count": null,
   "id": "3ddf9c45",
   "metadata": {},
   "outputs": [],
   "source": [
    "# get the first admission readings and last admission co-morbidity index value\n",
    "from pyspark.sql.window import Window\n",
    "import pyspark.sql.functions as F\n",
    "subject_win = Window.partitionBy(\"subject_id\").orderBy((\"age\"))\n",
    "base_data = data4.withColumn(\"row\",F.row_number().over(subject_win)) \\\n",
    "  .filter(F.col(\"row\") == 1).drop(\"row\", \"charlson_comorbidity_index\")"
   ]
  },
  {
   "cell_type": "code",
   "execution_count": null,
   "id": "c387fdfd",
   "metadata": {},
   "outputs": [],
   "source": [
    "base_data.count()"
   ]
  },
  {
   "cell_type": "code",
   "execution_count": null,
   "id": "a1de595c",
   "metadata": {},
   "outputs": [],
   "source": [
    "subject_win_predict = Window.partitionBy(\"subject_id\").orderBy(F.desc(\"age\"))\n",
    "base_data_predict = data4.withColumn(\"row\",F.row_number().over(subject_win_predict)) \\\n",
    "  .filter(F.col(\"row\") == 1).select(\"subject_id\", \"charlson_comorbidity_index\")\n",
    "base_data_predict.count()"
   ]
  },
  {
   "cell_type": "code",
   "execution_count": null,
   "id": "d6a0d389",
   "metadata": {},
   "outputs": [],
   "source": [
    "print(base_data.columns)\n",
    "print(base_data_predict.columns)"
   ]
  },
  {
   "cell_type": "code",
   "execution_count": null,
   "id": "471fc7e8",
   "metadata": {},
   "outputs": [],
   "source": [
    "base_data.toPandas()"
   ]
  },
  {
   "cell_type": "code",
   "execution_count": null,
   "id": "ab612283",
   "metadata": {},
   "outputs": [],
   "source": [
    "base_data = base_data.drop(\"_c0\")"
   ]
  },
  {
   "cell_type": "code",
   "execution_count": null,
   "id": "170bfaa7",
   "metadata": {},
   "outputs": [],
   "source": [
    "base_data.toPandas()"
   ]
  },
  {
   "cell_type": "code",
   "execution_count": null,
   "id": "21d3490f",
   "metadata": {
    "scrolled": true
   },
   "outputs": [],
   "source": [
    "base_data_predict.toPandas()"
   ]
  },
  {
   "cell_type": "code",
   "execution_count": null,
   "id": "a0e41271",
   "metadata": {},
   "outputs": [],
   "source": [
    "base_data.toPandas().to_csv(\"../data/EDA/clustering_data_all.csv\")\n",
    "base_data_predict.toPandas().to_csv(\"../data/EDA/prediction_value_all.csv\")"
   ]
  },
  {
   "cell_type": "code",
   "execution_count": null,
   "id": "97c50a3b",
   "metadata": {},
   "outputs": [],
   "source": []
  }
 ],
 "metadata": {
  "kernelspec": {
   "display_name": "Python 3 (ipykernel)",
   "language": "python",
   "name": "python3"
  },
  "language_info": {
   "codemirror_mode": {
    "name": "ipython",
    "version": 3
   },
   "file_extension": ".py",
   "mimetype": "text/x-python",
   "name": "python",
   "nbconvert_exporter": "python",
   "pygments_lexer": "ipython3",
   "version": "3.9.12"
  }
 },
 "nbformat": 4,
 "nbformat_minor": 5
}
