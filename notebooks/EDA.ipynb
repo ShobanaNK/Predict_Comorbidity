{
 "cells": [
  {
   "cell_type": "code",
   "execution_count": 1,
   "id": "99438f7d",
   "metadata": {},
   "outputs": [],
   "source": [
    "import os\n",
    "import sys"
   ]
  },
  {
   "cell_type": "code",
   "execution_count": 2,
   "id": "8b60cee8",
   "metadata": {},
   "outputs": [],
   "source": [
    "os.environ[\"PYSPARK_PYTHON\"]=\"C:\\Spark\\spark-3.3.2-bin-hadoop2\\python\"\n",
    "os.environ[\"JAVA_HOME\"] = \"C:\\Program Files\\Java\\jdk-18.0.2.1\"\n",
    "os.environ[\"SPARK_HOME\"] = \"C:\\Spark\\spark-3.3.2-bin-hadoop2\"\n",
    "os.environ[\"PYLIB\"] = os.environ[\"SPARK_HOME\"] + \"/python/lib\"\n",
    "sys.path.insert(0, os.environ[\"PYLIB\"] + \"/py4j-0.10.9.5-src.zip\")\n",
    "sys.path.insert(0, os.environ[\"PYLIB\"] + \"/pyspark.zip\") "
   ]
  },
  {
   "cell_type": "code",
   "execution_count": 3,
   "id": "b3d5ae74",
   "metadata": {},
   "outputs": [
    {
     "data": {
      "text/html": [
       "\n",
       "            <div>\n",
       "                <p><b>SparkSession - in-memory</b></p>\n",
       "                \n",
       "        <div>\n",
       "            <p><b>SparkContext</b></p>\n",
       "\n",
       "            <p><a href=\"http://DESKTOP-0OH3S55:4040\">Spark UI</a></p>\n",
       "\n",
       "            <dl>\n",
       "              <dt>Version</dt>\n",
       "                <dd><code>v3.3.2</code></dd>\n",
       "              <dt>Master</dt>\n",
       "                <dd><code>local[*]</code></dd>\n",
       "              <dt>AppName</dt>\n",
       "                <dd><code>r_eda</code></dd>\n",
       "            </dl>\n",
       "        </div>\n",
       "        \n",
       "            </div>\n",
       "        "
      ],
      "text/plain": [
       "<pyspark.sql.session.SparkSession at 0x158c621f5b0>"
      ]
     },
     "execution_count": 3,
     "metadata": {},
     "output_type": "execute_result"
    }
   ],
   "source": [
    "from pyspark.sql import SparkSession\n",
    "spark = SparkSession.builder.appName(\"r_eda\").getOrCreate()\n",
    "spark"
   ]
  },
  {
   "cell_type": "code",
   "execution_count": null,
   "id": "8ca69b87",
   "metadata": {},
   "outputs": [],
   "source": [
    "data = spark.read.option(\"header\",\"true\").csv(\"../data/r_hosp_demo_dataset.csv\")\n",
    "data.printSchema()"
   ]
  },
  {
   "cell_type": "code",
   "execution_count": null,
   "id": "428a3bbf",
   "metadata": {},
   "outputs": [],
   "source": [
    "data.count()"
   ]
  },
  {
   "cell_type": "code",
   "execution_count": null,
   "id": "5d195811",
   "metadata": {
    "scrolled": true
   },
   "outputs": [],
   "source": [
    "data.describe().toPandas()"
   ]
  },
  {
   "cell_type": "markdown",
   "id": "e2b66f6d",
   "metadata": {},
   "source": [
    "- All the rows has subject, gender, age, admission id (hadm_id) and charlson_comorbidity_index.\n",
    "- The min and max age values looks good.\n",
    "\n",
    "To Do\n",
    "- Check for valid gender values and remove invalid genders (those other than 'M' and 'F').\n",
    "- Remove columns with more than 50% missing values\n",
    "- impute missing values by calculating the average of the value between the last & next reading for the same subject.\n",
    "- Remove columns with more than 25% missing values after impuatation.\n",
    "- remove rows which has data in less than 25% of the columns."
   ]
  },
  {
   "cell_type": "markdown",
   "id": "1ee43a3d",
   "metadata": {},
   "source": [
    "#### Check for valid gender values and remove invalid genders (those other than 'M' and 'F')."
   ]
  },
  {
   "cell_type": "code",
   "execution_count": null,
   "id": "e2334dd6",
   "metadata": {},
   "outputs": [],
   "source": [
    "#checking for gender values\n",
    "data.groupby(\"gender\").count().show()"
   ]
  },
  {
   "cell_type": "markdown",
   "id": "16786795",
   "metadata": {},
   "source": [
    "Gender column values looks good."
   ]
  },
  {
   "cell_type": "markdown",
   "id": "846a9dc8",
   "metadata": {},
   "source": [
    "#### Remove columns with more than 50% missing values"
   ]
  },
  {
   "cell_type": "code",
   "execution_count": null,
   "id": "69fe3774",
   "metadata": {},
   "outputs": [],
   "source": [
    "dt = data.describe().toPandas()\n",
    "dt"
   ]
  },
  {
   "cell_type": "code",
   "execution_count": null,
   "id": "a9ce37f7",
   "metadata": {
    "scrolled": true
   },
   "outputs": [],
   "source": [
    "# identify and get columns with < 50% missing values\n",
    "dt_t = dt.T\n",
    "dt_t.columns = dt_t.iloc[0]\n",
    "dt_t.drop(dt_t.index[0], inplace=True)\n",
    "#dt_t.drop(dt_t.index[89], inplace=True)\n",
    "dt_t[\"count\"] = dt_t['count'].astype(int)\n",
    "dt_t['missing_percentage'] = 100 - (dt_t[\"count\"] / data.count())*100\n",
    "print(dt_t)\n",
    "dt_t = dt_t[dt_t[\"missing_percentage\"] < 50]\n",
    "print(dt_t)\n",
    "print(dt_t.shape)"
   ]
  },
  {
   "cell_type": "markdown",
   "id": "d6a5debb",
   "metadata": {},
   "source": [
    "After removing all the columns with missing value % >= 50, we get remaining 45 feature fields which are as follows."
   ]
  },
  {
   "cell_type": "code",
   "execution_count": null,
   "id": "5b10f19e",
   "metadata": {
    "scrolled": true
   },
   "outputs": [],
   "source": [
    "print(dt_t.shape)\n",
    "dt_t.index"
   ]
  },
  {
   "cell_type": "code",
   "execution_count": null,
   "id": "4bd802e5",
   "metadata": {},
   "outputs": [],
   "source": [
    "# Filter out only the identified column data from the data\n",
    "data = data.select(dt_t.index.values.tolist())"
   ]
  },
  {
   "cell_type": "code",
   "execution_count": null,
   "id": "fb585123",
   "metadata": {
    "scrolled": true
   },
   "outputs": [],
   "source": [
    "# round off age by 2 decimal point\n",
    "print(data.printSchema())\n",
    "data.describe().toPandas()"
   ]
  },
  {
   "cell_type": "markdown",
   "id": "40d3ce7e",
   "metadata": {},
   "source": [
    "#### type conversion for the columns data"
   ]
  },
  {
   "cell_type": "markdown",
   "id": "994d15c4",
   "metadata": {},
   "source": [
    "Except for Gender, all other columns contain decimal values. Hence converting every column type to decimal with 2 decimal values."
   ]
  },
  {
   "cell_type": "code",
   "execution_count": null,
   "id": "69d58243",
   "metadata": {
    "scrolled": true
   },
   "outputs": [],
   "source": [
    "# converting all number columns to double of precision 2 except for gender\n",
    "import pyspark.sql.functions as F\n",
    "\n",
    "cols = data.columns\n",
    "cols.remove(\"gender\")\n",
    "data2 = data.select(*(F.round(F.col(c).cast(\"double\"), 2).alias(c) for c in cols), \"gender\")\n",
    "print(data2.columns)\n",
    "print(data2.printSchema())\n",
    "data2.describe().toPandas()"
   ]
  },
  {
   "cell_type": "markdown",
   "id": "64743aee",
   "metadata": {},
   "source": [
    "#### Impute missing values - Calculating the average of the values between the prev & next admission reading for the same subject."
   ]
  },
  {
   "cell_type": "code",
   "execution_count": null,
   "id": "19f0ca10",
   "metadata": {},
   "outputs": [],
   "source": [
    "# sample for verification\n",
    "data2.filter((data2.subject_id == 10040025)).select(\"subject_id\",\"age\",\"basophils_abs\", \"db_wbc\", \"platelet\", \"ast\").orderBy(\"age\").show()"
   ]
  },
  {
   "cell_type": "code",
   "execution_count": null,
   "id": "ddb11832",
   "metadata": {},
   "outputs": [],
   "source": [
    "# Before impute\n",
    "data2.toPandas().to_csv(\"../data/EDA/before_imputation.csv\")"
   ]
  },
  {
   "cell_type": "code",
   "execution_count": null,
   "id": "7eba7bf8",
   "metadata": {},
   "outputs": [],
   "source": [
    "# Use window function to impute missing values.\n",
    "# https://sqlrelease.com/get-the-first-non-null-value-per-group-spark-dataframe\n",
    "from pyspark.sql.window import Window\n",
    "subject_win_prev = Window.partitionBy(\"subject_id\").orderBy(F.desc(\"age\")).rowsBetween(Window.currentRow+1,Window.unboundedFollowing)\n",
    "subject_win_next = Window.partitionBy(\"subject_id\").orderBy(\"age\").rowsBetween(Window.currentRow+1,Window.unboundedFollowing)\n",
    "#wi_next = Window.partitionBy(\"subject_id\").orderBy(F.desc(\"age\"))\n",
    "for c in data2.columns:\n",
    "    if (c not in (\"subject_id\", \"age\", \"gender\", \"hadm_id\", \"charlson_comorbidity_index\")):\n",
    "            data2 = data2.withColumn('temp_' + c + 'prev', F.first(c, ignorenulls = True).over(subject_win_prev)) \\\n",
    "            .withColumn('temp_' + c + 'next', F.first(c, ignorenulls = True).over(subject_win_next)) \\\n",
    "            .withColumn(c , F.when(F.col(c).isNotNull() ,F.col(c)) \\\n",
    "                        .when(F.col(c).isNull() & F.col('temp_' + c + 'prev').isNull(), F.col('temp_' + c + 'next')) \\\n",
    "                        .when(F.col(c).isNull() & F.col('temp_' + c + 'next').isNull(), F.col('temp_' + c + 'prev')) \\\n",
    "                        .otherwise(((F.col('temp_' + c + 'prev') + F.col('temp_' + c + 'next'))/2))) \\\n",
    "            .drop('temp_' + c + 'prev', 'temp_' + c + 'next')"
   ]
  },
  {
   "cell_type": "code",
   "execution_count": null,
   "id": "1d8661c4",
   "metadata": {
    "scrolled": true
   },
   "outputs": [],
   "source": [
    "# same sample for verification\n",
    "data2.filter((data2.subject_id == 10040025)).select(\"subject_id\",\"age\",\"basophils_abs\", \"db_wbc\", \"platelet\", \"ast\").orderBy(\"age\").show()"
   ]
  },
  {
   "cell_type": "code",
   "execution_count": null,
   "id": "35238458",
   "metadata": {},
   "outputs": [],
   "source": [
    "data2.toPandas().to_csv(\"../data/EDA/after_imputation.csv\")"
   ]
  },
  {
   "cell_type": "markdown",
   "id": "f6c568c4",
   "metadata": {},
   "source": [
    "#### Remove columns with more than 25% missing values after impuatation."
   ]
  },
  {
   "cell_type": "code",
   "execution_count": null,
   "id": "ffc4e5b1",
   "metadata": {},
   "outputs": [],
   "source": [
    "# identify and get columns with < 25% missing values\n",
    "dt = data2.describe().toPandas()\n",
    "print(dt)\n",
    "dt_t = dt.T\n",
    "dt_t.columns = dt_t.iloc[0]\n",
    "dt_t.drop(dt_t.index[0], inplace=True)\n",
    "dt_t[\"count\"] = dt_t['count'].astype(int)\n",
    "dt_t['missing_percentage'] = 100 - (dt_t[\"count\"] / data.count())*100\n",
    "print(dt_t)\n",
    "print(dt_t.shape)\n",
    "dt_t = dt_t[dt_t[\"missing_percentage\"] < 25]\n",
    "print(dt_t)\n",
    "print(dt_t.shape)\n",
    "dt_t.index"
   ]
  },
  {
   "cell_type": "code",
   "execution_count": null,
   "id": "98e1f712",
   "metadata": {},
   "outputs": [],
   "source": [
    "print(dt_t.shape)\n",
    "dt_t.index"
   ]
  },
  {
   "cell_type": "code",
   "execution_count": null,
   "id": "6eb229a6",
   "metadata": {},
   "outputs": [],
   "source": [
    "# Filter out only the identified column data from the data\n",
    "print(data2.columns)\n",
    "print(len(data2.columns))\n",
    "data2 = data2.select(dt_t.index.values.tolist())\n",
    "print(data2.columns)\n",
    "print(len(data2.columns))"
   ]
  },
  {
   "cell_type": "markdown",
   "id": "59341cea",
   "metadata": {},
   "source": [
    "No columns removed."
   ]
  },
  {
   "cell_type": "markdown",
   "id": "d42ae480",
   "metadata": {},
   "source": [
    "#### retain rows which has missing values less than 25% of the columns."
   ]
  },
  {
   "cell_type": "code",
   "execution_count": null,
   "id": "cd0e9252",
   "metadata": {
    "scrolled": true
   },
   "outputs": [],
   "source": [
    "# calculate missing percentage for every row\n",
    "from operator import add\n",
    "from functools import reduce\n",
    "for c in data2.columns:\n",
    "    if ('missing_' not in c) and (c not in (\"subject_id\", \"age\", \"gender\", \"hadm_id\", \"charlson_comorbidity_index\")):\n",
    "            data2 = data2.withColumn('missing_' + c, F.when(F.col(c).isNull(), 1).otherwise(0))\n",
    "\n",
    "data2 = data2.withColumn('missing_percentage', (reduce(add, [F.col(x) for x in data2.columns if \"missing_\" in x])/(len(data2.columns)-5))*100)\n",
    "data2.toPandas()"
   ]
  },
  {
   "cell_type": "code",
   "execution_count": null,
   "id": "f16f2c56",
   "metadata": {},
   "outputs": [],
   "source": [
    "data2.groupBy(\"missing_percentage\").count().toPandas()"
   ]
  },
  {
   "cell_type": "code",
   "execution_count": null,
   "id": "5a7c7675",
   "metadata": {},
   "outputs": [],
   "source": [
    "data3 = data2.filter(\"missing_percentage < 25\")"
   ]
  },
  {
   "cell_type": "code",
   "execution_count": null,
   "id": "16a8543f",
   "metadata": {},
   "outputs": [],
   "source": [
    "print(data2.count())\n",
    "print(data3.count())\n"
   ]
  },
  {
   "cell_type": "markdown",
   "id": "8ce779fa",
   "metadata": {},
   "source": [
    "None of the rows has missing % >= 25"
   ]
  },
  {
   "cell_type": "code",
   "execution_count": null,
   "id": "7fa21b3c",
   "metadata": {},
   "outputs": [],
   "source": [
    "print(len(data3.columns))\n",
    "condition = lambda x: (\"missing_\" in x)\n",
    "data3 = data3.drop(*filter(condition, data3.columns))\n",
    "len(data3.columns)"
   ]
  },
  {
   "cell_type": "code",
   "execution_count": null,
   "id": "fd14ab58",
   "metadata": {},
   "outputs": [],
   "source": [
    "data3.toPandas().to_csv(\"../data/EDA/after_eda.csv\")"
   ]
  },
  {
   "cell_type": "code",
   "execution_count": null,
   "id": "708c9223",
   "metadata": {},
   "outputs": [],
   "source": [
    "data4 = spark.read.option(\"header\",\"true\").csv(\"../data/EDA/after_eda.csv\")\n",
    "data4.printSchema()"
   ]
  },
  {
   "cell_type": "code",
   "execution_count": null,
   "id": "adacc984",
   "metadata": {},
   "outputs": [],
   "source": [
    "# get the first admission readings and last admission co-morbidity index value\n",
    "from pyspark.sql.window import Window\n",
    "import pyspark.sql.functions as F\n",
    "subject_win = Window.partitionBy(\"subject_id\").orderBy((\"age\"))\n",
    "base_data = data4.withColumn(\"row\",F.row_number().over(subject_win)) \\\n",
    "  .filter(F.col(\"row\") == 1).drop(\"row\", \"charlson_comorbidity_index\")"
   ]
  },
  {
   "cell_type": "code",
   "execution_count": null,
   "id": "1d0f4a73",
   "metadata": {},
   "outputs": [],
   "source": [
    "base_data.count()"
   ]
  },
  {
   "cell_type": "code",
   "execution_count": null,
   "id": "deb2c794",
   "metadata": {},
   "outputs": [],
   "source": [
    "subject_win_predict = Window.partitionBy(\"subject_id\").orderBy(F.desc(\"age\"))\n",
    "base_data_predict = data4.withColumn(\"row\",F.row_number().over(subject_win_predict)) \\\n",
    "  .filter(F.col(\"row\") == 1).select(\"subject_id\", \"charlson_comorbidity_index\")\n",
    "base_data_predict.count()"
   ]
  },
  {
   "cell_type": "code",
   "execution_count": null,
   "id": "cf4a47ef",
   "metadata": {},
   "outputs": [],
   "source": [
    "print(base_data.columns)\n",
    "print(base_data_predict.columns)"
   ]
  },
  {
   "cell_type": "code",
   "execution_count": null,
   "id": "4d995dc7",
   "metadata": {},
   "outputs": [],
   "source": [
    "base_data.toPandas()"
   ]
  },
  {
   "cell_type": "code",
   "execution_count": null,
   "id": "09006bfc",
   "metadata": {},
   "outputs": [],
   "source": [
    "base_data = base_data.drop(\"_c0\")"
   ]
  },
  {
   "cell_type": "code",
   "execution_count": null,
   "id": "ec3ad454",
   "metadata": {},
   "outputs": [],
   "source": [
    "base_data.toPandas()"
   ]
  },
  {
   "cell_type": "code",
   "execution_count": null,
   "id": "6cdeb7f0",
   "metadata": {
    "scrolled": true
   },
   "outputs": [],
   "source": [
    "base_data_predict.toPandas()"
   ]
  },
  {
   "cell_type": "code",
   "execution_count": null,
   "id": "00770284",
   "metadata": {},
   "outputs": [],
   "source": [
    "base_data.toPandas().to_csv(\"../data/EDA/clustering_data.csv\")\n",
    "base_data_predict.toPandas().to_csv(\"../data/EDA/prediction_value.csv\")"
   ]
  },
  {
   "cell_type": "code",
   "execution_count": 4,
   "id": "dde38ce2",
   "metadata": {
    "scrolled": true
   },
   "outputs": [
    {
     "name": "stdout",
     "output_type": "stream",
     "text": [
      "root\n",
      " |-- subject_id: double (nullable = true)\n",
      " |-- hadm_id: double (nullable = true)\n",
      " |-- age: double (nullable = true)\n",
      " |-- db_wbc: double (nullable = true)\n",
      " |-- basophils_abs: double (nullable = true)\n",
      " |-- eosinophils_abs: double (nullable = true)\n",
      " |-- lymphocytes_abs: double (nullable = true)\n",
      " |-- monocytes_abs: double (nullable = true)\n",
      " |-- neutrophils_abs: double (nullable = true)\n",
      " |-- basophils: double (nullable = true)\n",
      " |-- eosinophils: double (nullable = true)\n",
      " |-- lymphocytes: double (nullable = true)\n",
      " |-- monocytes: double (nullable = true)\n",
      " |-- neutrophils: double (nullable = true)\n",
      " |-- aniongap: double (nullable = true)\n",
      " |-- bicarbonate: double (nullable = true)\n",
      " |-- bun: double (nullable = true)\n",
      " |-- calcium: double (nullable = true)\n",
      " |-- chloride: double (nullable = true)\n",
      " |-- creatinine: double (nullable = true)\n",
      " |-- glucose: double (nullable = true)\n",
      " |-- sodium: double (nullable = true)\n",
      " |-- potassium: double (nullable = true)\n",
      " |-- inr: double (nullable = true)\n",
      " |-- pt: double (nullable = true)\n",
      " |-- ptt: double (nullable = true)\n",
      " |-- hematocrit: double (nullable = true)\n",
      " |-- hemoglobin: double (nullable = true)\n",
      " |-- mch: double (nullable = true)\n",
      " |-- mchc: double (nullable = true)\n",
      " |-- mcv: double (nullable = true)\n",
      " |-- platelet: double (nullable = true)\n",
      " |-- rbc: double (nullable = true)\n",
      " |-- rdw: double (nullable = true)\n",
      " |-- wbc: double (nullable = true)\n",
      " |-- scr_min: double (nullable = true)\n",
      " |-- ckd: double (nullable = true)\n",
      " |-- mdrd_est: double (nullable = true)\n",
      " |-- scr_baseline: double (nullable = true)\n",
      " |-- alt: double (nullable = true)\n",
      " |-- alp: double (nullable = true)\n",
      " |-- ast: double (nullable = true)\n",
      " |-- bilirubin_total: double (nullable = true)\n",
      " |-- gender: string (nullable = true)\n",
      "\n",
      "None\n"
     ]
    }
   ],
   "source": [
    "# fill the missing values with the standard normal values in medical terms\n",
    "import pyspark.sql.functions as F\n",
    "cluster_data = spark.read.option(\"header\",\"true\").csv(\"../data/EDA/clustering_data.csv\")\n",
    "cluster_data = cluster_data.drop(\"_c0\")\n",
    "\n",
    "cols = cluster_data.columns\n",
    "cols.remove(\"gender\")\n",
    "cluster_data = cluster_data.select(*(F.round(F.col(c).cast(\"double\"), 2).alias(c) for c in cols), \"gender\")\n",
    "print(cluster_data.printSchema())"
   ]
  },
  {
   "cell_type": "code",
   "execution_count": 5,
   "id": "048d7472",
   "metadata": {},
   "outputs": [
    {
     "name": "stdout",
     "output_type": "stream",
     "text": [
      "+-------+-----------------+-----------------+------------------+-----------------+-------------------+-------------------+-----------------+------------------+------------------+------------------+------------------+------------------+-----------------+------------------+-----------------+-----------------+-----------------+------------------+-----------------+------------------+------------------+-----------------+------------------+------------------+------------------+-----------------+-----------------+------------------+------------------+------------------+-----------------+-----------------+------------------+------------------+-----------------+------------------+-------------------+-------------------+------------------+-----------------+------------------+------------------+------------------+------+\n",
      "|summary|       subject_id|          hadm_id|               age|           db_wbc|      basophils_abs|    eosinophils_abs|  lymphocytes_abs|     monocytes_abs|   neutrophils_abs|         basophils|       eosinophils|       lymphocytes|        monocytes|       neutrophils|         aniongap|      bicarbonate|              bun|           calcium|         chloride|        creatinine|           glucose|           sodium|         potassium|               inr|                pt|              ptt|       hematocrit|        hemoglobin|               mch|              mchc|              mcv|         platelet|               rbc|               rdw|              wbc|           scr_min|                ckd|           mdrd_est|      scr_baseline|              alt|               alp|               ast|   bilirubin_total|gender|\n",
      "+-------+-----------------+-----------------+------------------+-----------------+-------------------+-------------------+-----------------+------------------+------------------+------------------+------------------+------------------+-----------------+------------------+-----------------+-----------------+-----------------+------------------+-----------------+------------------+------------------+-----------------+------------------+------------------+------------------+-----------------+-----------------+------------------+------------------+------------------+-----------------+-----------------+------------------+------------------+-----------------+------------------+-------------------+-------------------+------------------+-----------------+------------------+------------------+------------------+------+\n",
      "|  count|              100|              100|               100|              100|                 63|                 63|               63|                63|                63|                63|                63|                63|               63|                63|              100|              100|              100|                99|              100|               100|               100|              100|               100|                97|                97|               96|              100|               100|               100|               100|              100|              100|               100|               100|              100|               100|                100|                100|               100|               68|                67|                69|                68|   100|\n",
      "|   mean|    1.001877686E7|    2.505804954E7|62.360399999999984|            14.49|0.06063492063492061|0.23873015873015868|3.034444444444444|0.9249206349206349| 12.62555555555556| 0.465079365079365| 1.992063492063492|18.463492063492065|6.487301587301589| 78.88730158730162|            17.31|            28.58|            29.63| 9.033333333333333|           107.09|1.6050000000000006|            202.79|           141.59| 4.664000000000001|1.7391752577319581|18.823711340206195|50.60520833333334|36.85900000000001|12.152000000000003|30.682999999999993| 33.94500000000002|            92.99|           303.31|            4.0609|14.894999999999998|            14.49|0.9280000000000005|               0.17| 0.9653000000000003|0.9094000000000004|           233.25|121.23880597014926|428.07246376811594|2.0500000000000007|  null|\n",
      "| stddev|11151.15426105687|2993944.418334443|16.093590537976304|8.628745709849868|0.06229153662476343|0.31759932184605055|7.104795013677731|0.6162919108718221|7.8910330444727315|0.5806444501332619|2.7609781802891473|17.119619960992328| 3.29929083599511|13.898485552952975|4.877685740370957|4.346553261208844|28.62493615184093|0.6969320524371697|5.884571506760864|1.9878608877612411|133.43937412044681|5.444105328544153|0.7135796799208618|1.2033422813348285|12.426607652498767|35.88793484340609|4.727121297108394|1.7362725662298604|2.7497678506236176|1.7079360217951531|7.395733140593211|144.0438832544801|0.5850167829760412|2.3226758775867187|8.628745709849868| 0.877102668396973|0.37752516806863695|0.12674204296343597|0.8670614718459101|991.1271041431388| 76.99804986752052|1737.8582095316315| 5.262554285890104|  null|\n",
      "|    min|      1.0000032E7|      2.0044587E7|             21.16|              2.4|                0.0|                0.0|             0.25|              0.26|              2.73|               0.0|               0.0|               2.0|              1.0|               7.0|              9.0|             17.0|              8.0|               7.8|             92.0|               0.3|              88.0|            130.0|               3.5|               0.9|              10.0|             20.1|             26.0|               7.7|              21.1|              27.8|             76.0|             63.0|              2.69|              12.0|              2.4|               0.1|                0.0|               0.77|               0.1|              7.0|              32.0|               5.0|               0.2|     F|\n",
      "|    max|      1.0040025E7|      2.9974575E7|             91.77|             62.4|               0.26|                1.9|            57.41|              3.84|              40.8|               4.0|              18.0|             100.0|             17.0|              98.0|             40.0|             46.0|            205.0|              12.1|            136.0|              15.2|             942.0|            168.0|               7.4|               9.6|              94.3|            150.0|             50.3|              16.9|              37.9|              37.6|            124.0|            886.0|              5.86|              29.3|             62.4|               6.0|                1.0|               1.22|               6.0|           8010.0|             414.0|           13060.0|              35.9|     M|\n",
      "+-------+-----------------+-----------------+------------------+-----------------+-------------------+-------------------+-----------------+------------------+------------------+------------------+------------------+------------------+-----------------+------------------+-----------------+-----------------+-----------------+------------------+-----------------+------------------+------------------+-----------------+------------------+------------------+------------------+-----------------+-----------------+------------------+------------------+------------------+-----------------+-----------------+------------------+------------------+-----------------+------------------+-------------------+-------------------+------------------+-----------------+------------------+------------------+------------------+------+\n",
      "\n"
     ]
    }
   ],
   "source": [
    "cluster_data.describe().show()"
   ]
  },
  {
   "cell_type": "code",
   "execution_count": 16,
   "id": "a11c169f",
   "metadata": {},
   "outputs": [
    {
     "data": {
      "text/plain": [
       "44"
      ]
     },
     "execution_count": 16,
     "metadata": {},
     "output_type": "execute_result"
    }
   ],
   "source": [
    "len(cluster_data.columns)"
   ]
  },
  {
   "cell_type": "code",
   "execution_count": 15,
   "id": "eedc81cf",
   "metadata": {},
   "outputs": [
    {
     "name": "stdout",
     "output_type": "stream",
     "text": [
      "+-------+-----------------+-----------------+------------------+-----------------+--------------------+-------------------+-----------------+------------------+-----------------+------------------+------------------+-----------------+-----------------+-----------------+-----------------+-----------------+-----------------+------------------+-----------------+------------------+------------------+-----------------+------------------+------------------+------------------+------------------+-----------------+------------------+------------------+------------------+-----------------+-----------------+------------------+------------------+-----------------+------------------+-------------------+-------------------+------------------+-----------------+-----------------+------------------+------------------+------+\n",
      "|summary|       subject_id|          hadm_id|               age|           db_wbc|       basophils_abs|    eosinophils_abs|  lymphocytes_abs|     monocytes_abs|  neutrophils_abs|         basophils|       eosinophils|      lymphocytes|        monocytes|      neutrophils|         aniongap|      bicarbonate|              bun|           calcium|         chloride|        creatinine|           glucose|           sodium|         potassium|               inr|                pt|               ptt|       hematocrit|        hemoglobin|               mch|              mchc|              mcv|         platelet|               rbc|               rdw|              wbc|           scr_min|                ckd|           mdrd_est|      scr_baseline|              alt|              alp|               ast|   bilirubin_total|gender|\n",
      "+-------+-----------------+-----------------+------------------+-----------------+--------------------+-------------------+-----------------+------------------+-----------------+------------------+------------------+-----------------+-----------------+-----------------+-----------------+-----------------+-----------------+------------------+-----------------+------------------+------------------+-----------------+------------------+------------------+------------------+------------------+-----------------+------------------+------------------+------------------+-----------------+-----------------+------------------+------------------+-----------------+------------------+-------------------+-------------------+------------------+-----------------+-----------------+------------------+------------------+------+\n",
      "|  count|              100|              100|               100|              100|                 100|                100|              100|               100|              100|               100|               100|              100|              100|              100|              100|              100|              100|               100|              100|               100|               100|              100|               100|               100|               100|               100|              100|               100|               100|               100|              100|              100|               100|               100|              100|               100|                100|                100|               100|              100|              100|               100|               100|   100|\n",
      "|   mean|    1.001877686E7|    2.505804954E7|62.360399999999984|            14.49|0.038199999999999984|0.15039999999999998|           1.9117|            0.5827|7.954100000000002|0.2929999999999999|             1.255|           11.632|4.087000000000001|49.69900000000003|            17.31|            28.58|            29.63|             8.943|           107.09|1.6050000000000006|            202.79|           141.59| 4.664000000000001|1.6869999999999994|18.259000000000007|            48.581|36.85900000000001|12.152000000000003|30.682999999999993| 33.94500000000002|            92.99|           303.31|            4.0609|14.894999999999998|            14.49|0.9280000000000005|               0.17| 0.9653000000000003|0.9094000000000004|           158.61|            81.23|            295.37|1.3940000000000003|  null|\n",
      "| stddev|11151.15426105687|2993944.418334443|16.093590537976304|8.628745709849868| 0.05740833712726029|0.27674850925296307|5.812106844311878|0.6627900241868582|8.748081128124179|0.5119294064338531|2.3892171491638403|16.24230590187554|4.089766855126698|39.82783021451156|4.877685740370957|4.346553261208844|28.62493615184093|1.1387796941986588|5.884571506760864|1.9878608877612411|133.43937412044681|5.444105328544153|0.7135796799208618| 1.221909004861498|12.655290705008825|36.540896405274594|4.727121297108394|1.7362725662298604|2.7497678506236176|1.7079360217951531|7.395733140593211|144.0438832544801|0.5850167829760412|2.3226758775867187|8.628745709849868| 0.877102668396973|0.37752516806863695|0.12674204296343597|0.8670614718459101|822.6599613571831|85.06003287043329|1453.9736958355948| 4.434684688095454|  null|\n",
      "|    min|      1.0000032E7|      2.0044587E7|             21.16|              2.4|                 0.0|                0.0|              0.0|               0.0|              0.0|               0.0|               0.0|              0.0|              0.0|              0.0|              9.0|             17.0|              8.0|               0.0|             92.0|               0.3|              88.0|            130.0|               3.5|               0.0|               0.0|               0.0|             26.0|               7.7|              21.1|              27.8|             76.0|             63.0|              2.69|              12.0|              2.4|               0.1|                0.0|               0.77|               0.1|              0.0|              0.0|               0.0|               0.0|     F|\n",
      "|    max|      1.0040025E7|      2.9974575E7|             91.77|             62.4|                0.26|                1.9|            57.41|              3.84|             40.8|               4.0|              18.0|            100.0|             17.0|             98.0|             40.0|             46.0|            205.0|              12.1|            136.0|              15.2|             942.0|            168.0|               7.4|               9.6|              94.3|             150.0|             50.3|              16.9|              37.9|              37.6|            124.0|            886.0|              5.86|              29.3|             62.4|               6.0|                1.0|               1.22|               6.0|           8010.0|            414.0|           13060.0|              35.9|     M|\n",
      "+-------+-----------------+-----------------+------------------+-----------------+--------------------+-------------------+-----------------+------------------+-----------------+------------------+------------------+-----------------+-----------------+-----------------+-----------------+-----------------+-----------------+------------------+-----------------+------------------+------------------+-----------------+------------------+------------------+------------------+------------------+-----------------+------------------+------------------+------------------+-----------------+-----------------+------------------+------------------+-----------------+------------------+-------------------+-------------------+------------------+-----------------+-----------------+------------------+------------------+------+\n",
      "\n"
     ]
    }
   ],
   "source": [
    "cluster_data.fillna(0,[\"db_wbc\"]) \\\n",
    "        .fillna(0,[\"basophils_abs\"]) \\\n",
    "        .fillna(0,[\"eosinophils_abs\"]) \\\n",
    "        .fillna(0,[\"lymphocytes_abs\"]) \\\n",
    "        .fillna(0,[\"monocytes_abs\"]) \\\n",
    "        .fillna(0,[\"neutrophils_abs\"]) \\\n",
    "        .fillna(0,[\"basophils\"]) \\\n",
    "        .fillna(0,[\"eosinophils\"]) \\\n",
    "        .fillna(0,[\"lymphocytes\"]) \\\n",
    "        .fillna(0,[\"monocytes\"]) \\\n",
    "        .fillna(0,[\"neutrophils\"]) \\\n",
    "        .fillna(0,[\"aniongap\"]) \\\n",
    "        .fillna(0,[\"bicarbonate\"]) \\\n",
    "        .fillna(0,[\"bun\"]) \\\n",
    "        .fillna(0,[\"calcium\"]) \\\n",
    "        .fillna(0,[\"chloride\"]) \\\n",
    "        .fillna(0,[\"creatinine\"]) \\\n",
    "        .fillna(0,[\"glucose\"]) \\\n",
    "        .fillna(0,[\"sodium\"]) \\\n",
    "        .fillna(0,[\"potassium\"]) \\\n",
    "        .fillna(0,[\"inr\"]) \\\n",
    "        .fillna(0,[\"pt\"]) \\\n",
    "        .fillna(0,[\"ptt\"]) \\\n",
    "        .fillna(0,[\"hematocrit\"]) \\\n",
    "        .fillna(0,[\"hemoglobin\"]) \\\n",
    "        .fillna(0,[\"mch\"]) \\\n",
    "        .fillna(0,[\"mchc\"]) \\\n",
    "        .fillna(0,[\"mcv\"]) \\\n",
    "        .fillna(0,[\"platelet\"]) \\\n",
    "        .fillna(0,[\"rdw\"]) \\\n",
    "        .fillna(0,[\"wbc\"]) \\\n",
    "        .fillna(0,[\"scr_min\"]) \\\n",
    "        .fillna(0,[\"ckd\"]) \\\n",
    "        .fillna(0,[\"mdrd_est\"]) \\\n",
    "        .fillna(0,[\"scr_baseline\"]) \\\n",
    "        .fillna(0,[\"alt\"]) \\\n",
    "        .fillna(0,[\"alp\"]) \\\n",
    "        .fillna(0,[\"ast\"]) \\\n",
    "        .fillna(0,[\"bilirubin_total\"]) \\\n",
    "        .describe().show()"
   ]
  },
  {
   "cell_type": "code",
   "execution_count": null,
   "id": "0b44f31f",
   "metadata": {},
   "outputs": [],
   "source": []
  }
 ],
 "metadata": {
  "kernelspec": {
   "display_name": "Python 3 (ipykernel)",
   "language": "python",
   "name": "python3"
  },
  "language_info": {
   "codemirror_mode": {
    "name": "ipython",
    "version": 3
   },
   "file_extension": ".py",
   "mimetype": "text/x-python",
   "name": "python",
   "nbconvert_exporter": "python",
   "pygments_lexer": "ipython3",
   "version": "3.9.12"
  }
 },
 "nbformat": 4,
 "nbformat_minor": 5
}
