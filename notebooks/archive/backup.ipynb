{
 "cells": [
  {
   "cell_type": "code",
   "execution_count": null,
   "id": "5a924b7d",
   "metadata": {},
   "outputs": [],
   "source": [
    "from sklearn.preprocessing import MaxAbsScaler\n",
    "\n",
    "transformer = MaxAbsScaler().fit(X_train[to_scale])\n",
    "#scaler.fit(X_train[to_scale])\n",
    "X_train[to_scale] = transformer.transform(X_train[to_scale])\n",
    "\n",
    "# predict z-scores on the test set\n",
    "X_test[to_scale] = transformer.transform(X_test[to_scale])"
   ]
  },
  {
   "cell_type": "code",
   "execution_count": null,
   "id": "9444f9e7",
   "metadata": {},
   "outputs": [],
   "source": [
    "from sklearn.preprocessing import StandardScaler\n",
    "\n",
    "scaler = StandardScaler()\n",
    "to_scale = [col for col in X_train.columns.values]\n",
    "to_scale.remove(\"cluster\",\"gender_imputed\")\n",
    "print(to_scale)\n"
   ]
  },
  {
   "cell_type": "markdown",
   "id": "d36e6cbf",
   "metadata": {},
   "source": [
    "Determining the optimum number of row and column clusters in spectral biclustering involves finding the configuration that maximizes the biclustering quality or some other evaluation metric. Here's a general approach you can follow:\n",
    "\n",
    "Preprocessing: Start by preprocessing your data matrix. This may include normalization, handling missing values, and any necessary data transformations.\n",
    "\n",
    "Choose an evaluation metric: Select an appropriate evaluation metric to measure the quality of biclustering. Commonly used metrics include mean squared residue (MSR), mean absolute residue (MAR), or any other similarity or dissimilarity measures suitable for your specific problem.\n",
    "\n",
    "Vary the number of clusters: Set a range or a specific number of potential row and column clusters to explore. You can start with a small range and gradually increase it to find the optimal number.\n",
    "\n",
    "Apply spectral biclustering: Apply spectral biclustering algorithm to your data matrix for each combination of row and column cluster numbers in the range you defined. The specific spectral biclustering algorithm you use may vary, but popular methods include Spectral Co-Clustering (Spectral Bi-Clustering) and Bi-Force.\n",
    "\n",
    "Evaluate biclustering quality: Calculate the evaluation metric for each biclustering configuration. The lower the value of the evaluation metric, the better the biclustering quality.\n",
    "\n",
    "Determine the optimum configuration: Analyze the evaluation metric values obtained in the previous step and select the configuration that yields the best biclustering quality. You can plot the evaluation metric values against the number of clusters to visualize the trend and identify any optimal points.\n",
    "\n",
    "Validate and interpret: Once you have determined the optimum number of row and column clusters, validate the biclustering results using domain knowledge or other external validation methods. Interpret the biclusters to gain insights into your data.\n",
    "\n",
    "It's worth noting that spectral biclustering is an exploratory technique, and the determination of the optimum number of clusters is subjective to some extent. Different evaluation metrics and validation approaches may lead to different optimal configurations. Therefore, it is recommended to consider multiple metrics and perform robustness analysis to ensure the stability of the results.\n",
    "\n",
    "\n",
    "\n",
    "\n",
    "\n",
    "Regenerate response"
   ]
  },
  {
   "cell_type": "code",
   "execution_count": null,
   "id": "adb289cf",
   "metadata": {},
   "outputs": [],
   "source": []
  }
 ],
 "metadata": {
  "kernelspec": {
   "display_name": "Python 3 (ipykernel)",
   "language": "python",
   "name": "python3"
  },
  "language_info": {
   "codemirror_mode": {
    "name": "ipython",
    "version": 3
   },
   "file_extension": ".py",
   "mimetype": "text/x-python",
   "name": "python",
   "nbconvert_exporter": "python",
   "pygments_lexer": "ipython3",
   "version": "3.9.12"
  }
 },
 "nbformat": 4,
 "nbformat_minor": 5
}
