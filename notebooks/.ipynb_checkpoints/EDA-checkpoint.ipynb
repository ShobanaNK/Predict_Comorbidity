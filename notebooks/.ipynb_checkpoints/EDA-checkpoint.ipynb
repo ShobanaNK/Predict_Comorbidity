{
 "cells": [
  {
   "cell_type": "code",
   "execution_count": 1,
   "id": "99438f7d",
   "metadata": {},
   "outputs": [],
   "source": [
    "import os\n",
    "import sys"
   ]
  },
  {
   "cell_type": "code",
   "execution_count": 2,
   "id": "8b60cee8",
   "metadata": {},
   "outputs": [],
   "source": [
    "os.environ[\"PYSPARK_PYTHON\"]=\"C:\\Spark\\spark-3.3.2-bin-hadoop2\\python\"\n",
    "os.environ[\"JAVA_HOME\"] = \"C:\\Program Files\\Java\\jdk-18.0.2.1\"\n",
    "os.environ[\"SPARK_HOME\"] = \"C:\\Spark\\spark-3.3.2-bin-hadoop2\"\n",
    "os.environ[\"PYLIB\"] = os.environ[\"SPARK_HOME\"] + \"/python/lib\"\n",
    "sys.path.insert(0, os.environ[\"PYLIB\"] + \"/py4j-0.10.9.5-src.zip\")\n",
    "sys.path.insert(0, os.environ[\"PYLIB\"] + \"/pyspark.zip\") "
   ]
  },
  {
   "cell_type": "code",
   "execution_count": 3,
   "id": "b3d5ae74",
   "metadata": {},
   "outputs": [
    {
     "data": {
      "text/html": [
       "\n",
       "            <div>\n",
       "                <p><b>SparkSession - in-memory</b></p>\n",
       "                \n",
       "        <div>\n",
       "            <p><b>SparkContext</b></p>\n",
       "\n",
       "            <p><a href=\"http://DESKTOP-0OH3S55:4040\">Spark UI</a></p>\n",
       "\n",
       "            <dl>\n",
       "              <dt>Version</dt>\n",
       "                <dd><code>v3.3.2</code></dd>\n",
       "              <dt>Master</dt>\n",
       "                <dd><code>local[*]</code></dd>\n",
       "              <dt>AppName</dt>\n",
       "                <dd><code>r_eda</code></dd>\n",
       "            </dl>\n",
       "        </div>\n",
       "        \n",
       "            </div>\n",
       "        "
      ],
      "text/plain": [
       "<pyspark.sql.session.SparkSession at 0x178e0db8610>"
      ]
     },
     "execution_count": 3,
     "metadata": {},
     "output_type": "execute_result"
    }
   ],
   "source": [
    "from pyspark.sql import SparkSession\n",
    "spark = SparkSession.builder.appName(\"r_eda\").getOrCreate()\n",
    "spark"
   ]
  },
  {
   "cell_type": "code",
   "execution_count": 4,
   "id": "8ca69b87",
   "metadata": {},
   "outputs": [
    {
     "name": "stdout",
     "output_type": "stream",
     "text": [
      "root\n",
      " |-- subject_id: string (nullable = true)\n",
      " |-- gender: string (nullable = true)\n",
      " |-- dod: string (nullable = true)\n",
      " |-- hadm_id: string (nullable = true)\n",
      " |-- age: string (nullable = true)\n",
      " |-- so2: string (nullable = true)\n",
      " |-- po2: string (nullable = true)\n",
      " |-- pco2: string (nullable = true)\n",
      " |-- fio2: string (nullable = true)\n",
      " |-- aado2: string (nullable = true)\n",
      " |-- ph: string (nullable = true)\n",
      " |-- baseexcess: string (nullable = true)\n",
      " |-- bg2_bicarbonate: string (nullable = true)\n",
      " |-- totalco2: string (nullable = true)\n",
      " |-- bg2_hematocrit: string (nullable = true)\n",
      " |-- bg2_haemoglobin: string (nullable = true)\n",
      " |-- carboxyhemoglobin: string (nullable = true)\n",
      " |-- methemoglobin: string (nullable = true)\n",
      " |-- bg2_chloride: string (nullable = true)\n",
      " |-- bg2_calcium: string (nullable = true)\n",
      " |-- temperature: string (nullable = true)\n",
      " |-- bg2_potassium: string (nullable = true)\n",
      " |-- bg2_sodium: string (nullable = true)\n",
      " |-- bg2_lactate: string (nullable = true)\n",
      " |-- bg2_glucose: string (nullable = true)\n",
      " |-- db_wbc: string (nullable = true)\n",
      " |-- basophils_abs: string (nullable = true)\n",
      " |-- eosinophils_abs: string (nullable = true)\n",
      " |-- lymphocytes_abs: string (nullable = true)\n",
      " |-- monocytes_abs: string (nullable = true)\n",
      " |-- neutrophils_abs: string (nullable = true)\n",
      " |-- basophils: string (nullable = true)\n",
      " |-- eosinophils: string (nullable = true)\n",
      " |-- lymphocytes: string (nullable = true)\n",
      " |-- monocytes: string (nullable = true)\n",
      " |-- neutrophils: string (nullable = true)\n",
      " |-- atypical_lymphocytes: string (nullable = true)\n",
      " |-- bands: string (nullable = true)\n",
      " |-- immature_granulocytes: string (nullable = true)\n",
      " |-- metamyelocytes: string (nullable = true)\n",
      " |-- nrbc: string (nullable = true)\n",
      " |-- troponin_t: string (nullable = true)\n",
      " |-- cm_ck_mb: string (nullable = true)\n",
      " |-- ntprobnp: string (nullable = true)\n",
      " |-- albumin: string (nullable = true)\n",
      " |-- globulin: string (nullable = true)\n",
      " |-- total_protein: string (nullable = true)\n",
      " |-- aniongap: string (nullable = true)\n",
      " |-- bicarbonate: string (nullable = true)\n",
      " |-- bun: string (nullable = true)\n",
      " |-- calcium: string (nullable = true)\n",
      " |-- chloride: string (nullable = true)\n",
      " |-- creatinine: string (nullable = true)\n",
      " |-- glucose: string (nullable = true)\n",
      " |-- sodium: string (nullable = true)\n",
      " |-- potassium: string (nullable = true)\n",
      " |-- d_dimer: string (nullable = true)\n",
      " |-- fibrinogen: string (nullable = true)\n",
      " |-- thrombin: string (nullable = true)\n",
      " |-- inr: string (nullable = true)\n",
      " |-- pt: string (nullable = true)\n",
      " |-- ptt: string (nullable = true)\n",
      " |-- hematocrit: string (nullable = true)\n",
      " |-- hemoglobin: string (nullable = true)\n",
      " |-- mch: string (nullable = true)\n",
      " |-- mchc: string (nullable = true)\n",
      " |-- mcv: string (nullable = true)\n",
      " |-- platelet: string (nullable = true)\n",
      " |-- rbc: string (nullable = true)\n",
      " |-- rdw: string (nullable = true)\n",
      " |-- rdwsd: string (nullable = true)\n",
      " |-- wbc: string (nullable = true)\n",
      " |-- scr_min: string (nullable = true)\n",
      " |-- ckd: string (nullable = true)\n",
      " |-- mdrd_est: string (nullable = true)\n",
      " |-- scr_baseline: string (nullable = true)\n",
      " |-- alt: string (nullable = true)\n",
      " |-- alp: string (nullable = true)\n",
      " |-- ast: string (nullable = true)\n",
      " |-- amylase: string (nullable = true)\n",
      " |-- bilirubin_total: string (nullable = true)\n",
      " |-- bilirubin_direct: string (nullable = true)\n",
      " |-- bilirubin_indirect: string (nullable = true)\n",
      " |-- ck_cpk: string (nullable = true)\n",
      " |-- ck_mb: string (nullable = true)\n",
      " |-- ggt: string (nullable = true)\n",
      " |-- ld_ldh: string (nullable = true)\n",
      " |-- crp: string (nullable = true)\n",
      " |-- charlson_comorbidity_index: string (nullable = true)\n",
      "\n"
     ]
    }
   ],
   "source": [
    "data = spark.read.option(\"header\",\"true\").csv(\"../data/r_hosp_dataset.csv\")\n",
    "data.printSchema()"
   ]
  },
  {
   "cell_type": "code",
   "execution_count": 5,
   "id": "428a3bbf",
   "metadata": {},
   "outputs": [
    {
     "data": {
      "text/plain": [
       "431231"
      ]
     },
     "execution_count": 5,
     "metadata": {},
     "output_type": "execute_result"
    }
   ],
   "source": [
    "data.count()"
   ]
  },
  {
   "cell_type": "code",
   "execution_count": 6,
   "id": "5d195811",
   "metadata": {
    "scrolled": false
   },
   "outputs": [
    {
     "data": {
      "text/html": [
       "<div>\n",
       "<style scoped>\n",
       "    .dataframe tbody tr th:only-of-type {\n",
       "        vertical-align: middle;\n",
       "    }\n",
       "\n",
       "    .dataframe tbody tr th {\n",
       "        vertical-align: top;\n",
       "    }\n",
       "\n",
       "    .dataframe thead th {\n",
       "        text-align: right;\n",
       "    }\n",
       "</style>\n",
       "<table border=\"1\" class=\"dataframe\">\n",
       "  <thead>\n",
       "    <tr style=\"text-align: right;\">\n",
       "      <th></th>\n",
       "      <th>summary</th>\n",
       "      <th>subject_id</th>\n",
       "      <th>gender</th>\n",
       "      <th>dod</th>\n",
       "      <th>hadm_id</th>\n",
       "      <th>age</th>\n",
       "      <th>so2</th>\n",
       "      <th>po2</th>\n",
       "      <th>pco2</th>\n",
       "      <th>fio2</th>\n",
       "      <th>...</th>\n",
       "      <th>amylase</th>\n",
       "      <th>bilirubin_total</th>\n",
       "      <th>bilirubin_direct</th>\n",
       "      <th>bilirubin_indirect</th>\n",
       "      <th>ck_cpk</th>\n",
       "      <th>ck_mb</th>\n",
       "      <th>ggt</th>\n",
       "      <th>ld_ldh</th>\n",
       "      <th>crp</th>\n",
       "      <th>charlson_comorbidity_index</th>\n",
       "    </tr>\n",
       "  </thead>\n",
       "  <tbody>\n",
       "    <tr>\n",
       "      <th>0</th>\n",
       "      <td>count</td>\n",
       "      <td>431231</td>\n",
       "      <td>431231</td>\n",
       "      <td>106218</td>\n",
       "      <td>431231</td>\n",
       "      <td>431231</td>\n",
       "      <td>27945</td>\n",
       "      <td>62060</td>\n",
       "      <td>62050</td>\n",
       "      <td>16541</td>\n",
       "      <td>...</td>\n",
       "      <td>21768</td>\n",
       "      <td>148620</td>\n",
       "      <td>13409</td>\n",
       "      <td>13897</td>\n",
       "      <td>74281</td>\n",
       "      <td>65427</td>\n",
       "      <td>3717</td>\n",
       "      <td>92776</td>\n",
       "      <td>20994</td>\n",
       "      <td>431231</td>\n",
       "    </tr>\n",
       "    <tr>\n",
       "      <th>1</th>\n",
       "      <td>mean</td>\n",
       "      <td>1.5007664969607936E7</td>\n",
       "      <td>None</td>\n",
       "      <td>None</td>\n",
       "      <td>2.5003138264725868E7</td>\n",
       "      <td>59.26944843426296</td>\n",
       "      <td>92.06972982644479</td>\n",
       "      <td>197.93195294875926</td>\n",
       "      <td>48.15066881547139</td>\n",
       "      <td>64.99111299195937</td>\n",
       "      <td>...</td>\n",
       "      <td>109.67851892686512</td>\n",
       "      <td>1.4621228636791646</td>\n",
       "      <td>3.0113729584607327</td>\n",
       "      <td>1.7329351658631367</td>\n",
       "      <td>727.7982525814139</td>\n",
       "      <td>11.967495070842311</td>\n",
       "      <td>250.6031746031746</td>\n",
       "      <td>389.837005259981</td>\n",
       "      <td>66.98933552443553</td>\n",
       "      <td>3.5870218050186558</td>\n",
       "    </tr>\n",
       "    <tr>\n",
       "      <th>2</th>\n",
       "      <td>stddev</td>\n",
       "      <td>2877497.8062713076</td>\n",
       "      <td>None</td>\n",
       "      <td>None</td>\n",
       "      <td>2888180.402945388</td>\n",
       "      <td>19.207987665245223</td>\n",
       "      <td>12.191322751514052</td>\n",
       "      <td>136.2990225302963</td>\n",
       "      <td>14.732684122524283</td>\n",
       "      <td>24.739972885601127</td>\n",
       "      <td>...</td>\n",
       "      <td>216.2017369997382</td>\n",
       "      <td>3.557465027266691</td>\n",
       "      <td>5.138052210796493</td>\n",
       "      <td>2.325996291676031</td>\n",
       "      <td>6729.51889196154</td>\n",
       "      <td>38.24575537849562</td>\n",
       "      <td>386.639868567945</td>\n",
       "      <td>1562.3742701386582</td>\n",
       "      <td>74.66665896488824</td>\n",
       "      <td>3.031824233136227</td>\n",
       "    </tr>\n",
       "    <tr>\n",
       "      <th>3</th>\n",
       "      <td>min</td>\n",
       "      <td>10000032</td>\n",
       "      <td>F</td>\n",
       "      <td>2110-01-25</td>\n",
       "      <td>20000019</td>\n",
       "      <td>100.0098843901973060</td>\n",
       "      <td>100</td>\n",
       "      <td>0</td>\n",
       "      <td>10</td>\n",
       "      <td>100</td>\n",
       "      <td>...</td>\n",
       "      <td>10</td>\n",
       "      <td>0.1</td>\n",
       "      <td>0.1</td>\n",
       "      <td>0.1</td>\n",
       "      <td>10</td>\n",
       "      <td>1</td>\n",
       "      <td>10</td>\n",
       "      <td>100</td>\n",
       "      <td>0.1</td>\n",
       "      <td>0</td>\n",
       "    </tr>\n",
       "    <tr>\n",
       "      <th>4</th>\n",
       "      <td>max</td>\n",
       "      <td>19999987</td>\n",
       "      <td>M</td>\n",
       "      <td>2212-01-22</td>\n",
       "      <td>29999928</td>\n",
       "      <td>99.9662204176348223</td>\n",
       "      <td>99.9</td>\n",
       "      <td>99</td>\n",
       "      <td>99</td>\n",
       "      <td>99</td>\n",
       "      <td>...</td>\n",
       "      <td>996</td>\n",
       "      <td>9.9</td>\n",
       "      <td>9.9</td>\n",
       "      <td>9.9</td>\n",
       "      <td>999</td>\n",
       "      <td>99</td>\n",
       "      <td>999</td>\n",
       "      <td>9990</td>\n",
       "      <td>99.9</td>\n",
       "      <td>9</td>\n",
       "    </tr>\n",
       "  </tbody>\n",
       "</table>\n",
       "<p>5 rows × 90 columns</p>\n",
       "</div>"
      ],
      "text/plain": [
       "  summary            subject_id  gender         dod               hadm_id  \\\n",
       "0   count                431231  431231      106218                431231   \n",
       "1    mean  1.5007664969607936E7    None        None  2.5003138264725868E7   \n",
       "2  stddev    2877497.8062713076    None        None     2888180.402945388   \n",
       "3     min              10000032       F  2110-01-25              20000019   \n",
       "4     max              19999987       M  2212-01-22              29999928   \n",
       "\n",
       "                    age                 so2                 po2  \\\n",
       "0                431231               27945               62060   \n",
       "1     59.26944843426296   92.06972982644479  197.93195294875926   \n",
       "2    19.207987665245223  12.191322751514052   136.2990225302963   \n",
       "3  100.0098843901973060                 100                   0   \n",
       "4   99.9662204176348223                99.9                  99   \n",
       "\n",
       "                 pco2                fio2  ...             amylase  \\\n",
       "0               62050               16541  ...               21768   \n",
       "1   48.15066881547139   64.99111299195937  ...  109.67851892686512   \n",
       "2  14.732684122524283  24.739972885601127  ...   216.2017369997382   \n",
       "3                  10                 100  ...                  10   \n",
       "4                  99                  99  ...                 996   \n",
       "\n",
       "      bilirubin_total    bilirubin_direct  bilirubin_indirect  \\\n",
       "0              148620               13409               13897   \n",
       "1  1.4621228636791646  3.0113729584607327  1.7329351658631367   \n",
       "2   3.557465027266691   5.138052210796493   2.325996291676031   \n",
       "3                 0.1                 0.1                 0.1   \n",
       "4                 9.9                 9.9                 9.9   \n",
       "\n",
       "              ck_cpk               ck_mb                ggt  \\\n",
       "0              74281               65427               3717   \n",
       "1  727.7982525814139  11.967495070842311  250.6031746031746   \n",
       "2   6729.51889196154   38.24575537849562   386.639868567945   \n",
       "3                 10                   1                 10   \n",
       "4                999                  99                999   \n",
       "\n",
       "               ld_ldh                crp charlson_comorbidity_index  \n",
       "0               92776              20994                     431231  \n",
       "1    389.837005259981  66.98933552443553         3.5870218050186558  \n",
       "2  1562.3742701386582  74.66665896488824          3.031824233136227  \n",
       "3                 100                0.1                          0  \n",
       "4                9990               99.9                          9  \n",
       "\n",
       "[5 rows x 90 columns]"
      ]
     },
     "execution_count": 6,
     "metadata": {},
     "output_type": "execute_result"
    }
   ],
   "source": [
    "data.describe().toPandas()"
   ]
  },
  {
   "cell_type": "markdown",
   "id": "e2b66f6d",
   "metadata": {},
   "source": [
    "- All the rows has subject, gender, age, admission id (hadm_id) and charlson_comorbidity_index.\n",
    "\n",
    "\n",
    "To Do\n",
    "- Check for valid gender values and remove invalid genders (those other than 'M' and 'F').\n",
    "- Check for valid age values.\n",
    "- impute missing values by calculating the average of the value between the last & next reading for the same subject.\n",
    "- Remove columns with more than 50% missing values after imputation.\n",
    "- remove rows which has data in less than 25% of the columns."
   ]
  },
  {
   "cell_type": "markdown",
   "id": "1ee43a3d",
   "metadata": {},
   "source": [
    "#### Check for valid gender values and remove invalid genders (those other than 'M' and 'F')."
   ]
  },
  {
   "cell_type": "code",
   "execution_count": 7,
   "id": "e2334dd6",
   "metadata": {
    "scrolled": true
   },
   "outputs": [
    {
     "name": "stdout",
     "output_type": "stream",
     "text": [
      "+------+------+\n",
      "|gender| count|\n",
      "+------+------+\n",
      "|     F|224990|\n",
      "|     M|206241|\n",
      "+------+------+\n",
      "\n"
     ]
    }
   ],
   "source": [
    "#checking for gender values\n",
    "data.groupby(\"gender\").count().show()"
   ]
  },
  {
   "cell_type": "markdown",
   "id": "16786795",
   "metadata": {},
   "source": [
    "Gender column values looks good."
   ]
  },
  {
   "cell_type": "markdown",
   "id": "07959860",
   "metadata": {},
   "source": [
    "#### type conversion for the columns data"
   ]
  },
  {
   "cell_type": "markdown",
   "id": "01ea1908",
   "metadata": {},
   "source": [
    "Except for Gender, all other columns contain decimal values. Hence converting every column type to decimal with 2 decimal values."
   ]
  },
  {
   "cell_type": "code",
   "execution_count": 8,
   "id": "f64b9977",
   "metadata": {
    "scrolled": false
   },
   "outputs": [
    {
     "name": "stdout",
     "output_type": "stream",
     "text": [
      "['subject_id', 'dod', 'hadm_id', 'age', 'so2', 'po2', 'pco2', 'fio2', 'aado2', 'ph', 'baseexcess', 'bg2_bicarbonate', 'totalco2', 'bg2_hematocrit', 'bg2_haemoglobin', 'carboxyhemoglobin', 'methemoglobin', 'bg2_chloride', 'bg2_calcium', 'temperature', 'bg2_potassium', 'bg2_sodium', 'bg2_lactate', 'bg2_glucose', 'db_wbc', 'basophils_abs', 'eosinophils_abs', 'lymphocytes_abs', 'monocytes_abs', 'neutrophils_abs', 'basophils', 'eosinophils', 'lymphocytes', 'monocytes', 'neutrophils', 'atypical_lymphocytes', 'bands', 'immature_granulocytes', 'metamyelocytes', 'nrbc', 'troponin_t', 'cm_ck_mb', 'ntprobnp', 'albumin', 'globulin', 'total_protein', 'aniongap', 'bicarbonate', 'bun', 'calcium', 'chloride', 'creatinine', 'glucose', 'sodium', 'potassium', 'd_dimer', 'fibrinogen', 'thrombin', 'inr', 'pt', 'ptt', 'hematocrit', 'hemoglobin', 'mch', 'mchc', 'mcv', 'platelet', 'rbc', 'rdw', 'rdwsd', 'wbc', 'scr_min', 'ckd', 'mdrd_est', 'scr_baseline', 'alt', 'alp', 'ast', 'amylase', 'bilirubin_total', 'bilirubin_direct', 'bilirubin_indirect', 'ck_cpk', 'ck_mb', 'ggt', 'ld_ldh', 'crp', 'charlson_comorbidity_index', 'gender']\n",
      "root\n",
      " |-- subject_id: double (nullable = true)\n",
      " |-- dod: double (nullable = true)\n",
      " |-- hadm_id: double (nullable = true)\n",
      " |-- age: double (nullable = true)\n",
      " |-- so2: double (nullable = true)\n",
      " |-- po2: double (nullable = true)\n",
      " |-- pco2: double (nullable = true)\n",
      " |-- fio2: double (nullable = true)\n",
      " |-- aado2: double (nullable = true)\n",
      " |-- ph: double (nullable = true)\n",
      " |-- baseexcess: double (nullable = true)\n",
      " |-- bg2_bicarbonate: double (nullable = true)\n",
      " |-- totalco2: double (nullable = true)\n",
      " |-- bg2_hematocrit: double (nullable = true)\n",
      " |-- bg2_haemoglobin: double (nullable = true)\n",
      " |-- carboxyhemoglobin: double (nullable = true)\n",
      " |-- methemoglobin: double (nullable = true)\n",
      " |-- bg2_chloride: double (nullable = true)\n",
      " |-- bg2_calcium: double (nullable = true)\n",
      " |-- temperature: double (nullable = true)\n",
      " |-- bg2_potassium: double (nullable = true)\n",
      " |-- bg2_sodium: double (nullable = true)\n",
      " |-- bg2_lactate: double (nullable = true)\n",
      " |-- bg2_glucose: double (nullable = true)\n",
      " |-- db_wbc: double (nullable = true)\n",
      " |-- basophils_abs: double (nullable = true)\n",
      " |-- eosinophils_abs: double (nullable = true)\n",
      " |-- lymphocytes_abs: double (nullable = true)\n",
      " |-- monocytes_abs: double (nullable = true)\n",
      " |-- neutrophils_abs: double (nullable = true)\n",
      " |-- basophils: double (nullable = true)\n",
      " |-- eosinophils: double (nullable = true)\n",
      " |-- lymphocytes: double (nullable = true)\n",
      " |-- monocytes: double (nullable = true)\n",
      " |-- neutrophils: double (nullable = true)\n",
      " |-- atypical_lymphocytes: double (nullable = true)\n",
      " |-- bands: double (nullable = true)\n",
      " |-- immature_granulocytes: double (nullable = true)\n",
      " |-- metamyelocytes: double (nullable = true)\n",
      " |-- nrbc: double (nullable = true)\n",
      " |-- troponin_t: double (nullable = true)\n",
      " |-- cm_ck_mb: double (nullable = true)\n",
      " |-- ntprobnp: double (nullable = true)\n",
      " |-- albumin: double (nullable = true)\n",
      " |-- globulin: double (nullable = true)\n",
      " |-- total_protein: double (nullable = true)\n",
      " |-- aniongap: double (nullable = true)\n",
      " |-- bicarbonate: double (nullable = true)\n",
      " |-- bun: double (nullable = true)\n",
      " |-- calcium: double (nullable = true)\n",
      " |-- chloride: double (nullable = true)\n",
      " |-- creatinine: double (nullable = true)\n",
      " |-- glucose: double (nullable = true)\n",
      " |-- sodium: double (nullable = true)\n",
      " |-- potassium: double (nullable = true)\n",
      " |-- d_dimer: double (nullable = true)\n",
      " |-- fibrinogen: double (nullable = true)\n",
      " |-- thrombin: double (nullable = true)\n",
      " |-- inr: double (nullable = true)\n",
      " |-- pt: double (nullable = true)\n",
      " |-- ptt: double (nullable = true)\n",
      " |-- hematocrit: double (nullable = true)\n",
      " |-- hemoglobin: double (nullable = true)\n",
      " |-- mch: double (nullable = true)\n",
      " |-- mchc: double (nullable = true)\n",
      " |-- mcv: double (nullable = true)\n",
      " |-- platelet: double (nullable = true)\n",
      " |-- rbc: double (nullable = true)\n",
      " |-- rdw: double (nullable = true)\n",
      " |-- rdwsd: double (nullable = true)\n",
      " |-- wbc: double (nullable = true)\n",
      " |-- scr_min: double (nullable = true)\n",
      " |-- ckd: double (nullable = true)\n",
      " |-- mdrd_est: double (nullable = true)\n",
      " |-- scr_baseline: double (nullable = true)\n",
      " |-- alt: double (nullable = true)\n",
      " |-- alp: double (nullable = true)\n",
      " |-- ast: double (nullable = true)\n",
      " |-- amylase: double (nullable = true)\n",
      " |-- bilirubin_total: double (nullable = true)\n",
      " |-- bilirubin_direct: double (nullable = true)\n",
      " |-- bilirubin_indirect: double (nullable = true)\n",
      " |-- ck_cpk: double (nullable = true)\n",
      " |-- ck_mb: double (nullable = true)\n",
      " |-- ggt: double (nullable = true)\n",
      " |-- ld_ldh: double (nullable = true)\n",
      " |-- crp: double (nullable = true)\n",
      " |-- charlson_comorbidity_index: double (nullable = true)\n",
      " |-- gender: string (nullable = true)\n",
      "\n",
      "None\n"
     ]
    },
    {
     "data": {
      "text/html": [
       "<div>\n",
       "<style scoped>\n",
       "    .dataframe tbody tr th:only-of-type {\n",
       "        vertical-align: middle;\n",
       "    }\n",
       "\n",
       "    .dataframe tbody tr th {\n",
       "        vertical-align: top;\n",
       "    }\n",
       "\n",
       "    .dataframe thead th {\n",
       "        text-align: right;\n",
       "    }\n",
       "</style>\n",
       "<table border=\"1\" class=\"dataframe\">\n",
       "  <thead>\n",
       "    <tr style=\"text-align: right;\">\n",
       "      <th></th>\n",
       "      <th>summary</th>\n",
       "      <th>subject_id</th>\n",
       "      <th>dod</th>\n",
       "      <th>hadm_id</th>\n",
       "      <th>age</th>\n",
       "      <th>so2</th>\n",
       "      <th>po2</th>\n",
       "      <th>pco2</th>\n",
       "      <th>fio2</th>\n",
       "      <th>aado2</th>\n",
       "      <th>...</th>\n",
       "      <th>bilirubin_total</th>\n",
       "      <th>bilirubin_direct</th>\n",
       "      <th>bilirubin_indirect</th>\n",
       "      <th>ck_cpk</th>\n",
       "      <th>ck_mb</th>\n",
       "      <th>ggt</th>\n",
       "      <th>ld_ldh</th>\n",
       "      <th>crp</th>\n",
       "      <th>charlson_comorbidity_index</th>\n",
       "      <th>gender</th>\n",
       "    </tr>\n",
       "  </thead>\n",
       "  <tbody>\n",
       "    <tr>\n",
       "      <th>0</th>\n",
       "      <td>count</td>\n",
       "      <td>431231</td>\n",
       "      <td>0</td>\n",
       "      <td>431231</td>\n",
       "      <td>431231</td>\n",
       "      <td>27945</td>\n",
       "      <td>62060</td>\n",
       "      <td>62050</td>\n",
       "      <td>16541</td>\n",
       "      <td>5437</td>\n",
       "      <td>...</td>\n",
       "      <td>148620</td>\n",
       "      <td>13409</td>\n",
       "      <td>13897</td>\n",
       "      <td>74281</td>\n",
       "      <td>65427</td>\n",
       "      <td>3717</td>\n",
       "      <td>92776</td>\n",
       "      <td>20994</td>\n",
       "      <td>431231</td>\n",
       "      <td>431231</td>\n",
       "    </tr>\n",
       "    <tr>\n",
       "      <th>1</th>\n",
       "      <td>mean</td>\n",
       "      <td>1.5007664969607936E7</td>\n",
       "      <td>None</td>\n",
       "      <td>2.5003138264725868E7</td>\n",
       "      <td>59.2694490655819</td>\n",
       "      <td>92.06972982644479</td>\n",
       "      <td>197.93195294875926</td>\n",
       "      <td>48.15066881547139</td>\n",
       "      <td>64.99111299195937</td>\n",
       "      <td>492.72652565753174</td>\n",
       "      <td>...</td>\n",
       "      <td>1.4621228636791646</td>\n",
       "      <td>3.0113729584607327</td>\n",
       "      <td>1.7329351658631367</td>\n",
       "      <td>727.7982525814139</td>\n",
       "      <td>11.967495070842311</td>\n",
       "      <td>250.6031746031746</td>\n",
       "      <td>389.837005259981</td>\n",
       "      <td>66.98933552443553</td>\n",
       "      <td>3.5870218050186558</td>\n",
       "      <td>None</td>\n",
       "    </tr>\n",
       "    <tr>\n",
       "      <th>2</th>\n",
       "      <td>stddev</td>\n",
       "      <td>2877497.8062713076</td>\n",
       "      <td>None</td>\n",
       "      <td>2888180.402945388</td>\n",
       "      <td>19.20798714444107</td>\n",
       "      <td>12.191322751514052</td>\n",
       "      <td>136.2990225302963</td>\n",
       "      <td>14.732684122524283</td>\n",
       "      <td>24.739972885601127</td>\n",
       "      <td>122.97508532137482</td>\n",
       "      <td>...</td>\n",
       "      <td>3.557465027266691</td>\n",
       "      <td>5.138052210796493</td>\n",
       "      <td>2.325996291676031</td>\n",
       "      <td>6729.51889196154</td>\n",
       "      <td>38.24575537849562</td>\n",
       "      <td>386.639868567945</td>\n",
       "      <td>1562.3742701386582</td>\n",
       "      <td>74.66665896488824</td>\n",
       "      <td>3.031824233136227</td>\n",
       "      <td>None</td>\n",
       "    </tr>\n",
       "    <tr>\n",
       "      <th>3</th>\n",
       "      <td>min</td>\n",
       "      <td>1.0000032E7</td>\n",
       "      <td>None</td>\n",
       "      <td>2.0000019E7</td>\n",
       "      <td>18.0</td>\n",
       "      <td>7.0</td>\n",
       "      <td>0.0</td>\n",
       "      <td>10.0</td>\n",
       "      <td>21.0</td>\n",
       "      <td>0.12</td>\n",
       "      <td>...</td>\n",
       "      <td>0.1</td>\n",
       "      <td>0.1</td>\n",
       "      <td>0.1</td>\n",
       "      <td>4.0</td>\n",
       "      <td>1.0</td>\n",
       "      <td>3.0</td>\n",
       "      <td>31.0</td>\n",
       "      <td>0.1</td>\n",
       "      <td>0.0</td>\n",
       "      <td>F</td>\n",
       "    </tr>\n",
       "    <tr>\n",
       "      <th>4</th>\n",
       "      <td>max</td>\n",
       "      <td>1.9999987E7</td>\n",
       "      <td>None</td>\n",
       "      <td>2.9999928E7</td>\n",
       "      <td>103.17</td>\n",
       "      <td>100.0</td>\n",
       "      <td>4242.0</td>\n",
       "      <td>246.0</td>\n",
       "      <td>100.0</td>\n",
       "      <td>743.0</td>\n",
       "      <td>...</td>\n",
       "      <td>87.2</td>\n",
       "      <td>68.0</td>\n",
       "      <td>29.6</td>\n",
       "      <td>591950.0</td>\n",
       "      <td>673.0</td>\n",
       "      <td>7380.0</td>\n",
       "      <td>377000.0</td>\n",
       "      <td>608.1</td>\n",
       "      <td>20.0</td>\n",
       "      <td>M</td>\n",
       "    </tr>\n",
       "  </tbody>\n",
       "</table>\n",
       "<p>5 rows × 90 columns</p>\n",
       "</div>"
      ],
      "text/plain": [
       "  summary            subject_id   dod               hadm_id  \\\n",
       "0   count                431231     0                431231   \n",
       "1    mean  1.5007664969607936E7  None  2.5003138264725868E7   \n",
       "2  stddev    2877497.8062713076  None     2888180.402945388   \n",
       "3     min           1.0000032E7  None           2.0000019E7   \n",
       "4     max           1.9999987E7  None           2.9999928E7   \n",
       "\n",
       "                 age                 so2                 po2  \\\n",
       "0             431231               27945               62060   \n",
       "1   59.2694490655819   92.06972982644479  197.93195294875926   \n",
       "2  19.20798714444107  12.191322751514052   136.2990225302963   \n",
       "3               18.0                 7.0                 0.0   \n",
       "4             103.17               100.0              4242.0   \n",
       "\n",
       "                 pco2                fio2               aado2  ...  \\\n",
       "0               62050               16541                5437  ...   \n",
       "1   48.15066881547139   64.99111299195937  492.72652565753174  ...   \n",
       "2  14.732684122524283  24.739972885601127  122.97508532137482  ...   \n",
       "3                10.0                21.0                0.12  ...   \n",
       "4               246.0               100.0               743.0  ...   \n",
       "\n",
       "      bilirubin_total    bilirubin_direct  bilirubin_indirect  \\\n",
       "0              148620               13409               13897   \n",
       "1  1.4621228636791646  3.0113729584607327  1.7329351658631367   \n",
       "2   3.557465027266691   5.138052210796493   2.325996291676031   \n",
       "3                 0.1                 0.1                 0.1   \n",
       "4                87.2                68.0                29.6   \n",
       "\n",
       "              ck_cpk               ck_mb                ggt  \\\n",
       "0              74281               65427               3717   \n",
       "1  727.7982525814139  11.967495070842311  250.6031746031746   \n",
       "2   6729.51889196154   38.24575537849562   386.639868567945   \n",
       "3                4.0                 1.0                3.0   \n",
       "4           591950.0               673.0             7380.0   \n",
       "\n",
       "               ld_ldh                crp charlson_comorbidity_index  gender  \n",
       "0               92776              20994                     431231  431231  \n",
       "1    389.837005259981  66.98933552443553         3.5870218050186558    None  \n",
       "2  1562.3742701386582  74.66665896488824          3.031824233136227    None  \n",
       "3                31.0                0.1                        0.0       F  \n",
       "4            377000.0              608.1                       20.0       M  \n",
       "\n",
       "[5 rows x 90 columns]"
      ]
     },
     "execution_count": 8,
     "metadata": {},
     "output_type": "execute_result"
    }
   ],
   "source": [
    "# converting all number columns to double of precision 2 except for gender\n",
    "import pyspark.sql.functions as F\n",
    "\n",
    "cols = data.columns\n",
    "cols.remove(\"gender\")\n",
    "data = data.select(*(F.round(F.col(c).cast(\"double\"), 2).alias(c) for c in cols), \"gender\")\n",
    "print(data.columns)\n",
    "print(data.printSchema())\n",
    "data.describe().toPandas()"
   ]
  },
  {
   "cell_type": "markdown",
   "id": "0e87c12e",
   "metadata": {},
   "source": [
    "- The min and max age values looks good."
   ]
  },
  {
   "cell_type": "markdown",
   "id": "a1bfc9c1",
   "metadata": {},
   "source": [
    "#### Impute missing values - Calculating the average of the values between the prev & next admission reading for the same subject."
   ]
  },
  {
   "cell_type": "code",
   "execution_count": 9,
   "id": "46cb840d",
   "metadata": {},
   "outputs": [
    {
     "name": "stdout",
     "output_type": "stream",
     "text": [
      "+-----------+-----+-------------+------+--------+----+\n",
      "| subject_id|  age|basophils_abs|db_wbc|platelet| ast|\n",
      "+-----------+-----+-------------+------+--------+----+\n",
      "|1.0040025E7|64.21|         null|  null|   202.0|null|\n",
      "|1.0040025E7|66.51|         null|  null|    null|null|\n",
      "|1.0040025E7|66.56|         null|   8.9|   275.0|null|\n",
      "|1.0040025E7| 66.8|         null|   6.2|   258.0|null|\n",
      "|1.0040025E7|68.46|         null|  12.6|   281.0|null|\n",
      "|1.0040025E7|68.59|         0.01|  11.3|   307.0|null|\n",
      "|1.0040025E7|68.86|         null|   9.8|   275.0|null|\n",
      "|1.0040025E7|68.93|         null|   8.6|   323.0|null|\n",
      "|1.0040025E7|68.99|         null|  12.6|   366.0|null|\n",
      "|1.0040025E7|69.06|         0.11|  16.7|   349.0|16.0|\n",
      "+-----------+-----+-------------+------+--------+----+\n",
      "\n"
     ]
    }
   ],
   "source": [
    "# sample for verification\n",
    "data.filter((data.subject_id == 10040025)).select(\"subject_id\",\"age\",\"basophils_abs\", \"db_wbc\", \"platelet\", \"ast\").orderBy(\"age\").show()"
   ]
  },
  {
   "cell_type": "code",
   "execution_count": 10,
   "id": "0cceb446",
   "metadata": {},
   "outputs": [],
   "source": [
    "# Before impute\n",
    "data.toPandas().to_csv(\"../data/EDA/before_imputation_all.csv\")"
   ]
  },
  {
   "cell_type": "code",
   "execution_count": 11,
   "id": "e3c87ad6",
   "metadata": {},
   "outputs": [],
   "source": [
    "# Use window function to impute missing values.\n",
    "# https://sqlrelease.com/get-the-first-non-null-value-per-group-spark-dataframe\n",
    "from pyspark.sql.window import Window\n",
    "subject_win_prev = Window.partitionBy(\"subject_id\").orderBy(F.desc(\"age\")).rowsBetween(Window.currentRow+1,Window.unboundedFollowing)\n",
    "subject_win_next = Window.partitionBy(\"subject_id\").orderBy(\"age\").rowsBetween(Window.currentRow+1,Window.unboundedFollowing)\n",
    "#wi_next = Window.partitionBy(\"subject_id\").orderBy(F.desc(\"age\"))\n",
    "for c in data.columns:\n",
    "    if (c not in (\"subject_id\", \"age\", \"gender\", \"hadm_id\", \"charlson_comorbidity_index\")):\n",
    "            data = data.withColumn('temp_' + c + 'prev', F.first(c, ignorenulls = True).over(subject_win_prev)) \\\n",
    "            .withColumn('temp_' + c + 'next', F.first(c, ignorenulls = True).over(subject_win_next)) \\\n",
    "            .withColumn(c , F.when(F.col(c).isNotNull() ,F.col(c)) \\\n",
    "                        .when(F.col(c).isNull() & F.col('temp_' + c + 'prev').isNull(), F.col('temp_' + c + 'next')) \\\n",
    "                        .when(F.col(c).isNull() & F.col('temp_' + c + 'next').isNull(), F.col('temp_' + c + 'prev')) \\\n",
    "                        .otherwise(((F.col('temp_' + c + 'prev') + F.col('temp_' + c + 'next'))/2))) \\\n",
    "            .drop('temp_' + c + 'prev', 'temp_' + c + 'next')"
   ]
  },
  {
   "cell_type": "code",
   "execution_count": 13,
   "id": "f260c17c",
   "metadata": {},
   "outputs": [
    {
     "name": "stdout",
     "output_type": "stream",
     "text": [
      "+-----------+-----+-------------+------+--------+----+\n",
      "| subject_id|  age|basophils_abs|db_wbc|platelet| ast|\n",
      "+-----------+-----+-------------+------+--------+----+\n",
      "|1.0040025E7|64.21|         0.01|   8.9|   202.0|16.0|\n",
      "|1.0040025E7|66.51|         0.01|   8.9|   238.5|16.0|\n",
      "|1.0040025E7|66.56|         0.01|   8.9|   275.0|16.0|\n",
      "|1.0040025E7| 66.8|         0.01|   6.2|   258.0|16.0|\n",
      "|1.0040025E7|68.46|         0.01|  12.6|   281.0|16.0|\n",
      "|1.0040025E7|68.59|         0.01|  11.3|   307.0|16.0|\n",
      "|1.0040025E7|68.86|         0.06|   9.8|   275.0|16.0|\n",
      "|1.0040025E7|68.93|         0.06|   8.6|   323.0|16.0|\n",
      "|1.0040025E7|68.99|         0.06|  12.6|   366.0|16.0|\n",
      "|1.0040025E7|69.06|         0.11|  16.7|   349.0|16.0|\n",
      "+-----------+-----+-------------+------+--------+----+\n",
      "\n"
     ]
    }
   ],
   "source": [
    "# same sample for verification\n",
    "data.filter((data.subject_id == 10040025)).select(\"subject_id\",\"age\",\"basophils_abs\", \"db_wbc\", \"platelet\", \"ast\").orderBy(\"age\").show()"
   ]
  },
  {
   "cell_type": "code",
   "execution_count": 18,
   "id": "93844302",
   "metadata": {},
   "outputs": [
    {
     "ename": "ConnectionRefusedError",
     "evalue": "[WinError 10061] No connection could be made because the target machine actively refused it",
     "output_type": "error",
     "traceback": [
      "\u001b[1;31m---------------------------------------------------------------------------\u001b[0m",
      "\u001b[1;31mConnectionRefusedError\u001b[0m                    Traceback (most recent call last)",
      "Input \u001b[1;32mIn [18]\u001b[0m, in \u001b[0;36m<cell line: 1>\u001b[1;34m()\u001b[0m\n\u001b[1;32m----> 1\u001b[0m \u001b[43mdata\u001b[49m\u001b[38;5;241;43m.\u001b[39;49m\u001b[43mtoPandas\u001b[49m\u001b[43m(\u001b[49m\u001b[43m)\u001b[49m\u001b[38;5;241m.\u001b[39mto_csv(\u001b[38;5;124m\"\u001b[39m\u001b[38;5;124m../data/EDA/after_imputation_all.csv\u001b[39m\u001b[38;5;124m\"\u001b[39m)\n",
      "File \u001b[1;32mC:\\Spark\\spark-3.3.2-bin-hadoop2\\python\\lib\\pyspark.zip\\pyspark\\sql\\pandas\\conversion.py:92\u001b[0m, in \u001b[0;36mPandasConversionMixin.toPandas\u001b[1;34m(self)\u001b[0m\n\u001b[0;32m     89\u001b[0m \u001b[38;5;28;01mimport\u001b[39;00m \u001b[38;5;21;01mpandas\u001b[39;00m \u001b[38;5;28;01mas\u001b[39;00m \u001b[38;5;21;01mpd\u001b[39;00m\n\u001b[0;32m     90\u001b[0m \u001b[38;5;28;01mfrom\u001b[39;00m \u001b[38;5;21;01mpandas\u001b[39;00m\u001b[38;5;21;01m.\u001b[39;00m\u001b[38;5;21;01mcore\u001b[39;00m\u001b[38;5;21;01m.\u001b[39;00m\u001b[38;5;21;01mdtypes\u001b[39;00m\u001b[38;5;21;01m.\u001b[39;00m\u001b[38;5;21;01mcommon\u001b[39;00m \u001b[38;5;28;01mimport\u001b[39;00m is_timedelta64_dtype\n\u001b[1;32m---> 92\u001b[0m jconf \u001b[38;5;241m=\u001b[39m \u001b[38;5;28;43mself\u001b[39;49m\u001b[38;5;241;43m.\u001b[39;49m\u001b[43msparkSession\u001b[49m\u001b[38;5;241;43m.\u001b[39;49m\u001b[43m_jconf\u001b[49m\n\u001b[0;32m     93\u001b[0m timezone \u001b[38;5;241m=\u001b[39m jconf\u001b[38;5;241m.\u001b[39msessionLocalTimeZone()\n\u001b[0;32m     95\u001b[0m \u001b[38;5;28;01mif\u001b[39;00m jconf\u001b[38;5;241m.\u001b[39marrowPySparkEnabled():\n",
      "File \u001b[1;32mC:\\Spark\\spark-3.3.2-bin-hadoop2\\python\\lib\\pyspark.zip\\pyspark\\sql\\session.py:342\u001b[0m, in \u001b[0;36mSparkSession._jconf\u001b[1;34m(self)\u001b[0m\n\u001b[0;32m    339\u001b[0m \u001b[38;5;129m@property\u001b[39m\n\u001b[0;32m    340\u001b[0m \u001b[38;5;28;01mdef\u001b[39;00m \u001b[38;5;21m_jconf\u001b[39m(\u001b[38;5;28mself\u001b[39m) \u001b[38;5;241m-\u001b[39m\u001b[38;5;241m>\u001b[39m \u001b[38;5;124m\"\u001b[39m\u001b[38;5;124mJavaObject\u001b[39m\u001b[38;5;124m\"\u001b[39m:\n\u001b[0;32m    341\u001b[0m     \u001b[38;5;124;03m\"\"\"Accessor for the JVM SQL-specific configurations\"\"\"\u001b[39;00m\n\u001b[1;32m--> 342\u001b[0m     \u001b[38;5;28;01mreturn\u001b[39;00m \u001b[38;5;28;43mself\u001b[39;49m\u001b[38;5;241;43m.\u001b[39;49m\u001b[43m_jsparkSession\u001b[49m\u001b[38;5;241;43m.\u001b[39;49m\u001b[43msessionState\u001b[49m\u001b[43m(\u001b[49m\u001b[43m)\u001b[49m\u001b[38;5;241m.\u001b[39mconf()\n",
      "File \u001b[1;32mC:\\Spark\\spark-3.3.2-bin-hadoop2\\python\\lib\\py4j-0.10.9.5-src.zip\\py4j\\java_gateway.py:1320\u001b[0m, in \u001b[0;36mJavaMember.__call__\u001b[1;34m(self, *args)\u001b[0m\n\u001b[0;32m   1313\u001b[0m args_command, temp_args \u001b[38;5;241m=\u001b[39m \u001b[38;5;28mself\u001b[39m\u001b[38;5;241m.\u001b[39m_build_args(\u001b[38;5;241m*\u001b[39margs)\n\u001b[0;32m   1315\u001b[0m command \u001b[38;5;241m=\u001b[39m proto\u001b[38;5;241m.\u001b[39mCALL_COMMAND_NAME \u001b[38;5;241m+\u001b[39m\\\n\u001b[0;32m   1316\u001b[0m     \u001b[38;5;28mself\u001b[39m\u001b[38;5;241m.\u001b[39mcommand_header \u001b[38;5;241m+\u001b[39m\\\n\u001b[0;32m   1317\u001b[0m     args_command \u001b[38;5;241m+\u001b[39m\\\n\u001b[0;32m   1318\u001b[0m     proto\u001b[38;5;241m.\u001b[39mEND_COMMAND_PART\n\u001b[1;32m-> 1320\u001b[0m answer \u001b[38;5;241m=\u001b[39m \u001b[38;5;28;43mself\u001b[39;49m\u001b[38;5;241;43m.\u001b[39;49m\u001b[43mgateway_client\u001b[49m\u001b[38;5;241;43m.\u001b[39;49m\u001b[43msend_command\u001b[49m\u001b[43m(\u001b[49m\u001b[43mcommand\u001b[49m\u001b[43m)\u001b[49m\n\u001b[0;32m   1321\u001b[0m return_value \u001b[38;5;241m=\u001b[39m get_return_value(\n\u001b[0;32m   1322\u001b[0m     answer, \u001b[38;5;28mself\u001b[39m\u001b[38;5;241m.\u001b[39mgateway_client, \u001b[38;5;28mself\u001b[39m\u001b[38;5;241m.\u001b[39mtarget_id, \u001b[38;5;28mself\u001b[39m\u001b[38;5;241m.\u001b[39mname)\n\u001b[0;32m   1324\u001b[0m \u001b[38;5;28;01mfor\u001b[39;00m temp_arg \u001b[38;5;129;01min\u001b[39;00m temp_args:\n",
      "File \u001b[1;32mC:\\Spark\\spark-3.3.2-bin-hadoop2\\python\\lib\\py4j-0.10.9.5-src.zip\\py4j\\java_gateway.py:1036\u001b[0m, in \u001b[0;36mGatewayClient.send_command\u001b[1;34m(self, command, retry, binary)\u001b[0m\n\u001b[0;32m   1015\u001b[0m \u001b[38;5;28;01mdef\u001b[39;00m \u001b[38;5;21msend_command\u001b[39m(\u001b[38;5;28mself\u001b[39m, command, retry\u001b[38;5;241m=\u001b[39m\u001b[38;5;28;01mTrue\u001b[39;00m, binary\u001b[38;5;241m=\u001b[39m\u001b[38;5;28;01mFalse\u001b[39;00m):\n\u001b[0;32m   1016\u001b[0m     \u001b[38;5;124;03m\"\"\"Sends a command to the JVM. This method is not intended to be\u001b[39;00m\n\u001b[0;32m   1017\u001b[0m \u001b[38;5;124;03m       called directly by Py4J users. It is usually called by\u001b[39;00m\n\u001b[0;32m   1018\u001b[0m \u001b[38;5;124;03m       :class:`JavaMember` instances.\u001b[39;00m\n\u001b[1;32m   (...)\u001b[0m\n\u001b[0;32m   1034\u001b[0m \u001b[38;5;124;03m     if `binary` is `True`.\u001b[39;00m\n\u001b[0;32m   1035\u001b[0m \u001b[38;5;124;03m    \"\"\"\u001b[39;00m\n\u001b[1;32m-> 1036\u001b[0m     connection \u001b[38;5;241m=\u001b[39m \u001b[38;5;28;43mself\u001b[39;49m\u001b[38;5;241;43m.\u001b[39;49m\u001b[43m_get_connection\u001b[49m\u001b[43m(\u001b[49m\u001b[43m)\u001b[49m\n\u001b[0;32m   1037\u001b[0m     \u001b[38;5;28;01mtry\u001b[39;00m:\n\u001b[0;32m   1038\u001b[0m         response \u001b[38;5;241m=\u001b[39m connection\u001b[38;5;241m.\u001b[39msend_command(command)\n",
      "File \u001b[1;32mC:\\Spark\\spark-3.3.2-bin-hadoop2\\python\\lib\\py4j-0.10.9.5-src.zip\\py4j\\clientserver.py:284\u001b[0m, in \u001b[0;36mJavaClient._get_connection\u001b[1;34m(self)\u001b[0m\n\u001b[0;32m    281\u001b[0m     \u001b[38;5;28;01mpass\u001b[39;00m\n\u001b[0;32m    283\u001b[0m \u001b[38;5;28;01mif\u001b[39;00m connection \u001b[38;5;129;01mis\u001b[39;00m \u001b[38;5;28;01mNone\u001b[39;00m \u001b[38;5;129;01mor\u001b[39;00m connection\u001b[38;5;241m.\u001b[39msocket \u001b[38;5;129;01mis\u001b[39;00m \u001b[38;5;28;01mNone\u001b[39;00m:\n\u001b[1;32m--> 284\u001b[0m     connection \u001b[38;5;241m=\u001b[39m \u001b[38;5;28;43mself\u001b[39;49m\u001b[38;5;241;43m.\u001b[39;49m\u001b[43m_create_new_connection\u001b[49m\u001b[43m(\u001b[49m\u001b[43m)\u001b[49m\n\u001b[0;32m    285\u001b[0m \u001b[38;5;28;01mreturn\u001b[39;00m connection\n",
      "File \u001b[1;32mC:\\Spark\\spark-3.3.2-bin-hadoop2\\python\\lib\\py4j-0.10.9.5-src.zip\\py4j\\clientserver.py:291\u001b[0m, in \u001b[0;36mJavaClient._create_new_connection\u001b[1;34m(self)\u001b[0m\n\u001b[0;32m    287\u001b[0m \u001b[38;5;28;01mdef\u001b[39;00m \u001b[38;5;21m_create_new_connection\u001b[39m(\u001b[38;5;28mself\u001b[39m):\n\u001b[0;32m    288\u001b[0m     connection \u001b[38;5;241m=\u001b[39m ClientServerConnection(\n\u001b[0;32m    289\u001b[0m         \u001b[38;5;28mself\u001b[39m\u001b[38;5;241m.\u001b[39mjava_parameters, \u001b[38;5;28mself\u001b[39m\u001b[38;5;241m.\u001b[39mpython_parameters,\n\u001b[0;32m    290\u001b[0m         \u001b[38;5;28mself\u001b[39m\u001b[38;5;241m.\u001b[39mgateway_property, \u001b[38;5;28mself\u001b[39m)\n\u001b[1;32m--> 291\u001b[0m     \u001b[43mconnection\u001b[49m\u001b[38;5;241;43m.\u001b[39;49m\u001b[43mconnect_to_java_server\u001b[49m\u001b[43m(\u001b[49m\u001b[43m)\u001b[49m\n\u001b[0;32m    292\u001b[0m     \u001b[38;5;28mself\u001b[39m\u001b[38;5;241m.\u001b[39mset_thread_connection(connection)\n\u001b[0;32m    293\u001b[0m     \u001b[38;5;28;01mreturn\u001b[39;00m connection\n",
      "File \u001b[1;32mC:\\Spark\\spark-3.3.2-bin-hadoop2\\python\\lib\\py4j-0.10.9.5-src.zip\\py4j\\clientserver.py:438\u001b[0m, in \u001b[0;36mClientServerConnection.connect_to_java_server\u001b[1;34m(self)\u001b[0m\n\u001b[0;32m    435\u001b[0m \u001b[38;5;28;01mif\u001b[39;00m \u001b[38;5;28mself\u001b[39m\u001b[38;5;241m.\u001b[39mssl_context:\n\u001b[0;32m    436\u001b[0m     \u001b[38;5;28mself\u001b[39m\u001b[38;5;241m.\u001b[39msocket \u001b[38;5;241m=\u001b[39m \u001b[38;5;28mself\u001b[39m\u001b[38;5;241m.\u001b[39mssl_context\u001b[38;5;241m.\u001b[39mwrap_socket(\n\u001b[0;32m    437\u001b[0m         \u001b[38;5;28mself\u001b[39m\u001b[38;5;241m.\u001b[39msocket, server_hostname\u001b[38;5;241m=\u001b[39m\u001b[38;5;28mself\u001b[39m\u001b[38;5;241m.\u001b[39mjava_address)\n\u001b[1;32m--> 438\u001b[0m \u001b[38;5;28;43mself\u001b[39;49m\u001b[38;5;241;43m.\u001b[39;49m\u001b[43msocket\u001b[49m\u001b[38;5;241;43m.\u001b[39;49m\u001b[43mconnect\u001b[49m\u001b[43m(\u001b[49m\u001b[43m(\u001b[49m\u001b[38;5;28;43mself\u001b[39;49m\u001b[38;5;241;43m.\u001b[39;49m\u001b[43mjava_address\u001b[49m\u001b[43m,\u001b[49m\u001b[43m \u001b[49m\u001b[38;5;28;43mself\u001b[39;49m\u001b[38;5;241;43m.\u001b[39;49m\u001b[43mjava_port\u001b[49m\u001b[43m)\u001b[49m\u001b[43m)\u001b[49m\n\u001b[0;32m    439\u001b[0m \u001b[38;5;28mself\u001b[39m\u001b[38;5;241m.\u001b[39mstream \u001b[38;5;241m=\u001b[39m \u001b[38;5;28mself\u001b[39m\u001b[38;5;241m.\u001b[39msocket\u001b[38;5;241m.\u001b[39mmakefile(\u001b[38;5;124m\"\u001b[39m\u001b[38;5;124mrb\u001b[39m\u001b[38;5;124m\"\u001b[39m)\n\u001b[0;32m    440\u001b[0m \u001b[38;5;28mself\u001b[39m\u001b[38;5;241m.\u001b[39mis_connected \u001b[38;5;241m=\u001b[39m \u001b[38;5;28;01mTrue\u001b[39;00m\n",
      "\u001b[1;31mConnectionRefusedError\u001b[0m: [WinError 10061] No connection could be made because the target machine actively refused it"
     ]
    }
   ],
   "source": [
    "data.toPandas().to_csv(\"../data/EDA/after_imputation_all.csv\")"
   ]
  },
  {
   "cell_type": "markdown",
   "id": "846a9dc8",
   "metadata": {},
   "source": [
    "#### Remove columns with more than 50% missing values"
   ]
  },
  {
   "cell_type": "code",
   "execution_count": null,
   "id": "69fe3774",
   "metadata": {
    "scrolled": true
   },
   "outputs": [],
   "source": [
    "dt = data.describe().toPandas()\n",
    "dt"
   ]
  },
  {
   "cell_type": "code",
   "execution_count": null,
   "id": "a9ce37f7",
   "metadata": {
    "scrolled": true
   },
   "outputs": [],
   "source": [
    "# identify and get columns with < 50% missing values\n",
    "dt_t = dt.T\n",
    "dt_t.columns = dt_t.iloc[0]\n",
    "dt_t.drop(dt_t.index[0], inplace=True)\n",
    "#dt_t.drop(dt_t.index[89], inplace=True)\n",
    "dt_t[\"count\"] = dt_t['count'].astype(int)\n",
    "dt_t['missing_percentage'] = 100 - (dt_t[\"count\"] / data.count())*100\n",
    "print(dt_t)\n",
    "dt_t = dt_t[dt_t[\"missing_percentage\"] < 50]\n",
    "print(dt_t)\n",
    "print(dt_t.shape)"
   ]
  },
  {
   "cell_type": "markdown",
   "id": "d6a5debb",
   "metadata": {},
   "source": [
    "After removing all the columns with missing value % >= 50, we get remaining 45 feature fields which are as follows."
   ]
  },
  {
   "cell_type": "code",
   "execution_count": null,
   "id": "5b10f19e",
   "metadata": {
    "scrolled": true
   },
   "outputs": [],
   "source": [
    "print(dt_t.shape)\n",
    "dt_t.index"
   ]
  },
  {
   "cell_type": "code",
   "execution_count": null,
   "id": "4bd802e5",
   "metadata": {},
   "outputs": [],
   "source": [
    "# Filter out only the identified column data from the data\n",
    "data = data.select(dt_t.index.values.tolist())"
   ]
  },
  {
   "cell_type": "code",
   "execution_count": null,
   "id": "fb585123",
   "metadata": {
    "scrolled": true
   },
   "outputs": [],
   "source": [
    "# round off age by 2 decimal point\n",
    "print(data.printSchema())\n",
    "data.describe().toPandas()"
   ]
  },
  {
   "cell_type": "markdown",
   "id": "59341cea",
   "metadata": {},
   "source": [
    "No columns removed."
   ]
  },
  {
   "cell_type": "markdown",
   "id": "d42ae480",
   "metadata": {},
   "source": [
    "#### retain rows which has missing values less than 25% of the columns."
   ]
  },
  {
   "cell_type": "code",
   "execution_count": null,
   "id": "cd0e9252",
   "metadata": {
    "scrolled": true
   },
   "outputs": [],
   "source": [
    "# calculate missing percentage for every row\n",
    "from operator import add\n",
    "from functools import reduce\n",
    "for c in data2.columns:\n",
    "    if ('missing_' not in c) and (c not in (\"subject_id\", \"age\", \"gender\", \"hadm_id\", \"charlson_comorbidity_index\")):\n",
    "            data = data.withColumn('missing_' + c, F.when(F.col(c).isNull(), 1).otherwise(0))\n",
    "\n",
    "data = data.withColumn('missing_percentage', (reduce(add, [F.col(x) for x in data.columns if \"missing_\" in x])/(len(data.columns)-5))*100)\n",
    "data.toPandas()"
   ]
  },
  {
   "cell_type": "code",
   "execution_count": null,
   "id": "f16f2c56",
   "metadata": {},
   "outputs": [],
   "source": [
    "data.groupBy(\"missing_percentage\").count().toPandas()"
   ]
  },
  {
   "cell_type": "code",
   "execution_count": null,
   "id": "5a7c7675",
   "metadata": {},
   "outputs": [],
   "source": [
    "data3 = data.filter(\"missing_percentage < 25\")"
   ]
  },
  {
   "cell_type": "code",
   "execution_count": null,
   "id": "16a8543f",
   "metadata": {},
   "outputs": [],
   "source": [
    "print(data.count())\n",
    "print(data3.count())\n"
   ]
  },
  {
   "cell_type": "markdown",
   "id": "8ce779fa",
   "metadata": {},
   "source": [
    "None of the rows has missing % >= 25"
   ]
  },
  {
   "cell_type": "code",
   "execution_count": null,
   "id": "7fa21b3c",
   "metadata": {},
   "outputs": [],
   "source": [
    "print(len(data3.columns))\n",
    "condition = lambda x: (\"missing_\" in x)\n",
    "data3 = data3.drop(*filter(condition, data3.columns))\n",
    "len(data3.columns)"
   ]
  },
  {
   "cell_type": "code",
   "execution_count": null,
   "id": "fd14ab58",
   "metadata": {},
   "outputs": [],
   "source": [
    "data3.toPandas().to_csv(\"../data/EDA/after_eda_all.csv\")"
   ]
  },
  {
   "cell_type": "code",
   "execution_count": null,
   "id": "708c9223",
   "metadata": {},
   "outputs": [],
   "source": [
    "data4 = spark.read.option(\"header\",\"true\").csv(\"../data/EDA/after_eda_all.csv\")\n",
    "data4.printSchema()"
   ]
  },
  {
   "cell_type": "code",
   "execution_count": null,
   "id": "3ddf9c45",
   "metadata": {},
   "outputs": [],
   "source": [
    "# get the first admission readings and last admission co-morbidity index value\n",
    "from pyspark.sql.window import Window\n",
    "import pyspark.sql.functions as F\n",
    "subject_win = Window.partitionBy(\"subject_id\").orderBy((\"age\"))\n",
    "base_data = data4.withColumn(\"row\",F.row_number().over(subject_win)) \\\n",
    "  .filter(F.col(\"row\") == 1).drop(\"row\", \"charlson_comorbidity_index\")"
   ]
  },
  {
   "cell_type": "code",
   "execution_count": null,
   "id": "c387fdfd",
   "metadata": {},
   "outputs": [],
   "source": [
    "base_data.count()"
   ]
  },
  {
   "cell_type": "code",
   "execution_count": null,
   "id": "a1de595c",
   "metadata": {},
   "outputs": [],
   "source": [
    "subject_win_predict = Window.partitionBy(\"subject_id\").orderBy(F.desc(\"age\"))\n",
    "base_data_predict = data4.withColumn(\"row\",F.row_number().over(subject_win_predict)) \\\n",
    "  .filter(F.col(\"row\") == 1).select(\"subject_id\", \"charlson_comorbidity_index\")\n",
    "base_data_predict.count()"
   ]
  },
  {
   "cell_type": "code",
   "execution_count": null,
   "id": "d6a0d389",
   "metadata": {},
   "outputs": [],
   "source": [
    "print(base_data.columns)\n",
    "print(base_data_predict.columns)"
   ]
  },
  {
   "cell_type": "code",
   "execution_count": null,
   "id": "471fc7e8",
   "metadata": {},
   "outputs": [],
   "source": [
    "base_data.toPandas()"
   ]
  },
  {
   "cell_type": "code",
   "execution_count": null,
   "id": "ab612283",
   "metadata": {},
   "outputs": [],
   "source": [
    "base_data = base_data.drop(\"_c0\")"
   ]
  },
  {
   "cell_type": "code",
   "execution_count": null,
   "id": "170bfaa7",
   "metadata": {},
   "outputs": [],
   "source": [
    "base_data.toPandas()"
   ]
  },
  {
   "cell_type": "code",
   "execution_count": null,
   "id": "21d3490f",
   "metadata": {
    "scrolled": true
   },
   "outputs": [],
   "source": [
    "base_data_predict.toPandas()"
   ]
  },
  {
   "cell_type": "code",
   "execution_count": null,
   "id": "a0e41271",
   "metadata": {},
   "outputs": [],
   "source": [
    "base_data.toPandas().to_csv(\"../data/EDA/clustering_data_all.csv\")\n",
    "base_data_predict.toPandas().to_csv(\"../data/EDA/prediction_value_all.csv\")"
   ]
  },
  {
   "cell_type": "code",
   "execution_count": null,
   "id": "97c50a3b",
   "metadata": {},
   "outputs": [],
   "source": []
  }
 ],
 "metadata": {
  "kernelspec": {
   "display_name": "Python 3 (ipykernel)",
   "language": "python",
   "name": "python3"
  },
  "language_info": {
   "codemirror_mode": {
    "name": "ipython",
    "version": 3
   },
   "file_extension": ".py",
   "mimetype": "text/x-python",
   "name": "python",
   "nbconvert_exporter": "python",
   "pygments_lexer": "ipython3",
   "version": "3.9.12"
  }
 },
 "nbformat": 4,
 "nbformat_minor": 5
}
